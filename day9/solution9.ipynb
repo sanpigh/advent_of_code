{
 "cells": [
  {
   "cell_type": "code",
   "execution_count": 24,
   "id": "8f41ba2d-e590-48a3-89e2-3709b4c398f8",
   "metadata": {},
   "outputs": [],
   "source": [
    "import pandas as pd\n",
    "import numpy as np\n",
    "\n",
    "with open('input') as f:\n",
    "    lines_bck = f.read().splitlines()\n",
    "\n",
    "def split(word):\n",
    "    return [char for char in word]    \n",
    "    \n",
    "lines = [char for char in [x for x in lines_bck]]\n",
    "lines = [split(x) for x in lines_bck]\n",
    "a = np.asarray(lines)"
   ]
  },
  {
   "cell_type": "code",
   "execution_count": 40,
   "id": "1d6b3def-0b81-4898-9be1-358691abdb1d",
   "metadata": {},
   "outputs": [
    {
     "name": "stdout",
     "output_type": "stream",
     "text": [
      "(102, 102)\n",
      "99\n"
     ]
    }
   ],
   "source": [
    "shape = a.shape\n",
    "shape = (a.shape[0]+2, a.shape[1]+2)\n",
    "b = np.zeros(shape, dtype=int)\n",
    "b = b+99\n",
    "print(b.shape)\n",
    "print(b[0,0])"
   ]
  },
  {
   "cell_type": "code",
   "execution_count": 41,
   "id": "dfee5a84-f56b-4354-8ee8-8b982eadea80",
   "metadata": {},
   "outputs": [],
   "source": [
    "b[1:-1, 1:-1] = a\n"
   ]
  },
  {
   "cell_type": "code",
   "execution_count": 43,
   "id": "6b776f4e-fb1d-49ec-8e16-24a93cf5357f",
   "metadata": {},
   "outputs": [
    {
     "data": {
      "text/plain": [
       "array([99, 99, 99, 99, 99, 99, 99, 99, 99, 99, 99, 99, 99, 99, 99, 99, 99,\n",
       "       99, 99, 99, 99, 99, 99, 99, 99, 99, 99, 99, 99, 99, 99, 99, 99, 99,\n",
       "       99, 99, 99, 99, 99, 99, 99, 99, 99, 99, 99, 99, 99, 99, 99, 99, 99,\n",
       "       99, 99, 99, 99, 99, 99, 99, 99, 99, 99, 99, 99, 99, 99, 99, 99, 99,\n",
       "       99, 99, 99, 99, 99, 99, 99, 99, 99, 99, 99, 99, 99, 99, 99, 99, 99,\n",
       "       99, 99, 99, 99, 99, 99, 99, 99, 99, 99, 99, 99, 99, 99, 99, 99, 99])"
      ]
     },
     "execution_count": 43,
     "metadata": {},
     "output_type": "execute_result"
    }
   ],
   "source": [
    "b[:,0]"
   ]
  },
  {
   "cell_type": "code",
   "execution_count": 44,
   "id": "31f0d8da-af65-4ac6-881c-b6e4e4b3526e",
   "metadata": {},
   "outputs": [
    {
     "data": {
      "text/plain": [
       "array([99,  8,  6,  5,  3,  4,  3,  4,  5,  9,  8,  9,  9,  9,  8,  9,  9,\n",
       "        9,  8,  7,  6,  5,  6,  7,  9,  8,  7,  8,  7,  8,  9,  5,  6,  8,\n",
       "        9,  8,  9,  6,  7,  9,  9,  9,  8,  7,  6,  5,  4,  6,  7,  8,  9,\n",
       "        8,  6,  7,  8,  9,  8,  7,  7,  8,  9,  2,  1,  3,  4,  9,  8,  7,\n",
       "        4,  3,  2,  0,  3,  4,  7,  9,  2,  1,  9,  5,  4,  3,  2,  3,  4,\n",
       "        5,  6,  7,  8,  9,  7,  5,  4,  5,  5,  7,  8,  9,  9,  9,  8, 99])"
      ]
     },
     "execution_count": 44,
     "metadata": {},
     "output_type": "execute_result"
    }
   ],
   "source": [
    "b[:,1]"
   ]
  },
  {
   "cell_type": "code",
   "execution_count": 45,
   "id": "25a0e327-d9c5-47b9-9e3b-b35b8dd01f86",
   "metadata": {},
   "outputs": [
    {
     "data": {
      "text/plain": [
       "array([99,  9,  2,  0,  9,  7,  9,  8,  7,  6,  7,  8,  9,  2,  3,  9,  8,\n",
       "        4,  3,  4,  5,  8,  9,  3,  4,  5,  9,  7,  9,  8,  7,  8,  9,  6,\n",
       "        5,  4,  3,  5,  6,  9,  8,  7,  6,  5,  6,  7,  8,  9,  3,  2,  1,\n",
       "        2,  9,  2,  0,  1,  9,  5,  4,  2,  1,  0,  9,  8,  6,  6,  5,  4,\n",
       "        2,  1,  2,  3,  4,  5,  7,  8,  9,  8,  9,  9,  9,  8,  7,  7,  8,\n",
       "        9,  7,  9,  9,  9,  8,  7,  6,  5,  7,  6,  5,  4,  9,  9,  9, 99])"
      ]
     },
     "execution_count": 45,
     "metadata": {},
     "output_type": "execute_result"
    }
   ],
   "source": [
    "b[:,-2]"
   ]
  },
  {
   "cell_type": "code",
   "execution_count": 46,
   "id": "ad3ea3d1-a8f6-42e8-a48f-501e83ce66da",
   "metadata": {},
   "outputs": [
    {
     "data": {
      "text/plain": [
       "array([99, 99, 99, 99, 99, 99, 99, 99, 99, 99, 99, 99, 99, 99, 99, 99, 99,\n",
       "       99, 99, 99, 99, 99, 99, 99, 99, 99, 99, 99, 99, 99, 99, 99, 99, 99,\n",
       "       99, 99, 99, 99, 99, 99, 99, 99, 99, 99, 99, 99, 99, 99, 99, 99, 99,\n",
       "       99, 99, 99, 99, 99, 99, 99, 99, 99, 99, 99, 99, 99, 99, 99, 99, 99,\n",
       "       99, 99, 99, 99, 99, 99, 99, 99, 99, 99, 99, 99, 99, 99, 99, 99, 99,\n",
       "       99, 99, 99, 99, 99, 99, 99, 99, 99, 99, 99, 99, 99, 99, 99, 99, 99])"
      ]
     },
     "execution_count": 46,
     "metadata": {},
     "output_type": "execute_result"
    }
   ],
   "source": [
    "b[:,-1]"
   ]
  },
  {
   "cell_type": "code",
   "execution_count": 53,
   "id": "aaba7656-e4a3-4eb6-8b57-4a27dc769f53",
   "metadata": {},
   "outputs": [
    {
     "data": {
      "text/plain": [
       "564"
      ]
     },
     "execution_count": 53,
     "metadata": {},
     "output_type": "execute_result"
    }
   ],
   "source": [
    "suma = 0\n",
    "for x in range(1,b.shape[0]-1):\n",
    "    for y in range(1,b.shape[0]-1):\n",
    "#         print(x,y)\n",
    "        if ((b[x,y] < b[x-1,y]) and (b[x,y] < b[x+1,y]) and (b[x,y] < b[x,y-1]) and (b[x,y] < b[x,y+1])):\n",
    "            suma += b[x,y] +1\n",
    "\n",
    "suma"
   ]
  },
  {
   "cell_type": "markdown",
   "id": "bc3b4d1f-73c5-497c-b33b-f7d6bddbec5d",
   "metadata": {},
   "source": [
    "## second part"
   ]
  },
  {
   "cell_type": "code",
   "execution_count": 67,
   "id": "51d030cd-1b35-4ed8-957f-b61bee394bf1",
   "metadata": {},
   "outputs": [],
   "source": [
    "bassin_lens = []\n",
    "for x in range(1,b.shape[0]-1):\n",
    "    for y in range(1,b.shape[0]-1):\n",
    "#         print(x,y)\n",
    "        if ((b[x,y] < b[x-1,y]) and (b[x,y] < b[x+1,y]) and (b[x,y] < b[x,y-1]) and (b[x,y] < b[x,y+1])):\n",
    "            bassin_pos = set()\n",
    "            bassin_pos.add((x,y))\n",
    "            prev_len = 0\n",
    "            while len(bassin_pos) > prev_len: # mientras se sigan agregando puntos al bassin\n",
    "                prev_len = len(bassin_pos)\n",
    "                bassin_pos_tmp = bassin_pos.copy()\n",
    "                for point in bassin_pos_tmp:\n",
    "                    if b[point[0]+1, point[1]] < 9:\n",
    "                        bassin_pos.add((point[0]+1, point[1]))\n",
    "                    if b[point[0]-1, point[1]] < 9:\n",
    "                        bassin_pos.add((point[0]-1, point[1]))\n",
    "                    if b[point[0], point[1]+1] < 9:\n",
    "                        bassin_pos.add((point[0], point[1]+1))\n",
    "                    if b[point[0], point[1]-1] < 9:\n",
    "                        bassin_pos.add((point[0], point[1]-1))\n",
    "                \n",
    "            bassin_lens.append(prev_len)\n",
    "            \n",
    "            \n"
   ]
  },
  {
   "cell_type": "code",
   "execution_count": 74,
   "id": "372dcf7d-23f1-4b3a-a153-a304e3d406d5",
   "metadata": {},
   "outputs": [
    {
     "name": "stdout",
     "output_type": "stream",
     "text": [
      "70 105\n",
      "179 103\n",
      "173 96\n"
     ]
    }
   ],
   "source": [
    "for i in range(3):\n",
    "    max_value = max(bassin_lens)\n",
    "    max_index = bassin_lens.index(max_value)\n",
    "    print(max_index, max_value)\n",
    "    bassin_lens.pop(max_index)\n",
    "#     bassin_lens\n"
   ]
  },
  {
   "cell_type": "code",
   "execution_count": 75,
   "id": "8d2ac51c-04cc-4e45-a86e-71cb5d19d177",
   "metadata": {},
   "outputs": [
    {
     "data": {
      "text/plain": [
       "1038240"
      ]
     },
     "execution_count": 75,
     "metadata": {},
     "output_type": "execute_result"
    }
   ],
   "source": [
    "105*103*96"
   ]
  },
  {
   "cell_type": "code",
   "execution_count": 64,
   "id": "920a10d9-ea89-49cf-83f8-26de6b32f15b",
   "metadata": {},
   "outputs": [
    {
     "name": "stdout",
     "output_type": "stream",
     "text": [
      "100\n"
     ]
    }
   ],
   "source": [
    "for point in bassin_pos:\n",
    "    print(point[0])"
   ]
  },
  {
   "cell_type": "code",
   "execution_count": null,
   "id": "d30aac97-9421-419d-ab52-4a2fe1f69013",
   "metadata": {},
   "outputs": [],
   "source": []
  }
 ],
 "metadata": {
  "kernelspec": {
   "display_name": "Python 3 (ipykernel)",
   "language": "python",
   "name": "python3"
  },
  "language_info": {
   "codemirror_mode": {
    "name": "ipython",
    "version": 3
   },
   "file_extension": ".py",
   "mimetype": "text/x-python",
   "name": "python",
   "nbconvert_exporter": "python",
   "pygments_lexer": "ipython3",
   "version": "3.8.12"
  }
 },
 "nbformat": 4,
 "nbformat_minor": 5
}
