{
 "cells": [
  {
   "cell_type": "code",
   "execution_count": 1,
   "id": "9301767e-eaa0-4eb9-b86e-f7e88f6733b8",
   "metadata": {},
   "outputs": [],
   "source": [
    "import pandas as pd\n",
    "import numpy as np\n"
   ]
  },
  {
   "cell_type": "code",
   "execution_count": 64,
   "id": "64ee05d2-5590-4e63-a5f2-3a89d351a3b2",
   "metadata": {},
   "outputs": [
    {
     "data": {
      "text/html": [
       "<div>\n",
       "<style scoped>\n",
       "    .dataframe tbody tr th:only-of-type {\n",
       "        vertical-align: middle;\n",
       "    }\n",
       "\n",
       "    .dataframe tbody tr th {\n",
       "        vertical-align: top;\n",
       "    }\n",
       "\n",
       "    .dataframe thead th {\n",
       "        text-align: right;\n",
       "    }\n",
       "</style>\n",
       "<table border=\"1\" class=\"dataframe\">\n",
       "  <thead>\n",
       "    <tr style=\"text-align: right;\">\n",
       "      <th></th>\n",
       "      <th>0</th>\n",
       "      <th>1</th>\n",
       "    </tr>\n",
       "  </thead>\n",
       "  <tbody>\n",
       "    <tr>\n",
       "      <th>0</th>\n",
       "      <td>forward</td>\n",
       "      <td>4</td>\n",
       "    </tr>\n",
       "    <tr>\n",
       "      <th>1</th>\n",
       "      <td>forward</td>\n",
       "      <td>6</td>\n",
       "    </tr>\n",
       "    <tr>\n",
       "      <th>2</th>\n",
       "      <td>down</td>\n",
       "      <td>8</td>\n",
       "    </tr>\n",
       "    <tr>\n",
       "      <th>3</th>\n",
       "      <td>forward</td>\n",
       "      <td>3</td>\n",
       "    </tr>\n",
       "    <tr>\n",
       "      <th>4</th>\n",
       "      <td>forward</td>\n",
       "      <td>9</td>\n",
       "    </tr>\n",
       "    <tr>\n",
       "      <th>...</th>\n",
       "      <td>...</td>\n",
       "      <td>...</td>\n",
       "    </tr>\n",
       "    <tr>\n",
       "      <th>995</th>\n",
       "      <td>down</td>\n",
       "      <td>1</td>\n",
       "    </tr>\n",
       "    <tr>\n",
       "      <th>996</th>\n",
       "      <td>up</td>\n",
       "      <td>8</td>\n",
       "    </tr>\n",
       "    <tr>\n",
       "      <th>997</th>\n",
       "      <td>up</td>\n",
       "      <td>4</td>\n",
       "    </tr>\n",
       "    <tr>\n",
       "      <th>998</th>\n",
       "      <td>down</td>\n",
       "      <td>6</td>\n",
       "    </tr>\n",
       "    <tr>\n",
       "      <th>999</th>\n",
       "      <td>forward</td>\n",
       "      <td>8</td>\n",
       "    </tr>\n",
       "  </tbody>\n",
       "</table>\n",
       "<p>1000 rows × 2 columns</p>\n",
       "</div>"
      ],
      "text/plain": [
       "           0  1\n",
       "0    forward  4\n",
       "1    forward  6\n",
       "2       down  8\n",
       "3    forward  3\n",
       "4    forward  9\n",
       "..       ... ..\n",
       "995     down  1\n",
       "996       up  8\n",
       "997       up  4\n",
       "998     down  6\n",
       "999  forward  8\n",
       "\n",
       "[1000 rows x 2 columns]"
      ]
     },
     "execution_count": 64,
     "metadata": {},
     "output_type": "execute_result"
    }
   ],
   "source": [
    "df = pd.read_csv('input', header=None, delimiter=' ')\n",
    "df"
   ]
  },
  {
   "cell_type": "code",
   "execution_count": 32,
   "id": "ffe5d1b7-1cb4-4c29-aeb6-9bfd4c04911e",
   "metadata": {},
   "outputs": [],
   "source": [
    "def depth(row):\n",
    "    if row[0] == 'up':\n",
    "        ans = row[1]\n",
    "    if row[0] == 'down':\n",
    "        ans = -row[1]\n",
    "    if row[0] == 'forward':\n",
    "        ans = 0\n",
    "#     print('ans', ans)\n",
    "    return ans "
   ]
  },
  {
   "cell_type": "code",
   "execution_count": 40,
   "id": "b8560e7c-3587-480d-b8ad-93f6e14bd90e",
   "metadata": {},
   "outputs": [
    {
     "data": {
      "text/plain": [
       "-866"
      ]
     },
     "execution_count": 40,
     "metadata": {},
     "output_type": "execute_result"
    }
   ],
   "source": [
    "depth_res = df.apply(lambda x : depth(x), axis=1).sum() # depth\n",
    "depth_res"
   ]
  },
  {
   "cell_type": "code",
   "execution_count": 35,
   "id": "d7aebcc5-e11c-449f-97d5-01ddf91bd728",
   "metadata": {},
   "outputs": [],
   "source": [
    "def distance(row):\n",
    "    if row[0] == 'up':\n",
    "        ans = 0\n",
    "    if row[0] == 'down':\n",
    "        ans = 0\n",
    "    if row[0] == 'forward':\n",
    "        ans = row[1]\n",
    "#     print('ans', ans)\n",
    "    return ans "
   ]
  },
  {
   "cell_type": "code",
   "execution_count": 39,
   "id": "56008f2f-d4f6-4a63-b1f3-3ef39eeb7b9c",
   "metadata": {},
   "outputs": [
    {
     "data": {
      "text/plain": [
       "1980"
      ]
     },
     "execution_count": 39,
     "metadata": {},
     "output_type": "execute_result"
    }
   ],
   "source": [
    "distance_res = df.apply(lambda x : distance(x), axis=1).sum() # distance\n",
    "distance_res"
   ]
  },
  {
   "cell_type": "code",
   "execution_count": 41,
   "id": "6d12a355-8608-485f-bf83-97675facc11f",
   "metadata": {},
   "outputs": [
    {
     "data": {
      "text/plain": [
       "-1714680"
      ]
     },
     "execution_count": 41,
     "metadata": {},
     "output_type": "execute_result"
    }
   ],
   "source": [
    "depth_res*distance_res"
   ]
  },
  {
   "cell_type": "markdown",
   "id": "cbf44deb-4494-4cf8-a98b-659548336990",
   "metadata": {},
   "source": [
    "## 2nd part"
   ]
  },
  {
   "cell_type": "markdown",
   "id": "e16a8d4c-9f00-4829-bc68-5407b895e06e",
   "metadata": {},
   "source": [
    "In addition to horizontal position and depth, you'll also need to track a third value, aim, which also starts at 0. The commands also mean something entirely different than you first thought:\n",
    "\n",
    "    down X increases your aim by X units.\n",
    "    up X decreases your aim by X units.\n",
    "    forward X does two things:\n",
    "        It increases your horizontal position by X units.\n",
    "        It increases your depth by your aim multiplied by X.\n",
    "\n",
    "    forward 5 adds 5 to your horizontal position, a total of 5. Because your aim is 0, your depth does not change.\n",
    "    down 5 adds 5 to your aim, resulting in a value of 5.\n",
    "    forward 8 adds 8 to your horizontal position, a total of 13. Because your aim is 5, your depth increases by 8*5=40.\n",
    "    up 3 decreases your aim by 3, resulting in a value of 2.\n",
    "    down 8 adds 8 to your aim, resulting in a value of 10.\n",
    "    forward 2 adds 2 to your horizontal position, a total of 15. Because your aim is 10, your depth increases by 2*10=20 to a total of 60.\n"
   ]
  },
  {
   "cell_type": "code",
   "execution_count": 66,
   "id": "bf342d00-e8bd-432e-8574-8338c6b57497",
   "metadata": {},
   "outputs": [
    {
     "name": "stdout",
     "output_type": "stream",
     "text": [
      "991459 1980 866\n"
     ]
    }
   ],
   "source": [
    "aim = 0\n",
    "depth = 0\n",
    "distance = 0\n",
    "\n",
    "for index, row in df.iterrows():\n",
    "#     row = df.iloc[index]\n",
    "#     print(index)\n",
    "#     print(row)\n",
    "    if row[0] == 'down':\n",
    "        aim += row[1]\n",
    "    if row[0] == 'up':\n",
    "        aim -= row[1]\n",
    "    if row[0] == 'forward':\n",
    "        distance += row[1]\n",
    "        depth += aim*row[1]\n",
    "        \n",
    "print(depth, distance, aim)\n",
    "    \n",
    "    \n",
    "    \n",
    "    "
   ]
  },
  {
   "cell_type": "code",
   "execution_count": 67,
   "id": "2241d883-bcd2-40a5-8709-0576011b1bd0",
   "metadata": {},
   "outputs": [
    {
     "data": {
      "text/plain": [
       "1963088820"
      ]
     },
     "execution_count": 67,
     "metadata": {},
     "output_type": "execute_result"
    }
   ],
   "source": [
    "depth*distance"
   ]
  },
  {
   "cell_type": "code",
   "execution_count": 59,
   "id": "f05e07fb-8957-493e-9f9b-c3a3cc9a38c6",
   "metadata": {},
   "outputs": [
    {
     "data": {
      "text/html": [
       "<div>\n",
       "<style scoped>\n",
       "    .dataframe tbody tr th:only-of-type {\n",
       "        vertical-align: middle;\n",
       "    }\n",
       "\n",
       "    .dataframe tbody tr th {\n",
       "        vertical-align: top;\n",
       "    }\n",
       "\n",
       "    .dataframe thead th {\n",
       "        text-align: right;\n",
       "    }\n",
       "</style>\n",
       "<table border=\"1\" class=\"dataframe\">\n",
       "  <thead>\n",
       "    <tr style=\"text-align: right;\">\n",
       "      <th></th>\n",
       "      <th>0</th>\n",
       "      <th>1</th>\n",
       "    </tr>\n",
       "  </thead>\n",
       "  <tbody>\n",
       "    <tr>\n",
       "      <th>0</th>\n",
       "      <td>forward</td>\n",
       "      <td>5</td>\n",
       "    </tr>\n",
       "    <tr>\n",
       "      <th>1</th>\n",
       "      <td>down</td>\n",
       "      <td>5</td>\n",
       "    </tr>\n",
       "    <tr>\n",
       "      <th>2</th>\n",
       "      <td>forward</td>\n",
       "      <td>8</td>\n",
       "    </tr>\n",
       "    <tr>\n",
       "      <th>3</th>\n",
       "      <td>up</td>\n",
       "      <td>3</td>\n",
       "    </tr>\n",
       "    <tr>\n",
       "      <th>4</th>\n",
       "      <td>down</td>\n",
       "      <td>8</td>\n",
       "    </tr>\n",
       "    <tr>\n",
       "      <th>5</th>\n",
       "      <td>forward</td>\n",
       "      <td>2</td>\n",
       "    </tr>\n",
       "  </tbody>\n",
       "</table>\n",
       "</div>"
      ],
      "text/plain": [
       "         0  1\n",
       "0  forward  5\n",
       "1     down  5\n",
       "2  forward  8\n",
       "3       up  3\n",
       "4     down  8\n",
       "5  forward  2"
      ]
     },
     "execution_count": 59,
     "metadata": {},
     "output_type": "execute_result"
    }
   ],
   "source": [
    "df = pd.DataFrame( {'0' : ['forward', 'down', 'forward', 'up', 'down', 'forward'],\n",
    "                    '1' : [5, 5, 8, 3, 8, 2]\n",
    "                   })\n",
    "df"
   ]
  },
  {
   "cell_type": "code",
   "execution_count": null,
   "id": "4caa43fb-c345-4ae5-b8e2-43a8acc31c9f",
   "metadata": {},
   "outputs": [],
   "source": []
  }
 ],
 "metadata": {
  "kernelspec": {
   "display_name": "Python 3 (ipykernel)",
   "language": "python",
   "name": "python3"
  },
  "language_info": {
   "codemirror_mode": {
    "name": "ipython",
    "version": 3
   },
   "file_extension": ".py",
   "mimetype": "text/x-python",
   "name": "python",
   "nbconvert_exporter": "python",
   "pygments_lexer": "ipython3",
   "version": "3.8.12"
  }
 },
 "nbformat": 4,
 "nbformat_minor": 5
}
