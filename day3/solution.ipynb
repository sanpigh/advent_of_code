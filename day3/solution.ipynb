{
 "cells": [
  {
   "cell_type": "code",
   "execution_count": 113,
   "id": "72a2579e-3acc-4538-8a2f-264a4625432d",
   "metadata": {},
   "outputs": [
    {
     "data": {
      "text/html": [
       "<div>\n",
       "<style scoped>\n",
       "    .dataframe tbody tr th:only-of-type {\n",
       "        vertical-align: middle;\n",
       "    }\n",
       "\n",
       "    .dataframe tbody tr th {\n",
       "        vertical-align: top;\n",
       "    }\n",
       "\n",
       "    .dataframe thead th {\n",
       "        text-align: right;\n",
       "    }\n",
       "</style>\n",
       "<table border=\"1\" class=\"dataframe\">\n",
       "  <thead>\n",
       "    <tr style=\"text-align: right;\">\n",
       "      <th></th>\n",
       "      <th>0</th>\n",
       "    </tr>\n",
       "  </thead>\n",
       "  <tbody>\n",
       "    <tr>\n",
       "      <th>0</th>\n",
       "      <td>110000000001</td>\n",
       "    </tr>\n",
       "    <tr>\n",
       "      <th>1</th>\n",
       "      <td>010011111011</td>\n",
       "    </tr>\n",
       "    <tr>\n",
       "      <th>2</th>\n",
       "      <td>111000011110</td>\n",
       "    </tr>\n",
       "    <tr>\n",
       "      <th>3</th>\n",
       "      <td>110101011110</td>\n",
       "    </tr>\n",
       "    <tr>\n",
       "      <th>4</th>\n",
       "      <td>100000010100</td>\n",
       "    </tr>\n",
       "    <tr>\n",
       "      <th>...</th>\n",
       "      <td>...</td>\n",
       "    </tr>\n",
       "    <tr>\n",
       "      <th>995</th>\n",
       "      <td>001011001011</td>\n",
       "    </tr>\n",
       "    <tr>\n",
       "      <th>996</th>\n",
       "      <td>110101100000</td>\n",
       "    </tr>\n",
       "    <tr>\n",
       "      <th>997</th>\n",
       "      <td>101111111011</td>\n",
       "    </tr>\n",
       "    <tr>\n",
       "      <th>998</th>\n",
       "      <td>001101111101</td>\n",
       "    </tr>\n",
       "    <tr>\n",
       "      <th>999</th>\n",
       "      <td>100110100011</td>\n",
       "    </tr>\n",
       "  </tbody>\n",
       "</table>\n",
       "<p>1000 rows × 1 columns</p>\n",
       "</div>"
      ],
      "text/plain": [
       "                0\n",
       "0    110000000001\n",
       "1    010011111011\n",
       "2    111000011110\n",
       "3    110101011110\n",
       "4    100000010100\n",
       "..            ...\n",
       "995  001011001011\n",
       "996  110101100000\n",
       "997  101111111011\n",
       "998  001101111101\n",
       "999  100110100011\n",
       "\n",
       "[1000 rows x 1 columns]"
      ]
     },
     "execution_count": 113,
     "metadata": {},
     "output_type": "execute_result"
    }
   ],
   "source": [
    "import pandas as pd\n",
    "import numpy as np\n",
    "df = pd.read_csv('input', header=None, dtype=str)\n",
    "df"
   ]
  },
  {
   "cell_type": "code",
   "execution_count": 114,
   "id": "d10b7104-c4dc-4845-83aa-ebccbd486d53",
   "metadata": {},
   "outputs": [
    {
     "data": {
      "text/html": [
       "<div>\n",
       "<style scoped>\n",
       "    .dataframe tbody tr th:only-of-type {\n",
       "        vertical-align: middle;\n",
       "    }\n",
       "\n",
       "    .dataframe tbody tr th {\n",
       "        vertical-align: top;\n",
       "    }\n",
       "\n",
       "    .dataframe thead th {\n",
       "        text-align: right;\n",
       "    }\n",
       "</style>\n",
       "<table border=\"1\" class=\"dataframe\">\n",
       "  <thead>\n",
       "    <tr style=\"text-align: right;\">\n",
       "      <th></th>\n",
       "      <th>0</th>\n",
       "      <th>st</th>\n",
       "    </tr>\n",
       "  </thead>\n",
       "  <tbody>\n",
       "    <tr>\n",
       "      <th>0</th>\n",
       "      <td>110000000001</td>\n",
       "      <td>110000000001</td>\n",
       "    </tr>\n",
       "    <tr>\n",
       "      <th>1</th>\n",
       "      <td>010011111011</td>\n",
       "      <td>010011111011</td>\n",
       "    </tr>\n",
       "    <tr>\n",
       "      <th>2</th>\n",
       "      <td>111000011110</td>\n",
       "      <td>111000011110</td>\n",
       "    </tr>\n",
       "    <tr>\n",
       "      <th>3</th>\n",
       "      <td>110101011110</td>\n",
       "      <td>110101011110</td>\n",
       "    </tr>\n",
       "    <tr>\n",
       "      <th>4</th>\n",
       "      <td>100000010100</td>\n",
       "      <td>100000010100</td>\n",
       "    </tr>\n",
       "    <tr>\n",
       "      <th>...</th>\n",
       "      <td>...</td>\n",
       "      <td>...</td>\n",
       "    </tr>\n",
       "    <tr>\n",
       "      <th>995</th>\n",
       "      <td>001011001011</td>\n",
       "      <td>001011001011</td>\n",
       "    </tr>\n",
       "    <tr>\n",
       "      <th>996</th>\n",
       "      <td>110101100000</td>\n",
       "      <td>110101100000</td>\n",
       "    </tr>\n",
       "    <tr>\n",
       "      <th>997</th>\n",
       "      <td>101111111011</td>\n",
       "      <td>101111111011</td>\n",
       "    </tr>\n",
       "    <tr>\n",
       "      <th>998</th>\n",
       "      <td>001101111101</td>\n",
       "      <td>001101111101</td>\n",
       "    </tr>\n",
       "    <tr>\n",
       "      <th>999</th>\n",
       "      <td>100110100011</td>\n",
       "      <td>100110100011</td>\n",
       "    </tr>\n",
       "  </tbody>\n",
       "</table>\n",
       "<p>1000 rows × 2 columns</p>\n",
       "</div>"
      ],
      "text/plain": [
       "                0            st\n",
       "0    110000000001  110000000001\n",
       "1    010011111011  010011111011\n",
       "2    111000011110  111000011110\n",
       "3    110101011110  110101011110\n",
       "4    100000010100  100000010100\n",
       "..            ...           ...\n",
       "995  001011001011  001011001011\n",
       "996  110101100000  110101100000\n",
       "997  101111111011  101111111011\n",
       "998  001101111101  001101111101\n",
       "999  100110100011  100110100011\n",
       "\n",
       "[1000 rows x 2 columns]"
      ]
     },
     "execution_count": 114,
     "metadata": {},
     "output_type": "execute_result"
    }
   ],
   "source": [
    "df['st'] = df.astype('str')\n",
    "df"
   ]
  },
  {
   "cell_type": "code",
   "execution_count": 115,
   "id": "07dbc6e4-4fda-4fdd-ace7-d09fea1f0ced",
   "metadata": {},
   "outputs": [
    {
     "name": "stderr",
     "output_type": "stream",
     "text": [
      "/tmp/ipykernel_194843/827967716.py:1: DeprecationWarning: The default dtype for empty Series will be 'object' instead of 'float64' in a future version. Specify a dtype explicitly to silence this warning.\n",
      "  df['li'] = pd.Series()\n",
      "/tmp/ipykernel_194843/827967716.py:3: SettingWithCopyWarning: \n",
      "A value is trying to be set on a copy of a slice from a DataFrame\n",
      "\n",
      "See the caveats in the documentation: https://pandas.pydata.org/pandas-docs/stable/user_guide/indexing.html#returning-a-view-versus-a-copy\n",
      "  df['li'][index] = list(row['st'])\n",
      "/home/san/.pyenv/versions/3.8.12/envs/lewagon_current/lib/python3.8/site-packages/pandas/core/indexing.py:1732: SettingWithCopyWarning: \n",
      "A value is trying to be set on a copy of a slice from a DataFrame\n",
      "\n",
      "See the caveats in the documentation: https://pandas.pydata.org/pandas-docs/stable/user_guide/indexing.html#returning-a-view-versus-a-copy\n",
      "  self._setitem_single_block(indexer, value, name)\n"
     ]
    },
    {
     "data": {
      "text/html": [
       "<div>\n",
       "<style scoped>\n",
       "    .dataframe tbody tr th:only-of-type {\n",
       "        vertical-align: middle;\n",
       "    }\n",
       "\n",
       "    .dataframe tbody tr th {\n",
       "        vertical-align: top;\n",
       "    }\n",
       "\n",
       "    .dataframe thead th {\n",
       "        text-align: right;\n",
       "    }\n",
       "</style>\n",
       "<table border=\"1\" class=\"dataframe\">\n",
       "  <thead>\n",
       "    <tr style=\"text-align: right;\">\n",
       "      <th></th>\n",
       "      <th>0</th>\n",
       "      <th>st</th>\n",
       "      <th>li</th>\n",
       "    </tr>\n",
       "  </thead>\n",
       "  <tbody>\n",
       "    <tr>\n",
       "      <th>0</th>\n",
       "      <td>110000000001</td>\n",
       "      <td>110000000001</td>\n",
       "      <td>[1, 1, 0, 0, 0, 0, 0, 0, 0, 0, 0, 1]</td>\n",
       "    </tr>\n",
       "    <tr>\n",
       "      <th>1</th>\n",
       "      <td>010011111011</td>\n",
       "      <td>010011111011</td>\n",
       "      <td>[0, 1, 0, 0, 1, 1, 1, 1, 1, 0, 1, 1]</td>\n",
       "    </tr>\n",
       "    <tr>\n",
       "      <th>2</th>\n",
       "      <td>111000011110</td>\n",
       "      <td>111000011110</td>\n",
       "      <td>[1, 1, 1, 0, 0, 0, 0, 1, 1, 1, 1, 0]</td>\n",
       "    </tr>\n",
       "    <tr>\n",
       "      <th>3</th>\n",
       "      <td>110101011110</td>\n",
       "      <td>110101011110</td>\n",
       "      <td>[1, 1, 0, 1, 0, 1, 0, 1, 1, 1, 1, 0]</td>\n",
       "    </tr>\n",
       "    <tr>\n",
       "      <th>4</th>\n",
       "      <td>100000010100</td>\n",
       "      <td>100000010100</td>\n",
       "      <td>[1, 0, 0, 0, 0, 0, 0, 1, 0, 1, 0, 0]</td>\n",
       "    </tr>\n",
       "  </tbody>\n",
       "</table>\n",
       "</div>"
      ],
      "text/plain": [
       "              0            st                                    li\n",
       "0  110000000001  110000000001  [1, 1, 0, 0, 0, 0, 0, 0, 0, 0, 0, 1]\n",
       "1  010011111011  010011111011  [0, 1, 0, 0, 1, 1, 1, 1, 1, 0, 1, 1]\n",
       "2  111000011110  111000011110  [1, 1, 1, 0, 0, 0, 0, 1, 1, 1, 1, 0]\n",
       "3  110101011110  110101011110  [1, 1, 0, 1, 0, 1, 0, 1, 1, 1, 1, 0]\n",
       "4  100000010100  100000010100  [1, 0, 0, 0, 0, 0, 0, 1, 0, 1, 0, 0]"
      ]
     },
     "execution_count": 115,
     "metadata": {},
     "output_type": "execute_result"
    }
   ],
   "source": [
    "df['li'] = pd.Series()\n",
    "for index, row in df.iterrows():\n",
    "    df['li'][index] = list(row['st'])\n",
    "#         li = list(row['st'])\n",
    " \n",
    "\n",
    "df.head()"
   ]
  },
  {
   "cell_type": "code",
   "execution_count": 116,
   "id": "7e74342b-230b-424a-825f-03d117721e66",
   "metadata": {},
   "outputs": [
    {
     "data": {
      "text/plain": [
       "1000"
      ]
     },
     "execution_count": 116,
     "metadata": {},
     "output_type": "execute_result"
    }
   ],
   "source": [
    "leni = df.shape[0]\n",
    "leni"
   ]
  },
  {
   "cell_type": "code",
   "execution_count": 117,
   "id": "f9fcaa5d-f49c-4675-9f9e-e5f261785192",
   "metadata": {},
   "outputs": [
    {
     "name": "stdout",
     "output_type": "stream",
     "text": [
      "['1', '1', '0', '0', '0', '0', '0', '0', '0', '0', '0', '1']\n"
     ]
    }
   ],
   "source": [
    "print(df['li'][0])"
   ]
  },
  {
   "cell_type": "code",
   "execution_count": 118,
   "id": "9696faf2-0e98-459b-a234-41cbd36fe5da",
   "metadata": {},
   "outputs": [
    {
     "name": "stdout",
     "output_type": "stream",
     "text": [
      "516\n",
      "496\n",
      "508\n",
      "496\n",
      "489\n",
      "488\n",
      "503\n",
      "497\n",
      "528\n",
      "494\n",
      "490\n",
      "507\n"
     ]
    },
    {
     "data": {
      "text/plain": [
       "[0.516,\n",
       " 0.496,\n",
       " 0.508,\n",
       " 0.496,\n",
       " 0.489,\n",
       " 0.488,\n",
       " 0.503,\n",
       " 0.497,\n",
       " 0.528,\n",
       " 0.494,\n",
       " 0.49,\n",
       " 0.507]"
      ]
     },
     "execution_count": 118,
     "metadata": {},
     "output_type": "execute_result"
    }
   ],
   "source": [
    "li_most = []\n",
    "for element in range(12):\n",
    "#     print(element)\n",
    "    agg = 0\n",
    "    for index, row in df.iterrows():\n",
    "#         print(int(row['li'][element]))\n",
    "        agg += int(row['li'][element])\n",
    "    print(agg)\n",
    "    li_most.append(agg/leni)\n",
    "\n",
    "li_most"
   ]
  },
  {
   "cell_type": "markdown",
   "id": "d2d6dfe3-cced-491d-a93e-67b16c0b7418",
   "metadata": {},
   "source": []
  },
  {
   "cell_type": "code",
   "execution_count": 119,
   "id": "a29813cf-bc01-400c-bb1a-ee5d9733aa06",
   "metadata": {},
   "outputs": [
    {
     "data": {
      "text/plain": [
       "[1, 0, 1, 0, 0, 0, 1, 0, 1, 0, 0, 1]"
      ]
     },
     "execution_count": 119,
     "metadata": {},
     "output_type": "execute_result"
    }
   ],
   "source": [
    "gamma = []\n",
    "epsilon = []\n",
    "for x in li_most:\n",
    "    if x > 0.5:\n",
    "        gamma.append(1)\n",
    "        epsilon.append(0)\n",
    "    else:\n",
    "        gamma.append(0)\n",
    "        epsilon.append(1)\n",
    "        \n",
    "\n",
    "gamma"
   ]
  },
  {
   "cell_type": "code",
   "execution_count": 120,
   "id": "8e3fe516-c546-4423-b258-e4079bdf97f1",
   "metadata": {},
   "outputs": [
    {
     "name": "stdout",
     "output_type": "stream",
     "text": [
      "0 1\n",
      "1 0\n",
      "2 1\n",
      "3 0\n",
      "4 0\n",
      "5 0\n",
      "6 1\n",
      "7 0\n",
      "8 1\n",
      "9 0\n",
      "10 0\n",
      "11 1\n",
      "0 0\n",
      "1 1\n",
      "2 0\n",
      "3 1\n",
      "4 1\n",
      "5 1\n",
      "6 0\n",
      "7 1\n",
      "8 0\n",
      "9 1\n",
      "10 1\n",
      "11 0\n"
     ]
    }
   ],
   "source": [
    "gamma_num = 0\n",
    "epsilon_num = 0\n",
    "for index, value in enumerate(gamma):\n",
    "    print(index, value)\n",
    "    gamma_num += value* 2**(11-index)\n",
    "#     epsilon_num += value* 2**(11-index)\n",
    "\n",
    "for index, value in enumerate(epsilon):\n",
    "    print(index, value)\n",
    "#     gamma_num += value* 2**(11-index)\n",
    "    epsilon_num += value* 2**(11-index)\n",
    "\n"
   ]
  },
  {
   "cell_type": "code",
   "execution_count": 121,
   "id": "d7783ed7-215d-48aa-8424-f9a92c9da295",
   "metadata": {},
   "outputs": [
    {
     "data": {
      "text/plain": [
       "3885894"
      ]
     },
     "execution_count": 121,
     "metadata": {},
     "output_type": "execute_result"
    }
   ],
   "source": [
    "gamma_num*epsilon_num"
   ]
  },
  {
   "cell_type": "code",
   "execution_count": 83,
   "id": "c63d2cd0-dd39-42f1-beee-c47b70afc6fa",
   "metadata": {},
   "outputs": [
    {
     "data": {
      "text/html": [
       "<div>\n",
       "<style scoped>\n",
       "    .dataframe tbody tr th:only-of-type {\n",
       "        vertical-align: middle;\n",
       "    }\n",
       "\n",
       "    .dataframe tbody tr th {\n",
       "        vertical-align: top;\n",
       "    }\n",
       "\n",
       "    .dataframe thead th {\n",
       "        text-align: right;\n",
       "    }\n",
       "</style>\n",
       "<table border=\"1\" class=\"dataframe\">\n",
       "  <thead>\n",
       "    <tr style=\"text-align: right;\">\n",
       "      <th></th>\n",
       "      <th>0</th>\n",
       "    </tr>\n",
       "  </thead>\n",
       "  <tbody>\n",
       "    <tr>\n",
       "      <th>0</th>\n",
       "      <td>00100</td>\n",
       "    </tr>\n",
       "    <tr>\n",
       "      <th>1</th>\n",
       "      <td>11110</td>\n",
       "    </tr>\n",
       "    <tr>\n",
       "      <th>2</th>\n",
       "      <td>10110</td>\n",
       "    </tr>\n",
       "    <tr>\n",
       "      <th>3</th>\n",
       "      <td>10111</td>\n",
       "    </tr>\n",
       "    <tr>\n",
       "      <th>4</th>\n",
       "      <td>10101</td>\n",
       "    </tr>\n",
       "    <tr>\n",
       "      <th>5</th>\n",
       "      <td>01111</td>\n",
       "    </tr>\n",
       "    <tr>\n",
       "      <th>6</th>\n",
       "      <td>00111</td>\n",
       "    </tr>\n",
       "    <tr>\n",
       "      <th>7</th>\n",
       "      <td>11100</td>\n",
       "    </tr>\n",
       "    <tr>\n",
       "      <th>8</th>\n",
       "      <td>10000</td>\n",
       "    </tr>\n",
       "    <tr>\n",
       "      <th>9</th>\n",
       "      <td>11001</td>\n",
       "    </tr>\n",
       "    <tr>\n",
       "      <th>10</th>\n",
       "      <td>00010</td>\n",
       "    </tr>\n",
       "    <tr>\n",
       "      <th>11</th>\n",
       "      <td>01010</td>\n",
       "    </tr>\n",
       "  </tbody>\n",
       "</table>\n",
       "</div>"
      ],
      "text/plain": [
       "        0\n",
       "0   00100\n",
       "1   11110\n",
       "2   10110\n",
       "3   10111\n",
       "4   10101\n",
       "5   01111\n",
       "6   00111\n",
       "7   11100\n",
       "8   10000\n",
       "9   11001\n",
       "10  00010\n",
       "11  01010"
      ]
     },
     "execution_count": 83,
     "metadata": {},
     "output_type": "execute_result"
    }
   ],
   "source": [
    "dft = pd.read_csv('test', header=None, dtype=str)\n",
    "dft"
   ]
  },
  {
   "cell_type": "code",
   "execution_count": 84,
   "id": "b768e546-962d-4fed-a819-22f6ed766c1b",
   "metadata": {},
   "outputs": [
    {
     "data": {
      "text/html": [
       "<div>\n",
       "<style scoped>\n",
       "    .dataframe tbody tr th:only-of-type {\n",
       "        vertical-align: middle;\n",
       "    }\n",
       "\n",
       "    .dataframe tbody tr th {\n",
       "        vertical-align: top;\n",
       "    }\n",
       "\n",
       "    .dataframe thead th {\n",
       "        text-align: right;\n",
       "    }\n",
       "</style>\n",
       "<table border=\"1\" class=\"dataframe\">\n",
       "  <thead>\n",
       "    <tr style=\"text-align: right;\">\n",
       "      <th></th>\n",
       "      <th>0</th>\n",
       "      <th>st</th>\n",
       "    </tr>\n",
       "  </thead>\n",
       "  <tbody>\n",
       "    <tr>\n",
       "      <th>0</th>\n",
       "      <td>00100</td>\n",
       "      <td>00100</td>\n",
       "    </tr>\n",
       "    <tr>\n",
       "      <th>1</th>\n",
       "      <td>11110</td>\n",
       "      <td>11110</td>\n",
       "    </tr>\n",
       "    <tr>\n",
       "      <th>2</th>\n",
       "      <td>10110</td>\n",
       "      <td>10110</td>\n",
       "    </tr>\n",
       "    <tr>\n",
       "      <th>3</th>\n",
       "      <td>10111</td>\n",
       "      <td>10111</td>\n",
       "    </tr>\n",
       "    <tr>\n",
       "      <th>4</th>\n",
       "      <td>10101</td>\n",
       "      <td>10101</td>\n",
       "    </tr>\n",
       "    <tr>\n",
       "      <th>5</th>\n",
       "      <td>01111</td>\n",
       "      <td>01111</td>\n",
       "    </tr>\n",
       "    <tr>\n",
       "      <th>6</th>\n",
       "      <td>00111</td>\n",
       "      <td>00111</td>\n",
       "    </tr>\n",
       "    <tr>\n",
       "      <th>7</th>\n",
       "      <td>11100</td>\n",
       "      <td>11100</td>\n",
       "    </tr>\n",
       "    <tr>\n",
       "      <th>8</th>\n",
       "      <td>10000</td>\n",
       "      <td>10000</td>\n",
       "    </tr>\n",
       "    <tr>\n",
       "      <th>9</th>\n",
       "      <td>11001</td>\n",
       "      <td>11001</td>\n",
       "    </tr>\n",
       "    <tr>\n",
       "      <th>10</th>\n",
       "      <td>00010</td>\n",
       "      <td>00010</td>\n",
       "    </tr>\n",
       "    <tr>\n",
       "      <th>11</th>\n",
       "      <td>01010</td>\n",
       "      <td>01010</td>\n",
       "    </tr>\n",
       "  </tbody>\n",
       "</table>\n",
       "</div>"
      ],
      "text/plain": [
       "        0     st\n",
       "0   00100  00100\n",
       "1   11110  11110\n",
       "2   10110  10110\n",
       "3   10111  10111\n",
       "4   10101  10101\n",
       "5   01111  01111\n",
       "6   00111  00111\n",
       "7   11100  11100\n",
       "8   10000  10000\n",
       "9   11001  11001\n",
       "10  00010  00010\n",
       "11  01010  01010"
      ]
     },
     "execution_count": 84,
     "metadata": {},
     "output_type": "execute_result"
    }
   ],
   "source": [
    "dft['st'] = dft.astype('str')\n",
    "dft"
   ]
  },
  {
   "cell_type": "code",
   "execution_count": 85,
   "id": "b8117734-e4eb-4ab5-be64-3b63402b29c9",
   "metadata": {},
   "outputs": [
    {
     "name": "stderr",
     "output_type": "stream",
     "text": [
      "/tmp/ipykernel_194843/353676690.py:1: DeprecationWarning: The default dtype for empty Series will be 'object' instead of 'float64' in a future version. Specify a dtype explicitly to silence this warning.\n",
      "  dft['li'] = pd.Series()\n",
      "/tmp/ipykernel_194843/353676690.py:3: SettingWithCopyWarning: \n",
      "A value is trying to be set on a copy of a slice from a DataFrame\n",
      "\n",
      "See the caveats in the documentation: https://pandas.pydata.org/pandas-docs/stable/user_guide/indexing.html#returning-a-view-versus-a-copy\n",
      "  dft['li'][index] = list(row['st'])\n",
      "/home/san/.pyenv/versions/3.8.12/envs/lewagon_current/lib/python3.8/site-packages/pandas/core/indexing.py:1732: SettingWithCopyWarning: \n",
      "A value is trying to be set on a copy of a slice from a DataFrame\n",
      "\n",
      "See the caveats in the documentation: https://pandas.pydata.org/pandas-docs/stable/user_guide/indexing.html#returning-a-view-versus-a-copy\n",
      "  self._setitem_single_block(indexer, value, name)\n"
     ]
    },
    {
     "data": {
      "text/html": [
       "<div>\n",
       "<style scoped>\n",
       "    .dataframe tbody tr th:only-of-type {\n",
       "        vertical-align: middle;\n",
       "    }\n",
       "\n",
       "    .dataframe tbody tr th {\n",
       "        vertical-align: top;\n",
       "    }\n",
       "\n",
       "    .dataframe thead th {\n",
       "        text-align: right;\n",
       "    }\n",
       "</style>\n",
       "<table border=\"1\" class=\"dataframe\">\n",
       "  <thead>\n",
       "    <tr style=\"text-align: right;\">\n",
       "      <th></th>\n",
       "      <th>0</th>\n",
       "      <th>st</th>\n",
       "      <th>li</th>\n",
       "    </tr>\n",
       "  </thead>\n",
       "  <tbody>\n",
       "    <tr>\n",
       "      <th>0</th>\n",
       "      <td>00100</td>\n",
       "      <td>00100</td>\n",
       "      <td>[0, 0, 1, 0, 0]</td>\n",
       "    </tr>\n",
       "    <tr>\n",
       "      <th>1</th>\n",
       "      <td>11110</td>\n",
       "      <td>11110</td>\n",
       "      <td>[1, 1, 1, 1, 0]</td>\n",
       "    </tr>\n",
       "    <tr>\n",
       "      <th>2</th>\n",
       "      <td>10110</td>\n",
       "      <td>10110</td>\n",
       "      <td>[1, 0, 1, 1, 0]</td>\n",
       "    </tr>\n",
       "    <tr>\n",
       "      <th>3</th>\n",
       "      <td>10111</td>\n",
       "      <td>10111</td>\n",
       "      <td>[1, 0, 1, 1, 1]</td>\n",
       "    </tr>\n",
       "    <tr>\n",
       "      <th>4</th>\n",
       "      <td>10101</td>\n",
       "      <td>10101</td>\n",
       "      <td>[1, 0, 1, 0, 1]</td>\n",
       "    </tr>\n",
       "  </tbody>\n",
       "</table>\n",
       "</div>"
      ],
      "text/plain": [
       "       0     st               li\n",
       "0  00100  00100  [0, 0, 1, 0, 0]\n",
       "1  11110  11110  [1, 1, 1, 1, 0]\n",
       "2  10110  10110  [1, 0, 1, 1, 0]\n",
       "3  10111  10111  [1, 0, 1, 1, 1]\n",
       "4  10101  10101  [1, 0, 1, 0, 1]"
      ]
     },
     "execution_count": 85,
     "metadata": {},
     "output_type": "execute_result"
    }
   ],
   "source": [
    "dft['li'] = pd.Series()\n",
    "for index, row in dft.iterrows():\n",
    "    dft['li'][index] = list(row['st'])\n",
    "#         li = list(row['st'])\n",
    " \n",
    "\n",
    "dft.head()"
   ]
  },
  {
   "cell_type": "code",
   "execution_count": 87,
   "id": "c3f54ad3-abc2-44c4-a96c-5677a1790360",
   "metadata": {},
   "outputs": [
    {
     "data": {
      "text/plain": [
       "12"
      ]
     },
     "execution_count": 87,
     "metadata": {},
     "output_type": "execute_result"
    }
   ],
   "source": [
    "lenit = dft.shape[0]\n",
    "lenit"
   ]
  },
  {
   "cell_type": "code",
   "execution_count": 91,
   "id": "3a4273e9-e85c-45e4-8579-022a4164c0b5",
   "metadata": {},
   "outputs": [
    {
     "name": "stdout",
     "output_type": "stream",
     "text": [
      "7\n",
      "5\n",
      "8\n",
      "7\n",
      "5\n"
     ]
    },
    {
     "data": {
      "text/plain": [
       "[0.5833333333333334,\n",
       " 0.4166666666666667,\n",
       " 0.6666666666666666,\n",
       " 0.5833333333333334,\n",
       " 0.4166666666666667]"
      ]
     },
     "execution_count": 91,
     "metadata": {},
     "output_type": "execute_result"
    }
   ],
   "source": [
    "li_most = []\n",
    "for element in range(5):\n",
    "#     print(element)\n",
    "    agg = 0\n",
    "    for index, row in dft.iterrows():\n",
    "#         print(int(row['li'][element]))\n",
    "        agg += int(row['li'][element])\n",
    "    print(agg)\n",
    "    li_most.append(agg/lenit)\n",
    "\n",
    "li_most"
   ]
  },
  {
   "cell_type": "code",
   "execution_count": 97,
   "id": "33ee5d21-b763-4d49-a2cb-ac69e4cb5c42",
   "metadata": {},
   "outputs": [
    {
     "name": "stdout",
     "output_type": "stream",
     "text": [
      "[1, 0, 1, 1, 0]\n",
      "[0, 1, 0, 0, 1]\n"
     ]
    }
   ],
   "source": [
    "gamma = []\n",
    "epsilon = []\n",
    "for x in li_most:\n",
    "    if x > 0.5:\n",
    "        gamma.append(1)\n",
    "        epsilon.append(0)\n",
    "    else:\n",
    "        gamma.append(0)\n",
    "        epsilon.append(1)\n",
    "        \n",
    "\n",
    "print(gamma)\n",
    "print(epsilon)"
   ]
  },
  {
   "cell_type": "code",
   "execution_count": 105,
   "id": "ee0ab626-c16c-4b4b-b93c-ee17dbf6f7df",
   "metadata": {},
   "outputs": [
    {
     "name": "stdout",
     "output_type": "stream",
     "text": [
      "0 1\n",
      "1 0\n",
      "2 1\n",
      "3 1\n",
      "4 0\n",
      "0 0\n",
      "1 1\n",
      "2 0\n",
      "3 0\n",
      "4 1\n"
     ]
    }
   ],
   "source": [
    "gamma_num = 0\n",
    "epsilon_num = 0\n",
    "for index, value in enumerate(gamma):\n",
    "    print(index, value)\n",
    "    gamma_num += value* 2**(4-index)\n",
    "#     epsilon_num += value* 2**(11-index)\n",
    "\n",
    "for index, value in enumerate(epsilon):\n",
    "    print(index, value)\n",
    "#     gamma_num += value* 2**(4-index)\n",
    "    epsilon_num += value* 2**(4-index)\n",
    "\n"
   ]
  },
  {
   "cell_type": "code",
   "execution_count": 106,
   "id": "057f1555-1dd9-4417-98cc-04be825ca116",
   "metadata": {},
   "outputs": [
    {
     "name": "stdout",
     "output_type": "stream",
     "text": [
      "22 9\n"
     ]
    }
   ],
   "source": [
    "print(gamma_num, epsilon_num)\n"
   ]
  },
  {
   "cell_type": "code",
   "execution_count": null,
   "id": "eaab5e28-ea5b-4036-bd21-07ab780064f3",
   "metadata": {},
   "outputs": [],
   "source": [
    "gamma_num = 0\n",
    "epsilon_num = 0\n",
    "for index, value in enumerate(gamma):\n",
    "    print(index, value)\n",
    "    gamma_num += value* 2**(4-index)\n",
    "#     epsilon_num += value* 2**(11-index)\n"
   ]
  },
  {
   "cell_type": "code",
   "execution_count": null,
   "id": "a3a3e04c-17a4-4489-93ed-0c9fcbf66ed9",
   "metadata": {},
   "outputs": [],
   "source": []
  },
  {
   "cell_type": "code",
   "execution_count": null,
   "id": "dca8f627-3f4a-4e52-bf92-1220290051d0",
   "metadata": {},
   "outputs": [],
   "source": []
  },
  {
   "cell_type": "code",
   "execution_count": null,
   "id": "05c89768-0051-49a9-bd26-51fd7bb0533e",
   "metadata": {},
   "outputs": [],
   "source": []
  },
  {
   "cell_type": "code",
   "execution_count": null,
   "id": "d1e89ec2-da36-4e11-ad6f-d81db9ffeb5d",
   "metadata": {},
   "outputs": [],
   "source": []
  },
  {
   "cell_type": "code",
   "execution_count": null,
   "id": "6f844502-9d37-44a0-b1d3-e4ac1b5e1bac",
   "metadata": {},
   "outputs": [],
   "source": []
  },
  {
   "cell_type": "code",
   "execution_count": null,
   "id": "e5d216b0-e082-4ece-87c5-5d76f83fa7cc",
   "metadata": {},
   "outputs": [],
   "source": []
  },
  {
   "cell_type": "code",
   "execution_count": null,
   "id": "cfad751b-8d8e-4866-8253-ca251f66bd87",
   "metadata": {},
   "outputs": [],
   "source": []
  },
  {
   "cell_type": "code",
   "execution_count": 165,
   "id": "235a5489-3642-4075-9cd7-b18c55fa1809",
   "metadata": {},
   "outputs": [],
   "source": [
    "# with open('test') as f:\n",
    "#     lines_bck = f.read().splitlines()\n",
    "    \n",
    "with open('input') as f:\n",
    "    lines_bck = f.read().splitlines()\n",
    "\n",
    "    \n",
    "    \n",
    "# lines_bck"
   ]
  },
  {
   "cell_type": "code",
   "execution_count": 167,
   "id": "f68f9c9b-9e47-43cf-a50d-e19b5dcb45d5",
   "metadata": {},
   "outputs": [
    {
     "name": "stdout",
     "output_type": "stream",
     "text": [
      "leni 1000\n"
     ]
    }
   ],
   "source": [
    "lines = lines_bck[:]\n",
    "leni = len(lines)\n",
    "print('leni', leni)\n",
    "for x in range(len(lines[0])):\n",
    "#     print('pos', x)\n",
    "    agg = 0.0\n",
    "    for line in lines:\n",
    "#         print(line[x])\n",
    "        agg += float(line[x])\n",
    "#     print('*', agg/leni)    \n",
    "        \n",
    "    new_lines = []\n",
    "    for line in lines:\n",
    "#         print(int(line[x])-agg/leni)\n",
    "        test = float(line[x])-agg/leni\n",
    "        if abs(test) < 0.5:\n",
    "            new_lines.append(line)\n",
    "        if abs(test) == 0.5:\n",
    "            if test > 0:\n",
    "                new_lines.append(line)\n",
    "                \n",
    "          \n",
    "    lines = new_lines[:]\n",
    "    leni = len(lines)\n",
    "#     print(lines)\n",
    "#     break\n",
    "    if len(lines) == 1:\n",
    "        break"
   ]
  },
  {
   "cell_type": "code",
   "execution_count": 168,
   "id": "edeeb7a5-172f-4b68-aae7-8437e582d60e",
   "metadata": {},
   "outputs": [
    {
     "data": {
      "text/plain": [
       "['111010111111']"
      ]
     },
     "execution_count": 168,
     "metadata": {},
     "output_type": "execute_result"
    }
   ],
   "source": [
    "lines"
   ]
  },
  {
   "cell_type": "code",
   "execution_count": 171,
   "id": "5c6910cd-3c01-4478-a8b2-84ad44c1e96c",
   "metadata": {},
   "outputs": [
    {
     "data": {
      "text/plain": [
       "3775"
      ]
     },
     "execution_count": 171,
     "metadata": {},
     "output_type": "execute_result"
    }
   ],
   "source": [
    "O2_num = 0\n",
    "for index, value in enumerate(lines[0]):\n",
    "#     print(index, value)\n",
    "    O2_num += int(value)* 2**(11-index)\n",
    "#     epsilon_num += value* 2**(11-index)\n",
    "O2_num"
   ]
  },
  {
   "cell_type": "code",
   "execution_count": 173,
   "id": "e8bdbfcc-0b0f-462b-ac76-1437f9cffcbb",
   "metadata": {},
   "outputs": [
    {
     "name": "stdout",
     "output_type": "stream",
     "text": [
      "leni 1000\n"
     ]
    }
   ],
   "source": [
    "lines = lines_bck[:]\n",
    "leni = len(lines)\n",
    "print('leni', leni)\n",
    "for x in range(len(lines[0])):\n",
    "#     print('pos', x)\n",
    "    agg = 0.0\n",
    "    for line in lines:\n",
    "#         print(line[x])\n",
    "        agg += float(line[x])\n",
    "#     print('*', agg/leni)    \n",
    "        \n",
    "    new_lines = []\n",
    "    for line in lines:\n",
    "#         print(int(line[x])-agg/leni)\n",
    "        test = float(line[x])-agg/leni\n",
    "        if abs(test) > 0.5:\n",
    "            new_lines.append(line)\n",
    "        if abs(test) == 0.5:\n",
    "            if test < 0:\n",
    "                new_lines.append(line)\n",
    "                \n",
    "          \n",
    "    lines = new_lines[:]\n",
    "    leni = len(lines)\n",
    "#     print(lines)\n",
    "#     break\n",
    "    if len(lines) == 1:\n",
    "        break"
   ]
  },
  {
   "cell_type": "code",
   "execution_count": 175,
   "id": "b818733a-8222-43e0-a571-92f4aa7d04e8",
   "metadata": {},
   "outputs": [
    {
     "data": {
      "text/plain": [
       "1159"
      ]
     },
     "execution_count": 175,
     "metadata": {},
     "output_type": "execute_result"
    }
   ],
   "source": [
    "CO2_num = 0\n",
    "for index, value in enumerate(lines[0]):\n",
    "#     print(index, value)\n",
    "    CO2_num += int(value)* 2**(11-index)\n",
    "#     epsilon_num += value* 2**(11-index)\n",
    "CO2_num"
   ]
  },
  {
   "cell_type": "code",
   "execution_count": 176,
   "id": "b3b6895e-daf6-47c6-af9b-01a32b04190d",
   "metadata": {},
   "outputs": [
    {
     "data": {
      "text/plain": [
       "4375225"
      ]
     },
     "execution_count": 176,
     "metadata": {},
     "output_type": "execute_result"
    }
   ],
   "source": [
    "O2_num*CO2_num"
   ]
  },
  {
   "cell_type": "code",
   "execution_count": null,
   "id": "e51d802b-c7f6-4069-ae55-ccd6831dc800",
   "metadata": {},
   "outputs": [],
   "source": []
  }
 ],
 "metadata": {
  "kernelspec": {
   "display_name": "Python 3 (ipykernel)",
   "language": "python",
   "name": "python3"
  },
  "language_info": {
   "codemirror_mode": {
    "name": "ipython",
    "version": 3
   },
   "file_extension": ".py",
   "mimetype": "text/x-python",
   "name": "python",
   "nbconvert_exporter": "python",
   "pygments_lexer": "ipython3",
   "version": "3.8.12"
  }
 },
 "nbformat": 4,
 "nbformat_minor": 5
}
