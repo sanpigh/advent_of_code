{
 "cells": [
  {
   "cell_type": "code",
   "execution_count": 105,
   "id": "7779e4af-7b5d-484b-ac3c-1e9c8e370a76",
   "metadata": {},
   "outputs": [
    {
     "name": "stdout",
     "output_type": "stream",
     "text": [
      "Collecting treelib\n",
      "  Downloading treelib-1.6.1.tar.gz (24 kB)\n",
      "Requirement already satisfied: future in /home/san/.pyenv/versions/3.8.12/envs/lewagon_current/lib/python3.8/site-packages (from treelib) (0.18.2)\n",
      "Building wheels for collected packages: treelib\n",
      "  Building wheel for treelib (setup.py) ... \u001b[?25ldone\n",
      "\u001b[?25h  Created wheel for treelib: filename=treelib-1.6.1-py3-none-any.whl size=18368 sha256=86dbb0ab7dc9924edafb0ed1a416577e8ce4922ec89419f00db432932d717786\n",
      "  Stored in directory: /home/san/.cache/pip/wheels/71/df/8b/6b005e3bb9b275c24dfc392cda334f43f132e85a6f17cfad3a\n",
      "Successfully built treelib\n",
      "Installing collected packages: treelib\n",
      "Successfully installed treelib-1.6.1\n",
      "\u001b[33mWARNING: You are using pip version 21.2.4; however, version 21.3.1 is available.\n",
      "You should consider upgrading via the '/home/san/.pyenv/versions/3.8.12/envs/lewagon_current/bin/python3.8 -m pip install --upgrade pip' command.\u001b[0m\n"
     ]
    }
   ],
   "source": [
    "!pip install treelib\n",
    "from treelib import Node, Tree\n",
    "# from anytree import Node, RenderTree\n"
   ]
  },
  {
   "cell_type": "code",
   "execution_count": 44,
   "id": "67937429-166e-4741-b7cf-114258eee271",
   "metadata": {},
   "outputs": [],
   "source": [
    "hexbin = {\n",
    "'0' : '0000',\n",
    "'1' : '0001',\n",
    "'2' : '0010',\n",
    "'3' : '0011',\n",
    "'4' : '0100',\n",
    "'5' : '0101',\n",
    "'6' : '0110',\n",
    "'7' : '0111',\n",
    "'8' : '1000',\n",
    "'9' : '1001',\n",
    "'A' : '1010',\n",
    "'B' : '1011',\n",
    "'C' : '1100',\n",
    "'D' : '1101',\n",
    "'E' : '1110',\n",
    "'F' : '1111'\n",
    "}\n",
    "\n",
    "def decoder(s):\n",
    "    result = ''\n",
    "    for char in s:\n",
    "        result = result + hexbin[char]\n",
    "    return result\n",
    "\n",
    "def decimal(s):\n",
    "    return int(s, 2)"
   ]
  },
  {
   "cell_type": "code",
   "execution_count": 48,
   "id": "28f4b22f-3ff1-4852-90e5-28ef6682fdb6",
   "metadata": {},
   "outputs": [
    {
     "data": {
      "text/plain": [
       "13827624"
      ]
     },
     "execution_count": 48,
     "metadata": {},
     "output_type": "execute_result"
    }
   ],
   "source": [
    "decimal(decoder(inputtest))"
   ]
  },
  {
   "cell_type": "code",
   "execution_count": 51,
   "id": "6c919d7d-76b2-407d-99b0-2b80cc1316e7",
   "metadata": {},
   "outputs": [],
   "source": [
    "def read_head(s):\n",
    "    return {'version' : decimal(s[0:3]), 'typeID' : decimal(s[3:6])}"
   ]
  },
  {
   "cell_type": "code",
   "execution_count": 52,
   "id": "65e8f5db-e9b5-49ed-9a37-4244c3a12ad7",
   "metadata": {},
   "outputs": [
    {
     "data": {
      "text/plain": [
       "{'version': 6, 'typeID': 4}"
      ]
     },
     "execution_count": 52,
     "metadata": {},
     "output_type": "execute_result"
    }
   ],
   "source": [
    "read_head(decoder(inputtest))"
   ]
  },
  {
   "cell_type": "code",
   "execution_count": 161,
   "id": "2c247a13-cdf1-453c-b1d5-589ca47a21c5",
   "metadata": {},
   "outputs": [],
   "source": [
    "class Info_node(object):\n",
    "    def __init__(self, version, typeID, ID, number, pointer_ini):\n",
    "        self.ID      = ID\n",
    "        self.number  = number\n",
    "        self.version = version\n",
    "        self.typeID  = typeID\n",
    "        self.pointer_ini = pointer_ini"
   ]
  },
  {
   "cell_type": "code",
   "execution_count": 190,
   "id": "23102431-6a49-4298-af5a-ed6fb5b79a9e",
   "metadata": {},
   "outputs": [
    {
     "name": "stdout",
     "output_type": "stream",
     "text": [
      "EE00D40C823060\n",
      "11101110000000001101010000001100100000100011000001100000 56\n"
     ]
    },
    {
     "ename": "AttributeError",
     "evalue": "'str' object has no attribute 'show'",
     "output_type": "error",
     "traceback": [
      "\u001b[0;31m---------------------------------------------------------------------------\u001b[0m",
      "\u001b[0;31mAttributeError\u001b[0m                            Traceback (most recent call last)",
      "\u001b[0;32m/tmp/ipykernel_28782/2228930535.py\u001b[0m in \u001b[0;36m<module>\u001b[0;34m\u001b[0m\n\u001b[1;32m     68\u001b[0m         \u001b[0;32mbreak\u001b[0m\u001b[0;34m\u001b[0m\u001b[0;34m\u001b[0m\u001b[0m\n\u001b[1;32m     69\u001b[0m \u001b[0;34m\u001b[0m\u001b[0m\n\u001b[0;32m---> 70\u001b[0;31m \u001b[0mnode\u001b[0m\u001b[0;34m.\u001b[0m\u001b[0mshow\u001b[0m\u001b[0;34m(\u001b[0m\u001b[0mdata_property\u001b[0m\u001b[0;34m=\u001b[0m\u001b[0;34m'number'\u001b[0m\u001b[0;34m)\u001b[0m\u001b[0;34m\u001b[0m\u001b[0;34m\u001b[0m\u001b[0m\n\u001b[0m",
      "\u001b[0;31mAttributeError\u001b[0m: 'str' object has no attribute 'show'"
     ]
    }
   ],
   "source": [
    "from anytree import Node, RenderTree\n",
    "tree = Tree()\n",
    "tree.create_node('ROOT', 'root', data=Info_node('NaN','NaN','NaN','NaN','NaN'))\n",
    "node = 'root'\n",
    "\n",
    "\n",
    "inputtest = '620080001611562C8802118E34'\n",
    "inputtest = 'C0015000016115A2E0802F182340'\n",
    "inputtest = 'A0016C880162017C3686B18A3D4780'\n",
    "inputtest = 'EE00D40C823060' #operator type 1\n",
    "# inputtest = '8A004A801A8002F478' \n",
    "# inputtest = 'D2FE28' + 'D2FE28' # literal constant\n",
    "\n",
    "data = decoder(inputtest)\n",
    "print(inputtest)\n",
    "print(data, len(data))\n",
    "pointer = 0\n",
    "\n",
    "level = [0]\n",
    "\n",
    "while True:\n",
    "    pointer_ini = pointer\n",
    "    tmp = read_head(data[pointer:pointer+6])\n",
    "    pointer += 6\n",
    "##################################################\n",
    "    if tmp['typeID'] == 4:\n",
    "#         print('98798798798798798')\n",
    "        ID = 'NaN'\n",
    "        number = ''\n",
    "        while data[pointer] == '1':\n",
    "            pointer += 1\n",
    "            number = number + data[pointer:pointer+4]\n",
    "            pointer += 4\n",
    "        pointer += 1 # read the 0 in while\n",
    "        \n",
    "        number = number + data[pointer:pointer+4]\n",
    "        pointer += 4\n",
    "        pointer += 4 - (6 + len(number)//4 *5)%4 # calculate the leading zeroes and add them to pointer\n",
    "        number = decimal(number)\n",
    "        tmp['contain'] = number\n",
    "#         print('****************', tmp)\n",
    "        new_node = 'v' + str(tmp['version']) + '_' + 't' + str(tmp['typeID']) + '_' + str(pointer)\n",
    "        tree.create_node(new_node, new_node, parent=node, \n",
    "                         data=Info_node(tmp['version'], tmp['typeID'], ID, number, pointer_ini)) #pos primer char\n",
    "        \n",
    "    else: # operator\n",
    "        if data[pointer] == '1':\n",
    "            pointer += 1\n",
    "#             print('si')\n",
    "            number = decimal(data[pointer:pointer+11]) #number of subpackets inside\n",
    "            pointer += 11\n",
    "            new_node = 'v' + str(tmp['version']) + '_' + 't' + str(tmp['typeID']) + '_' + str(pointer)\n",
    "            tree.create_node(new_node, new_node, parent=node, \n",
    "                             data=Info_node(tmp['version'], tmp['typeID'], ID, number, pointer_ini)) #pos primer char\n",
    "            node = new_node\n",
    "        \n",
    "        else:\n",
    "            \n",
    "            print('no')\n",
    "            # number of bits with subpackets \n",
    "    \n",
    "    \n",
    "#     print(node.)\n",
    "    \n",
    "    break\n",
    "    print(pointer)\n",
    "    if pointer >= len(data):\n",
    "        break\n",
    "        \n",
    "tree.show(data_property='number')\n",
    "tree.show()"
   ]
  },
  {
   "cell_type": "code",
   "execution_count": 101,
   "id": "7f3adbdd-1707-4ce1-a0f1-b8d8a9097860",
   "metadata": {},
   "outputs": [
    {
     "name": "stdout",
     "output_type": "stream",
     "text": [
      "CEO\n",
      "├── VP_1\n",
      "│   └── GM_1\n",
      "└── VP_2\n",
      "    └── GM_2\n"
     ]
    }
   ],
   "source": [
    "from anytree import Node, RenderTree\n",
    "\n",
    "\n",
    "ceo = Node(\"CEO\") #root\n",
    "vp_1 = Node(\"VP_1\", parent=ceo)\n",
    "vp_2 = Node(\"VP_2\", parent=ceo)\n",
    "gm_1 = Node(\"GM_1\", parent=vp_1)\n",
    "gm_2 = Node(\"GM_2\", parent=vp_2)\n",
    "\n",
    "for pre, fill, node in RenderTree(ceo):\n",
    "    print(\"%s%s\" % (pre, node.name))"
   ]
  },
  {
   "cell_type": "code",
   "execution_count": 156,
   "id": "98168788-a833-4920-9b82-c2820c801635",
   "metadata": {},
   "outputs": [
    {
     "data": {
      "text/plain": [
       "3"
      ]
     },
     "execution_count": 156,
     "metadata": {},
     "output_type": "execute_result"
    }
   ],
   "source": [
    "aa = Info_node(1, 3)\n",
    "aa.number"
   ]
  },
  {
   "cell_type": "code",
   "execution_count": 143,
   "id": "8acc7f29-9104-452d-a5fe-aafc64a59344",
   "metadata": {},
   "outputs": [
    {
     "data": {
      "text/plain": [
       "Node(tag=F2, identifier=f2, data=<__main__.Flower object at 0x7f56df8577f0>)"
      ]
     },
     "execution_count": 143,
     "metadata": {},
     "output_type": "execute_result"
    }
   ],
   "source": [
    "class Flower(object): \n",
    "        def __init__(self, color): \n",
    "            self.color = color\n",
    "\n",
    "ftree = Tree()\n",
    "ftree.create_node(\"Root\", \"root\", data=Flower(\"black\"))\n",
    "ftree.create_node(\"F1\", \"f1\", parent='root', data=Flower(\"white\"))\n",
    "ftree.create_node(\"F2\", \"f2\", parent='root', data=Flower(\"red\"))"
   ]
  },
  {
   "cell_type": "code",
   "execution_count": 144,
   "id": "218fea30-9094-49b6-8771-16a775c8e7a0",
   "metadata": {},
   "outputs": [
    {
     "name": "stdout",
     "output_type": "stream",
     "text": [
      "black\n",
      "├── white\n",
      "└── red\n",
      "\n"
     ]
    }
   ],
   "source": [
    "ftree.show(data_property=\"color\")"
   ]
  },
  {
   "cell_type": "code",
   "execution_count": null,
   "id": "8cc1ed71-49af-46da-aa0b-49f43162542e",
   "metadata": {},
   "outputs": [],
   "source": []
  }
 ],
 "metadata": {
  "kernelspec": {
   "display_name": "Python 3 (ipykernel)",
   "language": "python",
   "name": "python3"
  },
  "language_info": {
   "codemirror_mode": {
    "name": "ipython",
    "version": 3
   },
   "file_extension": ".py",
   "mimetype": "text/x-python",
   "name": "python",
   "nbconvert_exporter": "python",
   "pygments_lexer": "ipython3",
   "version": "3.8.12"
  }
 },
 "nbformat": 4,
 "nbformat_minor": 5
}
