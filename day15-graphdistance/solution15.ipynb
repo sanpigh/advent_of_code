{
 "cells": [
  {
   "cell_type": "code",
   "execution_count": 163,
   "id": "2fd63053-0863-4d84-ad59-ab695c53b9de",
   "metadata": {},
   "outputs": [],
   "source": [
    "import pandas as pd\n",
    "import numpy as np\n",
    "\n",
    "with open('inputtest') as f:\n",
    "    lines_bck = f.read().splitlines()\n",
    "\n",
    "def split(word):\n",
    "    return [char for char in word]    \n",
    "\n",
    "lines = [char for char in [x for x in lines_bck]]\n",
    "lines = [split(x) for x in lines_bck]\n",
    "a = np.asarray(lines).astype(int)"
   ]
  },
  {
   "cell_type": "code",
   "execution_count": 164,
   "id": "4941676e-3faa-492a-a936-39bc49e4ff69",
   "metadata": {},
   "outputs": [
    {
     "data": {
      "text/plain": [
       "array([[1, 1, 6, 3, 7, 5, 1, 7, 4, 2],\n",
       "       [1, 3, 8, 1, 3, 7, 3, 6, 7, 2],\n",
       "       [2, 1, 3, 6, 5, 1, 1, 3, 2, 8],\n",
       "       [3, 6, 9, 4, 9, 3, 1, 5, 6, 9],\n",
       "       [7, 4, 6, 3, 4, 1, 7, 1, 1, 1],\n",
       "       [1, 3, 1, 9, 1, 2, 8, 1, 3, 7],\n",
       "       [1, 3, 5, 9, 9, 1, 2, 4, 2, 1],\n",
       "       [3, 1, 2, 5, 4, 2, 1, 6, 3, 9],\n",
       "       [1, 2, 9, 3, 1, 3, 8, 5, 2, 1],\n",
       "       [2, 3, 1, 1, 9, 4, 4, 5, 8, 1]])"
      ]
     },
     "execution_count": 164,
     "metadata": {},
     "output_type": "execute_result"
    }
   ],
   "source": [
    "a"
   ]
  },
  {
   "cell_type": "code",
   "execution_count": 84,
   "id": "bec61eab-9355-4221-ac47-c6b8c03fac42",
   "metadata": {},
   "outputs": [
    {
     "data": {
      "text/plain": [
       "(10, 10)"
      ]
     },
     "execution_count": 84,
     "metadata": {},
     "output_type": "execute_result"
    }
   ],
   "source": [
    "a.shape"
   ]
  },
  {
   "cell_type": "code",
   "execution_count": 97,
   "id": "18c42360-c28e-4c6a-b9f7-874e5ca05743",
   "metadata": {},
   "outputs": [
    {
     "name": "stdout",
     "output_type": "stream",
     "text": [
      "0 0\n",
      "[7, 4, 4, 3]\n",
      "down\n",
      "[1]\n",
      "***************\n",
      "1 0\n",
      "[11, 4, 3, 5]\n",
      "down\n",
      "[1, 2]\n",
      "***************\n",
      "2 0\n",
      "[4, 7, 9, 10]\n",
      "right\n",
      "[1, 2, 1]\n",
      "***************\n",
      "2 1\n",
      "[9, 12, 15, 10]\n",
      "right\n",
      "[1, 2, 1, 3]\n",
      "***************\n",
      "2 2\n",
      "[11, 10, 13, 15]\n",
      "right\n",
      "[1, 2, 1, 3, 6]\n",
      "***************\n",
      "2 3\n",
      "[6, 14, 13, 7]\n",
      "right\n",
      "[1, 2, 1, 3, 6, 5]\n",
      "***************\n",
      "2 4\n",
      "[2, 4, 12, 13]\n",
      "right\n",
      "[1, 2, 1, 3, 6, 5, 1]\n",
      "***************\n",
      "2 5\n",
      "[4, 2, 4, 4]\n",
      "right\n",
      "[1, 2, 1, 3, 6, 5, 1, 1]\n",
      "***************\n",
      "2 6\n",
      "[5, 8, 6, 8]\n",
      "right\n",
      "[1, 2, 1, 3, 6, 5, 1, 1, 3]\n",
      "***************\n",
      "2 7\n",
      "[10, 8, 11, 6]\n",
      "down\n",
      "[1, 2, 1, 3, 6, 5, 1, 1, 3, 5]\n",
      "***************\n",
      "3 7\n",
      "[15, 7, 2, 2]\n",
      "down\n",
      "[1, 2, 1, 3, 6, 5, 1, 1, 3, 5, 1]\n",
      "***************\n",
      "4 7\n",
      "[2, 4, 4, 5]\n",
      "right\n",
      "[1, 2, 1, 3, 6, 5, 1, 1, 3, 5, 1, 1]\n",
      "***************\n"
     ]
    }
   ],
   "source": [
    "path = []\n",
    "# old = a[0,0]\n",
    "i = j = 0\n",
    "while i < a.shape[0]-2 and j < a.shape[1]-2:\n",
    "    print(i,j)\n",
    "\n",
    "    right       = a[i,j+1] + a[i,j+2]\n",
    "    diag_right  = a[i,j+1] + a[i+1,j+1]\n",
    "    diag_down   = a[i+1,j] + a[i+1,j+1]\n",
    "    down        = a[i+1,j] + a[i+2,j]\n",
    "    \n",
    "    direction  = [right, diag_right, diag_down, down]\n",
    "    print(direction)\n",
    "    min_val = min(direction)\n",
    "    min_ind = direction.index(min_val)\n",
    "    \n",
    "    if min_ind == 0 or min_ind == 1:\n",
    "        j += 1\n",
    "        print('right')\n",
    "    else:\n",
    "        i += 1    \n",
    "        print('down')\n",
    "    path.append(a[i,j])\n",
    "    print(path)\n",
    "    print('***************')"
   ]
  },
  {
   "cell_type": "code",
   "execution_count": 88,
   "id": "0a6a0e5a-a4a7-4f4f-be0e-1ab141e21e8a",
   "metadata": {},
   "outputs": [
    {
     "data": {
      "text/plain": [
       "30"
      ]
     },
     "execution_count": 88,
     "metadata": {},
     "output_type": "execute_result"
    }
   ],
   "source": [
    "np.asarray(path).sum()"
   ]
  },
  {
   "cell_type": "code",
   "execution_count": 95,
   "id": "eb413475-52a0-4031-a2f2-f9b4d042d2fc",
   "metadata": {},
   "outputs": [
    {
     "data": {
      "text/plain": [
       "[1, 2, 1, 3, 6, 5, 1, 1, 3, 5, 1, 1]"
      ]
     },
     "execution_count": 95,
     "metadata": {},
     "output_type": "execute_result"
    }
   ],
   "source": [
    "path"
   ]
  },
  {
   "cell_type": "code",
   "execution_count": 78,
   "id": "f65edeb6-9cee-4725-b898-ce015dd870c0",
   "metadata": {
    "tags": []
   },
   "outputs": [],
   "source": [
    "import itertools\n",
    "\n",
    "counter = 0\n",
    "all_paths = []\n",
    "\n",
    "\n",
    "window_size = 5\n",
    "# window_size = a.shape[0]\n",
    "stuff = range((window_size-1)*2)\n",
    "\n",
    "    \n",
    "\n",
    "for subset in itertools.combinations(stuff, a.shape[0]-1):\n",
    "#     counter += 1\n",
    "#     if counter%10_000 == 0:\n",
    "#         print(counter, end=' ')\n",
    "    i = j = 0\n",
    "    path = [a[0,0]]\n",
    "    for direc in range((a.shape[0]-1)*2):\n",
    "#         print(direc)\n",
    "        if direc in subset:\n",
    "            i += 1\n",
    "        else:\n",
    "            j += 1\n",
    "#         print(i,j)\n",
    "        path.append(a[i,j])\n",
    "    all_paths.append(np.asarray(path).sum())\n",
    "\n",
    "minim_path = np.asarray(all_paths).min()-a[0,0]"
   ]
  },
  {
   "cell_type": "code",
   "execution_count": 79,
   "id": "a6a73da4-6587-4bde-a0f5-f2ba84dc72fd",
   "metadata": {},
   "outputs": [
    {
     "data": {
      "text/plain": [
       "40"
      ]
     },
     "execution_count": 79,
     "metadata": {},
     "output_type": "execute_result"
    }
   ],
   "source": [
    "minim_path"
   ]
  },
  {
   "cell_type": "code",
   "execution_count": null,
   "id": "956f18de-0005-4e3b-aa5d-4d2af923de04",
   "metadata": {},
   "outputs": [],
   "source": []
  },
  {
   "cell_type": "code",
   "execution_count": null,
   "id": "bd048d2b-861a-40b1-b96f-b289b620b4a8",
   "metadata": {},
   "outputs": [],
   "source": []
  },
  {
   "cell_type": "markdown",
   "id": "8f5b1572-1d43-4a56-9ab8-23f13ea9ecb9",
   "metadata": {},
   "source": [
    "## Dijks"
   ]
  },
  {
   "cell_type": "code",
   "execution_count": 18,
   "id": "645c41e5-683a-451c-82a6-a0b14d3fadec",
   "metadata": {},
   "outputs": [
    {
     "data": {
      "text/plain": [
       "array([[7, 1, 3, ..., 1, 1, 9],\n",
       "       [8, 8, 1, ..., 8, 4, 1],\n",
       "       [1, 5, 1, ..., 9, 3, 1],\n",
       "       ...,\n",
       "       [5, 1, 6, ..., 3, 5, 6],\n",
       "       [2, 1, 9, ..., 7, 3, 7],\n",
       "       [2, 1, 2, ..., 1, 2, 3]])"
      ]
     },
     "execution_count": 18,
     "metadata": {},
     "output_type": "execute_result"
    }
   ],
   "source": [
    "import numpy as np\n",
    "\n",
    "with open('input') as f:\n",
    "    lines_bck = f.read().splitlines()\n",
    "\n",
    "def split(word):\n",
    "    return [char for char in word]    \n",
    "\n",
    "lines = [char for char in [x for x in lines_bck]]\n",
    "lines = [split(x) for x in lines_bck]\n",
    "a = np.asarray(lines).astype(int)\n",
    "a"
   ]
  },
  {
   "cell_type": "code",
   "execution_count": 19,
   "id": "b3d41f14-1eaf-4bf2-8085-7a954e787220",
   "metadata": {},
   "outputs": [],
   "source": [
    "from queue import PriorityQueue"
   ]
  },
  {
   "cell_type": "code",
   "execution_count": 20,
   "id": "ea6d2b2b-014b-4f57-be0e-91aab12f9993",
   "metadata": {},
   "outputs": [],
   "source": [
    "class Graph:\n",
    "    def __init__(self, num_of_vertices):\n",
    "        self.v = num_of_vertices\n",
    "        self.edges = [[-1 for i in range(num_of_vertices)] for j in range(num_of_vertices)]\n",
    "        self.visited = []\n",
    "        \n",
    "    def add_edge(self, u, v, weight1, weight2):\n",
    "        self.edges[u][v] = weight1\n",
    "        self.edges[v][u] = weight2"
   ]
  },
  {
   "cell_type": "code",
   "execution_count": 21,
   "id": "e9312eef-acd2-4647-a24f-62a360bba0f0",
   "metadata": {},
   "outputs": [],
   "source": [
    "def dijkstra(graph, start_vertex):\n",
    "    D = {v:float('inf') for v in range(graph.v)}\n",
    "    D[start_vertex] = 0\n",
    "\n",
    "    pq = PriorityQueue()\n",
    "    pq.put((0, start_vertex))\n",
    "\n",
    "    while not pq.empty():\n",
    "        (dist, current_vertex) = pq.get()\n",
    "        graph.visited.append(current_vertex)\n",
    "\n",
    "        for neighbor in range(graph.v):\n",
    "            if graph.edges[current_vertex][neighbor] != -1:\n",
    "                distance = graph.edges[current_vertex][neighbor]\n",
    "                if neighbor not in graph.visited:\n",
    "                    old_cost = D[neighbor]\n",
    "                    new_cost = D[current_vertex] + distance\n",
    "                    if new_cost < old_cost:\n",
    "                        pq.put((new_cost, neighbor))\n",
    "                        D[neighbor] = new_cost\n",
    "    return D"
   ]
  },
  {
   "cell_type": "code",
   "execution_count": 5,
   "id": "a7832f6d-25cd-437e-b3b6-8c3b542a0bfe",
   "metadata": {},
   "outputs": [
    {
     "name": "stdout",
     "output_type": "stream",
     "text": [
      "[[    7     1     3 ...     1     9 10000]\n",
      " [    8     8     1 ...     4     1 10000]\n",
      " [    1     5     1 ...     3     1 10000]\n",
      " ...\n",
      " [    2     1     9 ...     3     7 10000]\n",
      " [    2     1     2 ...     2     3 10000]\n",
      " [10000 10000 10000 ... 10000 10000 10000]]\n"
     ]
    }
   ],
   "source": [
    "dimX = dimY = a.shape[0] # include extra column to avoid complex border conditions\n",
    "\n",
    "matrix = np.ones(shape=(dimX+1, dimY+1)).astype(int)*10000\n",
    "matrix[0:-1, 0:-1] = a\n",
    "print(matrix)\n",
    "\n",
    "\n",
    "def node_num(i,j):\n",
    "    return j+(dimX+1)*i\n",
    "\n",
    "\n",
    "\n",
    "g = Graph((dimX+1)*(dimY+1))  # I take out the element 100,100 because it isn't needed\n",
    "\n",
    "for i in range(dimX):\n",
    "    for j in range(dimY):        \n",
    "        g.add_edge(node_num(i, j), node_num(i+1, j), matrix[i+1, j], matrix[i, j])\n",
    "        g.add_edge(node_num(i, j), node_num(i, j+1), matrix[i, j+1], matrix[i, j])\n",
    "#         print(i,j, node_num(i, j))\n",
    "#         print(node_num(i, j), node_num(i+1, j))\n",
    "#         print(node_num(i, j), node_num(i, j+1))\n"
   ]
  },
  {
   "cell_type": "code",
   "execution_count": 6,
   "id": "642b4af1-bd49-4d5d-8a53-fae49939bf94",
   "metadata": {
    "tags": []
   },
   "outputs": [],
   "source": [
    "D = dijkstra(g, 0)\n",
    "\n",
    "print(D)\n",
    "path_lengh = D[node_num(dimX-1, dimY-1)] \n",
    "path_lengh"
   ]
  },
  {
   "cell_type": "code",
   "execution_count": 7,
   "id": "54b7242a-2a92-40f9-a060-b47f45a72ff1",
   "metadata": {},
   "outputs": [
    {
     "data": {
      "text/plain": [
       "441"
      ]
     },
     "execution_count": 7,
     "metadata": {},
     "output_type": "execute_result"
    }
   ],
   "source": []
  },
  {
   "cell_type": "code",
   "execution_count": 193,
   "id": "5e9e79b5-7e58-471b-99e8-5609b920ebcf",
   "metadata": {},
   "outputs": [
    {
     "data": {
      "text/plain": [
       "10099"
      ]
     },
     "execution_count": 193,
     "metadata": {},
     "output_type": "execute_result"
    }
   ],
   "source": [
    "(dimX+1)*(dimY+1)-dimX-2"
   ]
  },
  {
   "cell_type": "code",
   "execution_count": null,
   "id": "6ba7aaa2-7581-437e-a781-ae04e4f452e1",
   "metadata": {},
   "outputs": [],
   "source": []
  },
  {
   "cell_type": "markdown",
   "id": "7dffba4e-97aa-41c4-b238-62d23940c112",
   "metadata": {},
   "source": [
    "## Second part"
   ]
  },
  {
   "cell_type": "code",
   "execution_count": 1,
   "id": "b6d91580-e833-4e2b-870e-08b20ecfa559",
   "metadata": {},
   "outputs": [],
   "source": [
    "from queue import PriorityQueue\n",
    "\n",
    "class Graph:\n",
    "    def __init__(self, num_of_vertices):\n",
    "        self.v = num_of_vertices\n",
    "        self.edges = [[-1 for i in range(num_of_vertices)] for j in range(num_of_vertices)]\n",
    "        self.visited = []\n",
    "        \n",
    "    def add_edge(self, u, v, weight1, weight2):\n",
    "        self.edges[u][v] = weight1\n",
    "        self.edges[v][u] = weight2\n",
    "        \n",
    "def dijkstra(graph, start_vertex):\n",
    "    D = {v:float('inf') for v in range(graph.v)}\n",
    "    D[start_vertex] = 0\n",
    "\n",
    "    pq = PriorityQueue()\n",
    "    pq.put((0, start_vertex))\n",
    "\n",
    "    while not pq.empty():\n",
    "        (dist, current_vertex) = pq.get()\n",
    "        graph.visited.append(current_vertex)\n",
    "\n",
    "        for neighbor in range(graph.v):\n",
    "            if graph.edges[current_vertex][neighbor] != -1:\n",
    "                distance = graph.edges[current_vertex][neighbor]\n",
    "                if neighbor not in graph.visited:\n",
    "                    old_cost = D[neighbor]\n",
    "                    new_cost = D[current_vertex] + distance\n",
    "                    if new_cost < old_cost:\n",
    "                        pq.put((new_cost, neighbor))\n",
    "                        D[neighbor] = new_cost\n",
    "    return D      \n"
   ]
  },
  {
   "cell_type": "code",
   "execution_count": 8,
   "id": "02123278-6e4f-42b9-9c96-19fad94f3f0c",
   "metadata": {},
   "outputs": [
    {
     "data": {
      "text/plain": [
       "array([[1, 1, 6, 3, 7, 5, 1, 7, 4, 2],\n",
       "       [1, 3, 8, 1, 3, 7, 3, 6, 7, 2],\n",
       "       [2, 1, 3, 6, 5, 1, 1, 3, 2, 8],\n",
       "       [3, 6, 9, 4, 9, 3, 1, 5, 6, 9],\n",
       "       [7, 4, 6, 3, 4, 1, 7, 1, 1, 1],\n",
       "       [1, 3, 1, 9, 1, 2, 8, 1, 3, 7],\n",
       "       [1, 3, 5, 9, 9, 1, 2, 4, 2, 1],\n",
       "       [3, 1, 2, 5, 4, 2, 1, 6, 3, 9],\n",
       "       [1, 2, 9, 3, 1, 3, 8, 5, 2, 1],\n",
       "       [2, 3, 1, 1, 9, 4, 4, 5, 8, 1]], dtype=int16)"
      ]
     },
     "execution_count": 8,
     "metadata": {},
     "output_type": "execute_result"
    }
   ],
   "source": [
    "import numpy as np\n",
    "from copy import deepcopy\n",
    "\n",
    "with open('inputtest') as f:\n",
    "    lines_bck = f.read().splitlines()\n",
    "\n",
    "def split(word):\n",
    "    return [char for char in word]    \n",
    "\n",
    "lines = [char for char in [x for x in lines_bck]]\n",
    "lines = [split(x) for x in lines_bck]\n",
    "a = np.asarray(lines).astype(np.short)\n",
    "a"
   ]
  },
  {
   "cell_type": "code",
   "execution_count": 9,
   "id": "fb82ef23-b74f-4300-a89e-8f3065fbaee7",
   "metadata": {},
   "outputs": [
    {
     "name": "stdout",
     "output_type": "stream",
     "text": [
      "[[10000 10000 10000 10000 10000 10000 10000 10000 10000 10000 10000 10000]\n",
      " [10000     1     1     6     3     7     5     1     7     4     2 10000]\n",
      " [10000     1     3     8     1     3     7     3     6     7     2 10000]\n",
      " [10000     2     1     3     6     5     1     1     3     2     8 10000]\n",
      " [10000     3     6     9     4     9     3     1     5     6     9 10000]\n",
      " [10000     7     4     6     3     4     1     7     1     1     1 10000]\n",
      " [10000     1     3     1     9     1     2     8     1     3     7 10000]\n",
      " [10000     1     3     5     9     9     1     2     4     2     1 10000]\n",
      " [10000     3     1     2     5     4     2     1     6     3     9 10000]\n",
      " [10000     1     2     9     3     1     3     8     5     2     1 10000]\n",
      " [10000     2     3     1     1     9     4     4     5     8     1 10000]\n",
      " [10000 10000 10000 10000 10000 10000 10000 10000 10000 10000 10000 10000]]\n",
      "(12, 12)\n"
     ]
    }
   ],
   "source": [
    "dimX = dimY = a.shape[0] # include extra column to avoid complex border conditions\n",
    "\n",
    "matrix = np.ones(shape=(dimX+2, dimY+2)).astype(np.short)*10000\n",
    "matrix[1:-1, 1:-1] = a\n",
    "print(matrix)\n",
    "print(matrix.shape)\n",
    "# type(matrix)"
   ]
  },
  {
   "cell_type": "code",
   "execution_count": 10,
   "id": "741cfd9a-3bc2-4515-b6f1-66089f9533e9",
   "metadata": {},
   "outputs": [],
   "source": [
    "\n",
    "\n",
    "def node_num(i,j):\n",
    "    return j+(dimX+2)*i\n",
    "\n",
    "def cycle(x, n):\n",
    "    if x == 10000:\n",
    "        return x\n",
    "    x = x+n\n",
    "    if x >= 10:\n",
    "        return 1\n",
    "    else: \n",
    "        return x \n"
   ]
  },
  {
   "cell_type": "code",
   "execution_count": 11,
   "id": "ed6d956b-1280-4c5e-8c9f-bb8cefe3b7c3",
   "metadata": {},
   "outputs": [],
   "source": [
    "# for i in range(1,dimX+1):\n",
    "#     j = dimY+1\n",
    "#     print(D[node_num(i,j)])\n",
    "    \n",
    "# print()\n",
    "# for j in range(1,dimY+1):\n",
    "#     i = dimX+1\n",
    "#     print(D[node_num(i,j)])\n",
    "\n"
   ]
  },
  {
   "cell_type": "code",
   "execution_count": 12,
   "id": "13f18045-484b-45d1-ad96-a47056c560be",
   "metadata": {},
   "outputs": [
    {
     "name": "stdout",
     "output_type": "stream",
     "text": [
      "\n"
     ]
    }
   ],
   "source": [
    "node_link = {}\n",
    "for i in range(1,dimX+1):\n",
    "#     print(node_num(i,0), node_num(i,dimY+1))\n",
    "    node_link[node_num(i,dimY+1)] = node_num(i,0)\n",
    "    \n",
    "print()\n",
    "for j in range(1,dimY+1):\n",
    "    node_link[node_num(dimX+1,j)] = node_num(0,j)\n",
    "#     print(D[node_num(i,j)])\n"
   ]
  },
  {
   "cell_type": "code",
   "execution_count": 13,
   "id": "92da549a-5b0f-495a-85d4-998950db821b",
   "metadata": {
    "tags": []
   },
   "outputs": [
    {
     "data": {
      "text/plain": [
       "{23: 12,\n",
       " 35: 24,\n",
       " 47: 36,\n",
       " 59: 48,\n",
       " 71: 60,\n",
       " 83: 72,\n",
       " 95: 84,\n",
       " 107: 96,\n",
       " 119: 108,\n",
       " 131: 120,\n",
       " 133: 1,\n",
       " 134: 2,\n",
       " 135: 3,\n",
       " 136: 4,\n",
       " 137: 5,\n",
       " 138: 6,\n",
       " 139: 7,\n",
       " 140: 8,\n",
       " 141: 9,\n",
       " 142: 10}"
      ]
     },
     "execution_count": 13,
     "metadata": {},
     "output_type": "execute_result"
    }
   ],
   "source": [
    "node_link"
   ]
  },
  {
   "cell_type": "code",
   "execution_count": 14,
   "id": "0cd15c12-1b0c-4e15-8b8a-a400fe539bb4",
   "metadata": {},
   "outputs": [
    {
     "name": "stdout",
     "output_type": "stream",
     "text": [
      "13\n",
      "0\n",
      "min_val:  10021 output_node:  133 input_node:  1\n",
      "1\n",
      "min_val:  10032 output_node:  133 input_node:  1\n",
      "2\n",
      "min_val:  10042 output_node:  133 input_node:  1\n",
      "3\n",
      "min_val:  10043 output_node:  133 input_node:  1\n",
      "4\n",
      "min_val:  10040 output_node:  35 input_node:  24\n",
      "5\n",
      "min_val:  10041 output_node:  59 input_node:  48\n",
      "6\n",
      "min_val:  10031 output_node:  137 input_node:  5\n",
      "7\n",
      "min_val:  10009 output_node:  59 input_node:  48\n",
      "8\n",
      "min_val:  10010 output_node:  134 input_node:  2\n"
     ]
    }
   ],
   "source": [
    "min_val_all = []\n",
    "min_node = dimY+2+1\n",
    "print(min_node)\n",
    "\n",
    "num_tiles = 5+5-1\n",
    "\n",
    "for I in range(num_tiles): #number of tiles that mast cross the elve\n",
    "    print(I)\n",
    "    g = Graph((dimX+2)*(dimY+2)) \n",
    "\n",
    "    for i in range(dimX+1):\n",
    "        for j in range(dimY+1):        \n",
    "            g.add_edge(node_num(i, j), node_num(i+1, j), cycle(matrix[i+1, j], I), cycle(matrix[i, j], I))\n",
    "            g.add_edge(node_num(i, j), node_num(i, j+1), cycle(matrix[i, j+1], I), cycle(matrix[i, j], I))\n",
    "\n",
    "    D  = dijkstra(g, min_node)\n",
    "#     print(D)\n",
    "\n",
    "    min_val  = 1000000\n",
    "#     min_node = 0\n",
    "\n",
    "    for i in range(1,dimX+1):\n",
    "        j = dimY+1\n",
    "        if D[node_num(i,j)] < min_val:\n",
    "            min_val = D[node_num(i,j)]\n",
    "            min_node = node_num(i,j)\n",
    "\n",
    "    for j in range(1,dimY+1):\n",
    "        i = dimX+1\n",
    "        if D[node_num(i,j)] < min_val:\n",
    "            min_val = D[node_num(i,j)]\n",
    "            min_node = node_num(i,j)\n",
    "    \n",
    "    print('min_val: ', min_val, 'output_node: ', min_node, 'input_node: ', node_link[min_node])\n",
    "    min_node = node_link[min_node]\n",
    "    \n",
    "    min_val_all.append(min_val-10000)\n",
    "    \n",
    "\n"
   ]
  },
  {
   "cell_type": "code",
   "execution_count": 10,
   "id": "62bbfaf7-79c5-422b-ba8c-6a124af547b4",
   "metadata": {},
   "outputs": [
    {
     "data": {
      "text/plain": [
       "[289, 310, 230, 278, 243, 209, 167, 119, 124]"
      ]
     },
     "execution_count": 10,
     "metadata": {},
     "output_type": "execute_result"
    }
   ],
   "source": [
    "min_val_all"
   ]
  },
  {
   "cell_type": "code",
   "execution_count": 17,
   "id": "e096e1ae-7775-4bfb-ad1c-b66d640531f2",
   "metadata": {},
   "outputs": [
    {
     "data": {
      "text/plain": [
       "2055"
      ]
     },
     "execution_count": 17,
     "metadata": {},
     "output_type": "execute_result"
    }
   ],
   "source": [
    "np.asarray(min_val_all).sum()-min_val_all[-1] +210 #D[node_num(dimX-1, dimY-1)]"
   ]
  },
  {
   "cell_type": "code",
   "execution_count": 16,
   "id": "83049423-8158-4521-8de1-a6e353741f94",
   "metadata": {},
   "outputs": [
    {
     "data": {
      "text/plain": [
       "10210"
      ]
     },
     "execution_count": 16,
     "metadata": {},
     "output_type": "execute_result"
    }
   ],
   "source": [
    "len(D)\n",
    "D[10402]"
   ]
  },
  {
   "cell_type": "code",
   "execution_count": 54,
   "id": "cb4a215d-c6d8-4fb6-890e-4a62ff2e8c55",
   "metadata": {},
   "outputs": [
    {
     "name": "stdout",
     "output_type": "stream",
     "text": [
      "\n",
      "1163751742\n",
      "1381373672\n",
      "2136511328\n",
      "3694931569\n",
      "7463417111\n",
      "1319128137\n",
      "1359912421\n",
      "3125421639\n",
      "1293138521\n",
      "2311944581"
     ]
    }
   ],
   "source": [
    "for i in range(1,dimX+1):\n",
    "    print()\n",
    "    for j in range(1,dimY+1):\n",
    "        print(matrix[i,j], end='')\n",
    "\n"
   ]
  },
  {
   "cell_type": "code",
   "execution_count": 55,
   "id": "b80e22fc-c8d7-4ebc-85ae-4583ea1e631d",
   "metadata": {},
   "outputs": [
    {
     "name": "stdout",
     "output_type": "stream",
     "text": [
      "\n",
      "2274862853\n",
      "2492484783\n",
      "3247622439\n",
      "4715142671\n",
      "8574528222\n",
      "2421239248\n",
      "2461123532\n",
      "4236532741\n",
      "2314249632\n",
      "3422155692"
     ]
    }
   ],
   "source": [
    "for i in range(1,dimX+1):\n",
    "    print()\n",
    "    for j in range(1,dimY+1):\n",
    "        print(cycle(matrix[i,j], 1), end='')\n"
   ]
  },
  {
   "cell_type": "code",
   "execution_count": null,
   "id": "1ef2c313-9f0f-4f6c-a469-e070e8dfff32",
   "metadata": {},
   "outputs": [],
   "source": []
  }
 ],
 "metadata": {
  "kernelspec": {
   "display_name": "Python 3 (ipykernel)",
   "language": "python",
   "name": "python3"
  },
  "language_info": {
   "codemirror_mode": {
    "name": "ipython",
    "version": 3
   },
   "file_extension": ".py",
   "mimetype": "text/x-python",
   "name": "python",
   "nbconvert_exporter": "python",
   "pygments_lexer": "ipython3",
   "version": "3.8.12"
  }
 },
 "nbformat": 4,
 "nbformat_minor": 5
}
