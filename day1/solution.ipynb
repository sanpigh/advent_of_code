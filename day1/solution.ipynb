{
 "cells": [
  {
   "cell_type": "code",
   "execution_count": 1,
   "id": "23028cb0-ffce-4416-8e9c-397040c8eb06",
   "metadata": {},
   "outputs": [],
   "source": [
    "import numpy as np\n",
    "import pandas as pd"
   ]
  },
  {
   "cell_type": "markdown",
   "id": "132eb845-2065-4c2a-af9d-1357b89d26ad",
   "metadata": {},
   "source": [
    "## 1st exercise"
   ]
  },
  {
   "cell_type": "code",
   "execution_count": 18,
   "id": "713855f8-f200-41a0-89b3-f08987da36a0",
   "metadata": {},
   "outputs": [
    {
     "name": "stdout",
     "output_type": "stream",
     "text": [
      "         0\n",
      "0      187\n",
      "1      195\n",
      "2      199\n",
      "3      218\n",
      "4      221\n",
      "...    ...\n",
      "1995  9726\n",
      "1996  9735\n",
      "1997  9737\n",
      "1998  9752\n",
      "1999  9745\n",
      "\n",
      "[2000 rows x 1 columns]\n"
     ]
    }
   ],
   "source": [
    "depth = pd.read_csv(\"input1.dat\", header=None)\n",
    "print(depth)\n",
    "d = depth.to_numpy(copy=True)"
   ]
  },
  {
   "cell_type": "code",
   "execution_count": 16,
   "id": "e58718a1-bb17-4d64-aaa4-a810ea566b1c",
   "metadata": {},
   "outputs": [
    {
     "data": {
      "text/plain": [
       "array([[ 187],\n",
       "       [ 195],\n",
       "       [ 199],\n",
       "       ...,\n",
       "       [9735],\n",
       "       [9737],\n",
       "       [9752]])"
      ]
     },
     "execution_count": 16,
     "metadata": {},
     "output_type": "execute_result"
    }
   ],
   "source": [
    "d[0:-1]"
   ]
  },
  {
   "cell_type": "code",
   "execution_count": 17,
   "id": "83fac02c-115d-46ae-87ce-0ffcd08e307f",
   "metadata": {},
   "outputs": [
    {
     "data": {
      "text/plain": [
       "array([[ 195],\n",
       "       [ 199],\n",
       "       [ 218],\n",
       "       ...,\n",
       "       [9737],\n",
       "       [9752],\n",
       "       [9745]])"
      ]
     },
     "execution_count": 17,
     "metadata": {},
     "output_type": "execute_result"
    }
   ],
   "source": [
    "d[1:]"
   ]
  },
  {
   "cell_type": "code",
   "execution_count": 26,
   "id": "49ad9448-2272-425d-a9b8-9e275ccbb061",
   "metadata": {},
   "outputs": [],
   "source": [
    "dd = d[1:]-d[0:-1]"
   ]
  },
  {
   "cell_type": "code",
   "execution_count": 33,
   "id": "7c18c554-3224-4c4f-8a65-1c6dd5576e61",
   "metadata": {},
   "outputs": [
    {
     "data": {
      "text/plain": [
       "1665"
      ]
     },
     "execution_count": 33,
     "metadata": {},
     "output_type": "execute_result"
    }
   ],
   "source": [
    "len([1 for x in dd if x > 0])"
   ]
  },
  {
   "cell_type": "markdown",
   "id": "d514c4ab-f93b-44f2-b886-79d81680c6bb",
   "metadata": {},
   "source": [
    "## 2nd exercise, rolling average"
   ]
  },
  {
   "cell_type": "code",
   "execution_count": 45,
   "id": "575e237a-c7ed-48ef-95c3-d8d887cbf5c2",
   "metadata": {},
   "outputs": [
    {
     "data": {
      "text/html": [
       "<div>\n",
       "<style scoped>\n",
       "    .dataframe tbody tr th:only-of-type {\n",
       "        vertical-align: middle;\n",
       "    }\n",
       "\n",
       "    .dataframe tbody tr th {\n",
       "        vertical-align: top;\n",
       "    }\n",
       "\n",
       "    .dataframe thead th {\n",
       "        text-align: right;\n",
       "    }\n",
       "</style>\n",
       "<table border=\"1\" class=\"dataframe\">\n",
       "  <thead>\n",
       "    <tr style=\"text-align: right;\">\n",
       "      <th></th>\n",
       "      <th>0</th>\n",
       "    </tr>\n",
       "  </thead>\n",
       "  <tbody>\n",
       "    <tr>\n",
       "      <th>0</th>\n",
       "      <td>187</td>\n",
       "    </tr>\n",
       "    <tr>\n",
       "      <th>1</th>\n",
       "      <td>195</td>\n",
       "    </tr>\n",
       "    <tr>\n",
       "      <th>2</th>\n",
       "      <td>199</td>\n",
       "    </tr>\n",
       "    <tr>\n",
       "      <th>3</th>\n",
       "      <td>218</td>\n",
       "    </tr>\n",
       "    <tr>\n",
       "      <th>4</th>\n",
       "      <td>221</td>\n",
       "    </tr>\n",
       "    <tr>\n",
       "      <th>...</th>\n",
       "      <td>...</td>\n",
       "    </tr>\n",
       "    <tr>\n",
       "      <th>1995</th>\n",
       "      <td>9726</td>\n",
       "    </tr>\n",
       "    <tr>\n",
       "      <th>1996</th>\n",
       "      <td>9735</td>\n",
       "    </tr>\n",
       "    <tr>\n",
       "      <th>1997</th>\n",
       "      <td>9737</td>\n",
       "    </tr>\n",
       "    <tr>\n",
       "      <th>1998</th>\n",
       "      <td>9752</td>\n",
       "    </tr>\n",
       "    <tr>\n",
       "      <th>1999</th>\n",
       "      <td>9745</td>\n",
       "    </tr>\n",
       "  </tbody>\n",
       "</table>\n",
       "<p>2000 rows × 1 columns</p>\n",
       "</div>"
      ],
      "text/plain": [
       "         0\n",
       "0      187\n",
       "1      195\n",
       "2      199\n",
       "3      218\n",
       "4      221\n",
       "...    ...\n",
       "1995  9726\n",
       "1996  9735\n",
       "1997  9737\n",
       "1998  9752\n",
       "1999  9745\n",
       "\n",
       "[2000 rows x 1 columns]"
      ]
     },
     "execution_count": 45,
     "metadata": {},
     "output_type": "execute_result"
    }
   ],
   "source": [
    "depth"
   ]
  },
  {
   "cell_type": "code",
   "execution_count": 53,
   "id": "83078421-107a-4c98-bed9-faa8ea999112",
   "metadata": {},
   "outputs": [
    {
     "data": {
      "text/html": [
       "<div>\n",
       "<style scoped>\n",
       "    .dataframe tbody tr th:only-of-type {\n",
       "        vertical-align: middle;\n",
       "    }\n",
       "\n",
       "    .dataframe tbody tr th {\n",
       "        vertical-align: top;\n",
       "    }\n",
       "\n",
       "    .dataframe thead th {\n",
       "        text-align: right;\n",
       "    }\n",
       "</style>\n",
       "<table border=\"1\" class=\"dataframe\">\n",
       "  <thead>\n",
       "    <tr style=\"text-align: right;\">\n",
       "      <th></th>\n",
       "      <th>0</th>\n",
       "    </tr>\n",
       "  </thead>\n",
       "  <tbody>\n",
       "    <tr>\n",
       "      <th>0</th>\n",
       "      <td>NaN</td>\n",
       "    </tr>\n",
       "    <tr>\n",
       "      <th>1</th>\n",
       "      <td>NaN</td>\n",
       "    </tr>\n",
       "    <tr>\n",
       "      <th>2</th>\n",
       "      <td>581.0</td>\n",
       "    </tr>\n",
       "    <tr>\n",
       "      <th>3</th>\n",
       "      <td>612.0</td>\n",
       "    </tr>\n",
       "    <tr>\n",
       "      <th>4</th>\n",
       "      <td>638.0</td>\n",
       "    </tr>\n",
       "    <tr>\n",
       "      <th>...</th>\n",
       "      <td>...</td>\n",
       "    </tr>\n",
       "    <tr>\n",
       "      <th>1995</th>\n",
       "      <td>29123.0</td>\n",
       "    </tr>\n",
       "    <tr>\n",
       "      <th>1996</th>\n",
       "      <td>29174.0</td>\n",
       "    </tr>\n",
       "    <tr>\n",
       "      <th>1997</th>\n",
       "      <td>29198.0</td>\n",
       "    </tr>\n",
       "    <tr>\n",
       "      <th>1998</th>\n",
       "      <td>29224.0</td>\n",
       "    </tr>\n",
       "    <tr>\n",
       "      <th>1999</th>\n",
       "      <td>29234.0</td>\n",
       "    </tr>\n",
       "  </tbody>\n",
       "</table>\n",
       "<p>2000 rows × 1 columns</p>\n",
       "</div>"
      ],
      "text/plain": [
       "            0\n",
       "0         NaN\n",
       "1         NaN\n",
       "2       581.0\n",
       "3       612.0\n",
       "4       638.0\n",
       "...       ...\n",
       "1995  29123.0\n",
       "1996  29174.0\n",
       "1997  29198.0\n",
       "1998  29224.0\n",
       "1999  29234.0\n",
       "\n",
       "[2000 rows x 1 columns]"
      ]
     },
     "execution_count": 53,
     "metadata": {},
     "output_type": "execute_result"
    }
   ],
   "source": [
    "agg_depth = depth.rolling(3, win_type=None).sum()\n",
    "agg_depth"
   ]
  },
  {
   "cell_type": "code",
   "execution_count": 56,
   "id": "6b2a9ea9-22f9-4f03-93cb-6203551fd2b4",
   "metadata": {},
   "outputs": [
    {
     "data": {
      "text/plain": [
       "array([[  581.],\n",
       "       [  612.],\n",
       "       [  638.],\n",
       "       ...,\n",
       "       [29198.],\n",
       "       [29224.],\n",
       "       [29234.]])"
      ]
     },
     "execution_count": 56,
     "metadata": {},
     "output_type": "execute_result"
    }
   ],
   "source": [
    "d = agg_depth.to_numpy(copy=True)[2:] # The 2 eliminate nans\n",
    "d"
   ]
  },
  {
   "cell_type": "code",
   "execution_count": 58,
   "id": "d6e7f2c9-5a7f-446c-b042-184ce87733f7",
   "metadata": {},
   "outputs": [
    {
     "data": {
      "text/plain": [
       "array([[31.],\n",
       "       [26.],\n",
       "       [23.],\n",
       "       ...,\n",
       "       [24.],\n",
       "       [26.],\n",
       "       [10.]])"
      ]
     },
     "execution_count": 58,
     "metadata": {},
     "output_type": "execute_result"
    }
   ],
   "source": [
    "dd = d[1:]-d[0:-1]\n",
    "dd"
   ]
  },
  {
   "cell_type": "code",
   "execution_count": 59,
   "id": "1b0561bd-bd9a-49c0-8db5-91d89e452ff0",
   "metadata": {},
   "outputs": [
    {
     "data": {
      "text/plain": [
       "1702"
      ]
     },
     "execution_count": 59,
     "metadata": {},
     "output_type": "execute_result"
    }
   ],
   "source": [
    "len([1 for x in dd if x > 0])"
   ]
  },
  {
   "cell_type": "code",
   "execution_count": null,
   "id": "586f0017-bd09-46e1-af05-7bc881ab7a51",
   "metadata": {},
   "outputs": [],
   "source": []
  }
 ],
 "metadata": {
  "kernelspec": {
   "display_name": "Python 3 (ipykernel)",
   "language": "python",
   "name": "python3"
  },
  "language_info": {
   "codemirror_mode": {
    "name": "ipython",
    "version": 3
   },
   "file_extension": ".py",
   "mimetype": "text/x-python",
   "name": "python",
   "nbconvert_exporter": "python",
   "pygments_lexer": "ipython3",
   "version": "3.8.12"
  }
 },
 "nbformat": 4,
 "nbformat_minor": 5
}
