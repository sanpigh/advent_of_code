{
 "cells": [
  {
   "cell_type": "code",
   "execution_count": 50,
   "id": "0f49d67e-4983-47df-9a46-cbd95c37f613",
   "metadata": {},
   "outputs": [
    {
     "data": {
      "text/plain": [
       "'((((<([<{(<(<[<><>>[{}()]>{{()[]}<[][]>}){{(()<>)(<>())}}>{<(([]())({}<>))[<{}()>{{}{}}]>}){{<'"
      ]
     },
     "execution_count": 50,
     "metadata": {},
     "output_type": "execute_result"
    }
   ],
   "source": [
    "import pandas as pd\n",
    "import numpy as np\n",
    "\n",
    "with open('input') as f:\n",
    "    lines_bck = f.read().splitlines()\n",
    "\n",
    "def split(word):\n",
    "    return [char for char in word]    \n",
    "    \n",
    "# lines = [char for char in [x for x in lines_bck]]\n",
    "# lines = [split(x) for x in lines_bck]\n",
    "# a = np.asarray(lines)\n",
    "lines_bck[0]"
   ]
  },
  {
   "cell_type": "markdown",
   "id": "1e8ae744-da44-459b-bb2a-4d3db24cf39a",
   "metadata": {},
   "source": [
    "\n",
    "    {([(<{}[<>[]}>{[]{[(<()> - Expected ], but found } instead.\n",
    "    [[<[([]))<([[{}[[()]]] - Expected ], but found ) instead.\n",
    "    [{[{({}]{}}([{[{{{}}([] - Expected ), but found ] instead.\n",
    "    [<(<(<(<{}))><([]([]() - Expected >, but found ) instead.\n",
    "    <{([([[(<>()){}]>(<<{{ - Expected ], but found > instead.\n",
    "\n"
   ]
  },
  {
   "cell_type": "code",
   "execution_count": 24,
   "id": "1ebd6cd0-ac9c-47e7-b9da-f134ba793773",
   "metadata": {},
   "outputs": [],
   "source": [
    "a = '{([(<{}[<>[]}>{[]{[(<()>'\n",
    "# b = list(a)\n",
    "# b.pop()"
   ]
  },
  {
   "cell_type": "code",
   "execution_count": 25,
   "id": "85729cc8-fa78-48f6-b702-138027bb3636",
   "metadata": {},
   "outputs": [],
   "source": [
    "# b"
   ]
  },
  {
   "cell_type": "code",
   "execution_count": 48,
   "id": "05d5c112-14d6-4716-946e-14a096331279",
   "metadata": {},
   "outputs": [
    {
     "name": "stdout",
     "output_type": "stream",
     "text": [
      "{        (        [        (        <        {        }        [        <        >        [        ]        }        error expected ] found } score 1197\n"
     ]
    }
   ],
   "source": [
    "openings = list('{([<')\n",
    "closings = { '{' : '}','(' : ')','[' : ']','<' : '>' }\n",
    "scores   = {')': 3, ']': 57, '}': 1197, '>': 25137 }\n",
    "total = 0\n",
    "# print(openings)\n",
    "lis = []\n",
    "for char in list(a):\n",
    "    print(char, end='        ')\n",
    "    if char in openings:\n",
    "        lis.append(char)\n",
    "    else:\n",
    "        opener_char = lis.pop()\n",
    "        closener_char = closings[opener_char]\n",
    "        if closener_char != char:\n",
    "            print('error expected', closener_char, 'found', char, 'score', scores[char])\n",
    "            total += scores[char]\n",
    "            break\n",
    "#     print(lis)"
   ]
  },
  {
   "cell_type": "code",
   "execution_count": 67,
   "id": "e80badcc-7288-4d00-b5a8-7372faee93ab",
   "metadata": {},
   "outputs": [
    {
     "name": "stdout",
     "output_type": "stream",
     "text": [
      "error expected ] found > score 25137\n",
      "error expected } found > score 25137\n",
      "error expected > found } score 1197\n",
      "error expected } found > score 25137\n",
      "error expected ) found ] score 57\n",
      "error expected ] found > score 25137\n",
      "error expected > found ) score 3\n",
      "error expected ] found > score 25137\n",
      "error expected > found } score 1197\n",
      "error expected } found ] score 57\n",
      "error expected > found ) score 3\n",
      "error expected ] found > score 25137\n",
      "error expected ] found } score 1197\n",
      "error expected } found ) score 3\n",
      "error expected ) found > score 25137\n",
      "error expected ) found } score 1197\n",
      "error expected } found ] score 57\n",
      "error expected ] found > score 25137\n",
      "error expected } found ) score 3\n",
      "error expected > found ) score 3\n",
      "error expected > found ] score 57\n",
      "error expected } found > score 25137\n",
      "error expected ] found ) score 3\n",
      "error expected > found ] score 57\n",
      "error expected ) found > score 25137\n",
      "error expected ) found > score 25137\n",
      "error expected } found ) score 3\n",
      "error expected > found } score 1197\n",
      "error expected } found > score 25137\n",
      "error expected ) found > score 25137\n",
      "error expected ) found } score 1197\n",
      "error expected > found ] score 57\n",
      "error expected ] found ) score 3\n",
      "error expected ) found > score 25137\n",
      "error expected ] found } score 1197\n",
      "error expected > found ) score 3\n",
      "error expected ] found > score 25137\n",
      "error expected ] found ) score 3\n",
      "error expected } found ] score 57\n",
      "error expected > found ) score 3\n",
      "error expected } found > score 25137\n",
      "error expected ] found } score 1197\n",
      "error expected > found ) score 3\n",
      "error expected ] found ) score 3\n",
      "error expected } found ) score 3\n",
      "error expected ) found > score 25137\n",
      "error expected ] found } score 1197\n",
      "error expected ) found ] score 57\n",
      "error expected } found ] score 57\n",
      "error expected > found } score 1197\n",
      "error expected ) found > score 25137\n"
     ]
    }
   ],
   "source": [
    "with open('input') as f:\n",
    "    lines_bck = f.read().splitlines()\n",
    "\n",
    "\n",
    "openings = list('{([<')\n",
    "\n",
    "\n",
    "closings = { '{' : '}','(' : ')','[' : ']','<' : '>' }\n",
    "scores   = {')': 3, ']': 57, '}': 1197, '>': 25137 }\n",
    "total = 0\n",
    "# print(openings)\n",
    "\n",
    "for line in lines_bck:\n",
    "    lis = []\n",
    "    for char in list(line):\n",
    "#         print(char, end='        ')\n",
    "        if char in openings:\n",
    "            lis.append(char)\n",
    "        else:\n",
    "            opener_char = lis.pop()\n",
    "            closener_char = closings[opener_char]\n",
    "            if closener_char != char:\n",
    "                print('error expected', closener_char, 'found', char, 'score', scores[char])\n",
    "                total += scores[char]\n",
    "                break\n",
    "    #     print(lis)"
   ]
  },
  {
   "cell_type": "code",
   "execution_count": 68,
   "id": "71a44238-e6da-4d2e-8c19-6f6f7196c868",
   "metadata": {},
   "outputs": [
    {
     "data": {
      "text/plain": [
       "464991"
      ]
     },
     "execution_count": 68,
     "metadata": {},
     "output_type": "execute_result"
    }
   ],
   "source": [
    "total"
   ]
  },
  {
   "cell_type": "code",
   "execution_count": 75,
   "id": "36d5167b-6ae3-4dad-be6f-62350a875286",
   "metadata": {},
   "outputs": [
    {
     "data": {
      "text/plain": [
       "'])}>'"
      ]
     },
     "execution_count": 75,
     "metadata": {},
     "output_type": "execute_result"
    }
   ],
   "source": [
    "a = '])}>'\n",
    "a"
   ]
  },
  {
   "cell_type": "code",
   "execution_count": 78,
   "id": "4738e1b5-0b9a-4a1e-a9f9-92cd8e42d843",
   "metadata": {},
   "outputs": [
    {
     "name": "stdout",
     "output_type": "stream",
     "text": [
      "[']', ')', '}', '>']\n",
      "] 2 2\n",
      ") 1 11\n",
      "} 3 58\n",
      "> 4 294\n"
     ]
    }
   ],
   "source": [
    "scores_clos   = {')': 1, ']': 2, '}': 3, '>': 4 }\n",
    "lis = list(a)\n",
    "print(lis)\n",
    "\n",
    "score = 0\n",
    "while len(lis) != 0:\n",
    "    popy = lis.pop(0)\n",
    "    score *= 5\n",
    "    score += scores_clos[popy]\n",
    "    print(popy, scores_clos[popy], score)\n",
    "    \n",
    "    "
   ]
  },
  {
   "cell_type": "code",
   "execution_count": 79,
   "id": "bf310d9a-85ac-4575-bafd-9c3c2e97b20c",
   "metadata": {},
   "outputs": [
    {
     "data": {
      "text/plain": [
       "294"
      ]
     },
     "execution_count": 79,
     "metadata": {},
     "output_type": "execute_result"
    }
   ],
   "source": [
    "score"
   ]
  },
  {
   "cell_type": "code",
   "execution_count": 91,
   "id": "e11ce700-1424-4011-b707-d9779ab091a6",
   "metadata": {},
   "outputs": [],
   "source": [
    "closings = { '{' : '}','(' : ')','[' : ']','<' : '>' }\n",
    "def score_f(lisx):\n",
    "    score = 0\n",
    "    while len(lisx) != 0:\n",
    "        popy = closings[lisx.pop()]\n",
    "        score *= 5\n",
    "        score += scores_clos[popy]\n",
    "#         print(popy, scores_clos[popy], score)\n",
    "    return score"
   ]
  },
  {
   "cell_type": "code",
   "execution_count": null,
   "id": "c387c410-480a-4389-8e01-00b9e3d95e03",
   "metadata": {},
   "outputs": [],
   "source": []
  },
  {
   "cell_type": "code",
   "execution_count": null,
   "id": "e66c0e7b-5f9a-408b-b965-8fd90ae7fdb9",
   "metadata": {},
   "outputs": [],
   "source": []
  },
  {
   "cell_type": "code",
   "execution_count": null,
   "id": "b78a8ae2-8db6-4db1-a1eb-e2465a97f6a5",
   "metadata": {},
   "outputs": [],
   "source": []
  },
  {
   "cell_type": "code",
   "execution_count": 94,
   "id": "d088c3ba-9fb9-46b1-b5eb-519391528ea3",
   "metadata": {
    "collapsed": true,
    "jupyter": {
     "outputs_hidden": true
    },
    "tags": []
   },
   "outputs": [
    {
     "name": "stdout",
     "output_type": "stream",
     "text": [
      "error expected ] found > score 25137\n",
      "['(', '(', '(', '(', '<', '(', '[', '<', '{', '(', '<', '(', '<']\n",
      "error expected } found > score 25137\n",
      "['<', '{', '<', '[', '(', '[', '{', '<', '{', '[', '{', '[']\n",
      "not error ['[', '(', '[', '<', '[', '(', '(', '{', '(', '<', '[', '{', '{', '[', '<']\n",
      "error expected > found } score 1197\n",
      "['[', '<', '[', '[', '[', '{', '{', '<', '{', '{', '(', '{']\n",
      "not error ['{', '{', '{', '[', '{', '[', '[', '{', '{', '{', '[', '{', '{', '(', '[']\n",
      "error expected } found > score 25137\n",
      "['{', '{', '<', '[', '(', '[', '<', '[', '(', '{', '(', '<']\n",
      "error expected ) found ] score 57\n",
      "['(', '{', '(', '(', '[', '[', '<', '<', '(', '[', '<', '{']\n",
      "error expected ] found > score 25137\n",
      "['{', '[', '<', '{', '(', '(', '[', '{', '[', '(', '[', '(']\n",
      "error expected > found ) score 3\n",
      "['[', '(', '{', '<', '(', '{', '(', '[', '<', '{', '<', '<']\n",
      "not error ['[', '(', '[', '(', '<', '[', '(', '[', '<', '[']\n",
      "not error ['{', '{', '[', '[', '(', '(', '[', '{', '{', '{', '[', '[', '[', '{']\n",
      "not error ['[', '{', '(', '<', '{', '<', '[', '<', '(', '<', '(', '[', '[', '<']\n",
      "error expected ] found > score 25137\n",
      "['[', '{', '<', '[', '<', '{', '<', '(', '(']\n",
      "error expected > found } score 1197\n",
      "['<', '{', '(', '[', '(', '{', '[', '<', '{', '{', '{']\n",
      "error expected } found ] score 57\n",
      "['<', '[', '{', '[', '[', '[', '{', '<', '{', '[', '<', '(', '{']\n",
      "error expected > found ) score 3\n",
      "['(', '<', '{', '(', '<', '[', '(', '{', '<', '(']\n",
      "not error ['[', '(', '(', '(', '(', '<', '[', '(', '(', '(', '<', '{', '[', '[']\n",
      "not error ['<', '(', '(', '{', '<', '{', '[', '(', '(', '(', '(', '[', '(']\n",
      "not error ['[', '{', '(', '{', '[', '[', '[', '[', '<', '{', '{', '<', '{']\n",
      "not error ['[', '[', '(', '[', '[', '{', '(', '[', '{', '{', '(', '(', '{', '[']\n",
      "not error ['{', '(', '{', '{', '[', '{', '{', '<', '<', '<', '(', '(', '{', '[']\n",
      "error expected ] found > score 25137\n",
      "['(', '(', '(', '<', '(', '(', '[', '<', '[', '<', '{', '<', '{']\n",
      "not error ['{', '[', '<', '[', '<', '[', '[', '<', '[', '[', '[', '(', '{', '<', '<']\n",
      "not error ['<', '(', '{', '<', '[', '<', '{', '<', '[', '<', '[', '<', '{', '(']\n",
      "error expected ] found } score 1197\n",
      "['(', '{', '<', '[', '<', '<', '{', '<']\n",
      "not error ['[', '(', '{', '(', '(', '(', '{', '[', '<', '{', '<']\n",
      "error expected } found ) score 3\n",
      "['<', '{', '<', '(', '[', '<', '{', '{', '[', '(', '{', '<', '{']\n",
      "error expected ) found > score 25137\n",
      "['[', '<', '<', '{', '(', '<', '[', '{', '[', '{', '<', '{', '<']\n",
      "not error ['<', '(', '<', '{', '{', '(', '<', '<', '<', '[']\n",
      "error expected ) found } score 1197\n",
      "['<', '[', '(', '(', '(', '[', '<', '{', '(', '{', '(', '{', '[']\n",
      "not error ['[', '{', '(', '<', '[', '<', '(', '(', '{', '<', '{', '<', '{', '{']\n",
      "not error ['<', '{', '[', '[', '{', '(', '{', '[', '{', '(', '<', '<', '{', '(']\n",
      "error expected } found ] score 57\n",
      "['<', '{', '(', '<', '<', '[', '<', '[', '[', '[', '<', '[', '(']\n",
      "not error ['<', '{', '[', '<', '<', '(', '{', '[', '(', '<', '{', '<', '<', '(']\n",
      "error expected ] found > score 25137\n",
      "['{', '(', '{', '[', '{', '[', '(', '<', '<', '[', '<', '{', '[']\n",
      "error expected } found ) score 3\n",
      "['(', '[', '(', '(', '{', '[', '{', '<', '{', '[', '(', '[', '<']\n",
      "error expected > found ) score 3\n",
      "['{', '<', '<', '<', '[', '(', '[', '(', '<', '<', '[']\n",
      "not error ['(', '(', '{', '(', '{', '[', '<', '[', '(', '[', '<', '<', '<']\n",
      "error expected > found ] score 57\n",
      "['{', '{', '(', '(', '{', '{', '<', '(', '(']\n",
      "not error ['(', '{', '(', '[', '{', '<', '{', '{', '{', '[', '<', '(', '<']\n",
      "error expected } found > score 25137\n",
      "['[', '[', '(', '<', '[', '[', '(']\n",
      "error expected ] found ) score 3\n",
      "['(', '<', '<', '<', '<', '[', '{', '<', '{', '{', '{', '{', '[']\n",
      "not error ['(', '{', '[', '{', '{', '[', '{', '{', '<', '<', '<', '<', '<', '[']\n",
      "not error ['(', '{', '(', '(', '(', '(', '{', '<', '[', '<', '<', '(', '{', '{']\n",
      "not error ['{', '{', '<', '<', '{', '{', '[', '<', '<', '[', '<', '{', '(']\n",
      "not error ['[', '<', '(', '<', '<', '{', '(', '(', '[', '{', '{', '{', '[', '<']\n",
      "not error ['(', '<', '{', '(', '<', '<', '{', '[', '[', '{', '[', '[', '(', '<', '{']\n",
      "not error ['<', '<', '[', '[', '(', '(', '(', '[', '{', '{', '(', '[', '<']\n",
      "error expected > found ] score 57\n",
      "['<', '(', '[', '<', '{', '<', '{', '{', '[', '[', '[', '{', '<']\n",
      "not error ['{', '<', '(', '(', '<', '[', '[', '{', '{', '{', '(', '<', '{', '<']\n",
      "not error ['(', '(', '(', '[', '[', '<', '(', '<', '<', '<', '<', '{', '(']\n",
      "not error ['(', '<', '(', '{', '<', '{', '<', '{', '[', '(', '(', '{', '[']\n",
      "error expected ) found > score 25137\n",
      "['{', '<', '{', '{', '{', '{', '{', '(', '<', '{', '(', '(', '{']\n",
      "error expected ) found > score 25137\n",
      "['{', '{', '<', '[', '{', '(', '[', '{', '{', '<', '{', '(', '[']\n",
      "not error ['[', '(', '<', '(', '{', '<', '[', '{', '<', '(', '[', '<', '[', '(']\n",
      "error expected } found ) score 3\n",
      "['<', '(', '[', '[', '<', '(', '(', '{', '(', '(', '(', '[', '{']\n",
      "error expected > found } score 1197\n",
      "['(', '{', '{', '<', '[', '[', '(', '[', '{', '<', '{', '[', '[']\n",
      "not error ['(', '[', '(', '(', '(', '[', '[', '[', '{', '{', '{', '<', '[', '<']\n",
      "error expected } found > score 25137\n",
      "['[', '<', '<', '[', '[', '(', '{', '<', '<', '[', '[', '(', '(']\n",
      "not error ['{', '{', '{', '[', '(', '[', '(', '(', '{', '{']\n",
      "not error ['{', '<', '(', '<', '(', '(', '[', '<', '[', '(', '[', '<', '{', '{']\n",
      "not error ['[', '<', '{', '[', '[', '<', '[', '(', '<', '<', '{', '[', '(', '[', '(']\n",
      "not error ['{', '[', '(', '[', '(', '<', '{', '{', '(', '<', '{', '<', '[', '<']\n",
      "not error ['{', '(', '(', '(', '(', '<', '{', '[', '{', '[', '{', '{', '[']\n",
      "error expected ) found > score 25137\n",
      "['[', '(', '(', '{', '[', '[', '<', '<', '{', '<', '[', '[']\n",
      "not error ['[', '(', '[', '[', '[', '[', '{', '(', '(', '[', '[']\n",
      "not error ['[', '{', '{', '<', '[', '{', '<', '(', '(', '(', '[']\n",
      "not error ['[', '(', '(', '[', '(', '{', '<', '(', '<', '{', '{', '[', '{']\n",
      "not error ['{', '[', '[', '{', '<', '[', '(', '<', '<', '[', '<', '(', '[', '<']\n",
      "not error ['<', '[', '(', '{', '(', '{', '<', '[', '(', '(', '[']\n",
      "error expected ) found } score 1197\n",
      "['<', '<', '<', '[', '<', '{', '[', '[', '<', '{', '[', '<', '<']\n",
      "error expected > found ] score 57\n",
      "['(', '[', '(', '{', '{', '[', '(', '{', '{', '{', '(', '{', '{']\n",
      "error expected ] found ) score 3\n",
      "['{', '[', '[', '[', '(', '{', '{', '(', '{', '[', '(', '(', '<']\n",
      "error expected ) found > score 25137\n",
      "['[', '<', '(', '<', '<', '<', '{', '{', '(', '(', '<', '<']\n",
      "error expected ] found } score 1197\n",
      "['{', '[', '[', '{', '{', '<', '<', '[', '[', '[', '[', '[', '(']\n",
      "error expected > found ) score 3\n",
      "['<', '<', '<', '[', '[', '{', '(', '<', '{', '<']\n",
      "not error ['(', '[', '(', '[', '(', '(', '(', '[', '(', '<', '<', '[', '<', '{', '{']\n",
      "error expected ] found > score 25137\n",
      "['{', '[', '(', '[', '{', '{', '<', '{', '{', '[', '{', '<', '{']\n",
      "not error ['{', '[', '<', '[', '(', '<', '<', '<', '{', '{', '[', '{', '{', '(', '{']\n",
      "not error ['(', '(', '(', '{', '<', '{', '<', '[', '{', '(', '(', '<', '[', '{', '[']\n",
      "error expected ] found ) score 3\n",
      "['{', '<', '[', '<', '<', '(', '[', '<', '<', '<', '[', '[', '{']\n",
      "not error ['{', '[', '(', '(', '<', '[', '<', '(', '(', '<', '[', '<', '(', '<']\n",
      "not error ['[', '{', '[', '<', '{', '<', '(', '(', '[', '(', '{', '<', '(', '{', '(']\n",
      "not error ['<', '{', '(', '<', '(', '[', '<', '<', '{', '{', '<', '{', '[', '<']\n",
      "error expected } found ] score 57\n",
      "['(', '<', '(', '[', '(', '[', '<', '{', '<', '{', '[', '[']\n",
      "error expected > found ) score 3\n",
      "['[', '(', '{', '(', '(', '{', '[', '[', '[', '[', '<']\n",
      "error expected } found > score 25137\n",
      "['<', '(', '(', '(', '[', '[', '{', '(', '{', '(', '<', '[', '<']\n",
      "not error ['[', '{', '<', '{', '(', '<', '{', '[', '(', '(', '<', '{', '(', '{']\n",
      "error expected ] found } score 1197\n",
      "['<', '<', '(', '[', '{', '(', '<', '<', '(', '(', '[', '(']\n",
      "error expected > found ) score 3\n",
      "['[', '(', '<', '(', '[', '<', '{', '<', '[', '{', '(', '{', '(']\n",
      "error expected ] found ) score 3\n",
      "['{', '(', '{', '<', '(', '<', '(', '<', '{', '{', '<', '{', '[']\n",
      "not error ['{', '[', '{', '{', '[', '(', '<', '[', '[', '[', '<', '<', '<', '<', '<']\n",
      "error expected } found ) score 3\n",
      "['<', '{', '<', '{', '{', '[', '<', '[', '<', '{', '<', '<', '<']\n",
      "not error ['(', '(', '[', '{', '(', '[', '<', '<', '(', '<', '<', '{', '(', '{', '<']\n",
      "error expected ) found > score 25137\n",
      "['[', '[', '{', '<', '{', '{', '{', '{', '<', '(', '<', '{', '{']\n",
      "not error ['[', '(', '<', '<', '{', '[', '{', '(', '[', '{', '<', '[']\n",
      "error expected ] found } score 1197\n",
      "['<', '[', '{', '[', '(', '{', '[', '[', '[', '[', '(', '{', '[']\n",
      "error expected ) found ] score 57\n",
      "['{', '(', '[', '(', '(', '<', '{', '[', '<', '(', '{', '{']\n",
      "error expected } found ] score 57\n",
      "['[', '<', '<', '{', '(', '[', '{', '{', '{', '(', '[', '{', '[']\n",
      "not error ['{', '[', '<', '(', '(', '[', '[', '[', '{', '<', '{', '{', '{', '{']\n",
      "error expected > found } score 1197\n",
      "['[', '<', '[', '{', '(', '{', '{', '{', '[', '<', '[', '[', '[']\n",
      "error expected ) found > score 25137\n",
      "['(', '[', '{', '<', '(', '(', '[', '(', '(', '{', '{', '<', '<']\n"
     ]
    }
   ],
   "source": [
    "with open('input') as f:\n",
    "    lines_bck = f.read().splitlines()\n",
    "\n",
    "scores_clos   = {')': 1, ']': 2, '}': 3, '>': 4 }\n",
    "\n",
    "openings = list('{([<')\n",
    "closings = { '{' : '}','(' : ')','[' : ']','<' : '>' }\n",
    "scores   = {')': 3, ']': 57, '}': 1197, '>': 25137 }\n",
    "total = 0\n",
    "total_correct = []\n",
    "# print(openings)\n",
    "# unclosed_chunks = []\n",
    "\n",
    "for line in lines_bck:\n",
    "    error = False\n",
    "    lis = []\n",
    "    for char in list(line):\n",
    "#         print(char, end='        ')\n",
    "        if char in openings:\n",
    "            lis.append(char)\n",
    "        else:\n",
    "            opener_char = lis.pop()\n",
    "            closener_char = closings[opener_char]\n",
    "            if closener_char != char:\n",
    "                print('error expected', closener_char, 'found', char, 'score', scores[char])\n",
    "                print(lis)\n",
    "                total += scores[char]\n",
    "                error = True\n",
    "                break\n",
    "    if not error:\n",
    "        print('not error', lis)\n",
    "        total_correct.append(score_f(lis))\n",
    "        \n",
    "    \n"
   ]
  },
  {
   "cell_type": "code",
   "execution_count": 100,
   "id": "7d197226-6e77-45f9-949a-89dd0f122fe9",
   "metadata": {},
   "outputs": [
    {
     "data": {
      "text/plain": [
       "51"
      ]
     },
     "execution_count": 100,
     "metadata": {},
     "output_type": "execute_result"
    }
   ],
   "source": [
    "len(total_correct)"
   ]
  },
  {
   "cell_type": "code",
   "execution_count": 101,
   "id": "f43c7de1-6f7b-4193-89f3-73828e173209",
   "metadata": {},
   "outputs": [
    {
     "data": {
      "text/plain": [
       "3662008566"
      ]
     },
     "execution_count": 101,
     "metadata": {},
     "output_type": "execute_result"
    }
   ],
   "source": [
    "sorted(total_correct)[25]"
   ]
  },
  {
   "cell_type": "code",
   "execution_count": null,
   "id": "d1debd35-d53b-44aa-9e44-9ad3f513a49e",
   "metadata": {},
   "outputs": [],
   "source": []
  }
 ],
 "metadata": {
  "kernelspec": {
   "display_name": "Python 3 (ipykernel)",
   "language": "python",
   "name": "python3"
  },
  "language_info": {
   "codemirror_mode": {
    "name": "ipython",
    "version": 3
   },
   "file_extension": ".py",
   "mimetype": "text/x-python",
   "name": "python",
   "nbconvert_exporter": "python",
   "pygments_lexer": "ipython3",
   "version": "3.8.12"
  }
 },
 "nbformat": 4,
 "nbformat_minor": 5
}
