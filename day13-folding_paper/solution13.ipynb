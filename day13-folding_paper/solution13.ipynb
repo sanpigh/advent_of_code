{
 "cells": [
  {
   "cell_type": "code",
   "execution_count": 1,
   "id": "cb21002f-99c4-48f3-8d1a-db3e03fb4fbe",
   "metadata": {},
   "outputs": [
    {
     "data": {
      "text/plain": [
       "array([[ 6, 10],\n",
       "       [ 0, 14],\n",
       "       [ 9, 10],\n",
       "       [ 0,  3],\n",
       "       [10,  4],\n",
       "       [ 4, 11],\n",
       "       [ 6,  0],\n",
       "       [ 6, 12],\n",
       "       [ 4,  1],\n",
       "       [ 0, 13],\n",
       "       [10, 12],\n",
       "       [ 3,  4],\n",
       "       [ 3,  0],\n",
       "       [ 8,  4],\n",
       "       [ 1, 10],\n",
       "       [ 2, 14],\n",
       "       [ 8, 10],\n",
       "       [ 9,  0]])"
      ]
     },
     "execution_count": 1,
     "metadata": {},
     "output_type": "execute_result"
    }
   ],
   "source": [
    "# import pandas as pd\n",
    "import numpy as np\n",
    "\n",
    "with open('inputtest') as f:\n",
    "    lines_bck = f.read().splitlines()\n",
    "\n",
    "# def split(word):\n",
    "#     return [char for char in word]    \n",
    "\n",
    "# lines = [char for char in [x for x in lines_bck]]\n",
    "lines = [x.split(',') for x in lines_bck] #[:-13]]\n",
    "# lines = np.asarray(lines)\n",
    "# n = \n",
    "lines = [[int(row[0]), int(row[1])] for row in lines]\n",
    "# [row for row in lines]\n",
    "lines = np.asarray(lines)\n",
    "lines"
   ]
  },
  {
   "cell_type": "code",
   "execution_count": 2,
   "id": "f733d58b-0ca4-4f1b-bf42-c4cc13eb4f6d",
   "metadata": {},
   "outputs": [
    {
     "name": "stdout",
     "output_type": "stream",
     "text": [
      "15 11\n"
     ]
    }
   ],
   "source": [
    "m = np.max(lines[:,0]+1)\n",
    "n = np.max(lines[:,1]+1)\n",
    "print(n,m)"
   ]
  },
  {
   "cell_type": "code",
   "execution_count": 3,
   "id": "33fd0b19-b063-4ece-b76d-bb752ff7e2e0",
   "metadata": {},
   "outputs": [
    {
     "name": "stdout",
     "output_type": "stream",
     "text": [
      "(15, 11)\n"
     ]
    },
    {
     "data": {
      "text/plain": [
       "array([[0., 0., 0., 1., 0., 0., 1., 0., 0., 1., 0.],\n",
       "       [0., 0., 0., 0., 1., 0., 0., 0., 0., 0., 0.],\n",
       "       [0., 0., 0., 0., 0., 0., 0., 0., 0., 0., 0.],\n",
       "       [1., 0., 0., 0., 0., 0., 0., 0., 0., 0., 0.],\n",
       "       [0., 0., 0., 1., 0., 0., 0., 0., 1., 0., 1.],\n",
       "       [0., 0., 0., 0., 0., 0., 0., 0., 0., 0., 0.],\n",
       "       [0., 0., 0., 0., 0., 0., 0., 0., 0., 0., 0.],\n",
       "       [0., 0., 0., 0., 0., 0., 0., 0., 0., 0., 0.],\n",
       "       [0., 0., 0., 0., 0., 0., 0., 0., 0., 0., 0.],\n",
       "       [0., 0., 0., 0., 0., 0., 0., 0., 0., 0., 0.],\n",
       "       [0., 1., 0., 0., 0., 0., 1., 0., 1., 1., 0.],\n",
       "       [0., 0., 0., 0., 1., 0., 0., 0., 0., 0., 0.],\n",
       "       [0., 0., 0., 0., 0., 0., 1., 0., 0., 0., 1.],\n",
       "       [1., 0., 0., 0., 0., 0., 0., 0., 0., 0., 0.],\n",
       "       [1., 0., 1., 0., 0., 0., 0., 0., 0., 0., 0.]])"
      ]
     },
     "execution_count": 3,
     "metadata": {},
     "output_type": "execute_result"
    }
   ],
   "source": [
    "sheet = np.zeros((n,m))\n",
    "for line in lines:\n",
    "    sheet[line[1], line[0]] = 1\n",
    "    \n",
    "print(sheet.shape)\n",
    "sheet"
   ]
  },
  {
   "cell_type": "code",
   "execution_count": 4,
   "id": "8e835359-b9ea-4dd8-a9d9-7867bd7e3b1f",
   "metadata": {},
   "outputs": [
    {
     "data": {
      "text/plain": [
       "array([[1., 0., 0., 0., 0., 0., 0., 0., 0., 0., 0., 0., 0., 0., 1.],\n",
       "       [0., 1., 0., 0., 0., 0., 0., 0., 0., 0., 0., 0., 0., 1., 0.],\n",
       "       [0., 0., 1., 0., 0., 0., 0., 0., 0., 0., 0., 0., 1., 0., 0.],\n",
       "       [0., 0., 0., 1., 0., 0., 0., 0., 0., 0., 0., 1., 0., 0., 0.],\n",
       "       [0., 0., 0., 0., 1., 0., 0., 0., 0., 0., 1., 0., 0., 0., 0.],\n",
       "       [0., 0., 0., 0., 0., 1., 0., 0., 0., 1., 0., 0., 0., 0., 0.],\n",
       "       [0., 0., 0., 0., 0., 0., 1., 0., 1., 0., 0., 0., 0., 0., 0.]])"
      ]
     },
     "execution_count": 4,
     "metadata": {},
     "output_type": "execute_result"
    }
   ],
   "source": [
    "n_Ty = (n-1)//2\n",
    "m_Ty = n\n",
    "\n",
    "identity = np.identity(n_Ty)\n",
    "rotation = np.rot90(identity, k=1, axes=(0¶, 1))\n",
    "\n",
    "fold_Ty = np.concatenate((identity, np.zeros((n_Ty,1)), rotation), axis=1)\n",
    "fold_Ty\n",
    "# fold_y7[:, n_y7] = 0\n",
    "# fold_y7"
   ]
  },
  {
   "cell_type": "code",
   "execution_count": 5,
   "id": "884d87a1-edd7-4bb1-92d3-57d2061e6764",
   "metadata": {},
   "outputs": [
    {
     "name": "stdout",
     "output_type": "stream",
     "text": [
      "(7, 11)\n"
     ]
    },
    {
     "data": {
      "text/plain": [
       "array([[1., 0., 1., 1., 0., 0., 1., 0., 0., 1., 0.],\n",
       "       [1., 0., 0., 0., 1., 0., 0., 0., 0., 0., 0.],\n",
       "       [0., 0., 0., 0., 0., 0., 1., 0., 0., 0., 1.],\n",
       "       [1., 0., 0., 0., 1., 0., 0., 0., 0., 0., 0.],\n",
       "       [0., 1., 0., 1., 0., 0., 1., 0., 2., 1., 1.],\n",
       "       [0., 0., 0., 0., 0., 0., 0., 0., 0., 0., 0.],\n",
       "       [0., 0., 0., 0., 0., 0., 0., 0., 0., 0., 0.]])"
      ]
     },
     "execution_count": 5,
     "metadata": {},
     "output_type": "execute_result"
    }
   ],
   "source": [
    "sheet = fold_Ty @ sheet\n",
    "print(sheet.shape)\n",
    "sheet"
   ]
  },
  {
   "cell_type": "code",
   "execution_count": 6,
   "id": "1460bb05-05cc-4580-accd-ce07153fc0b5",
   "metadata": {},
   "outputs": [
    {
     "data": {
      "text/plain": [
       "array([[1., 0., 1., 1., 0., 0., 1., 0., 0., 1., 0.],\n",
       "       [1., 0., 0., 0., 1., 0., 0., 0., 0., 0., 0.],\n",
       "       [0., 0., 0., 0., 0., 0., 1., 0., 0., 0., 1.],\n",
       "       [1., 0., 0., 0., 1., 0., 0., 0., 0., 0., 0.],\n",
       "       [0., 1., 0., 1., 0., 0., 1., 0., 1., 1., 1.],\n",
       "       [0., 0., 0., 0., 0., 0., 0., 0., 0., 0., 0.],\n",
       "       [0., 0., 0., 0., 0., 0., 0., 0., 0., 0., 0.]])"
      ]
     },
     "execution_count": 6,
     "metadata": {},
     "output_type": "execute_result"
    }
   ],
   "source": [
    "sheet = np.heaviside(sheet,0)\n",
    "sheet"
   ]
  },
  {
   "cell_type": "code",
   "execution_count": 7,
   "id": "c4a6e434-52f9-432e-bdbc-c89ad4266bcf",
   "metadata": {},
   "outputs": [
    {
     "name": "stdout",
     "output_type": "stream",
     "text": [
      "17.0\n"
     ]
    }
   ],
   "source": [
    "print(sheet.sum())\n"
   ]
  },
  {
   "cell_type": "code",
   "execution_count": 8,
   "id": "9ce53067-b28b-4921-9e52-160b57898587",
   "metadata": {},
   "outputs": [
    {
     "name": "stdout",
     "output_type": "stream",
     "text": [
      "7 11\n",
      "(11, 5)\n"
     ]
    },
    {
     "data": {
      "text/plain": [
       "array([[1., 0., 0., 0., 0.],\n",
       "       [0., 1., 0., 0., 0.],\n",
       "       [0., 0., 1., 0., 0.],\n",
       "       [0., 0., 0., 1., 0.],\n",
       "       [0., 0., 0., 0., 1.],\n",
       "       [0., 0., 0., 0., 0.],\n",
       "       [0., 0., 0., 0., 1.],\n",
       "       [0., 0., 0., 1., 0.],\n",
       "       [0., 0., 1., 0., 0.],\n",
       "       [0., 1., 0., 0., 0.],\n",
       "       [1., 0., 0., 0., 0.]])"
      ]
     },
     "execution_count": 8,
     "metadata": {},
     "output_type": "execute_result"
    }
   ],
   "source": [
    "n = sheet.shape[0]\n",
    "m = sheet.shape[1]\n",
    "print(n,m)\n",
    "\n",
    "n_Tx = m\n",
    "m_Tx = (n-1)//2\n",
    "\n",
    "identity = np.identity((n_Tx-1)//2)\n",
    "rotation = np.rot90(identity, k=1, axes=(0, 1))\n",
    "\n",
    "\n",
    "fold_Tx = np.concatenate((identity, np.zeros((1,(n_Tx-1)//2)), rotation), axis=0)\n",
    "print(fold_Tx.shape)\n",
    "fold_Tx"
   ]
  },
  {
   "cell_type": "code",
   "execution_count": 10,
   "id": "27a5e9d0-33a8-492f-8d99-c84f06f54ab4",
   "metadata": {},
   "outputs": [
    {
     "data": {
      "text/plain": [
       "array([[1., 1., 1., 1., 1.],\n",
       "       [1., 0., 0., 0., 1.],\n",
       "       [1., 0., 0., 0., 1.],\n",
       "       [1., 0., 0., 0., 1.],\n",
       "       [1., 1., 1., 1., 1.],\n",
       "       [0., 0., 0., 0., 0.],\n",
       "       [0., 0., 0., 0., 0.]])"
      ]
     },
     "execution_count": 10,
     "metadata": {},
     "output_type": "execute_result"
    }
   ],
   "source": [
    "sheet = np.heaviside(sheet @ fold_Tx, 0)\n",
    "sheet\n",
    "# identity"
   ]
  },
  {
   "cell_type": "code",
   "execution_count": 11,
   "id": "4128bcdd-e71e-44ff-a14b-b3d0d0882e06",
   "metadata": {},
   "outputs": [
    {
     "data": {
      "text/plain": [
       "16.0"
      ]
     },
     "execution_count": 11,
     "metadata": {},
     "output_type": "execute_result"
    }
   ],
   "source": [
    "# sheet = sheet_Tx\n",
    "sheet.sum()"
   ]
  },
  {
   "cell_type": "markdown",
   "id": "cb7c7dcf-da50-4321-8db7-8b58e6348ad4",
   "metadata": {},
   "source": [
    "## FIRST FOLD\n",
    "fold along x=655\n",
    "fold along y=447\n",
    "fold along x=327\n",
    "fold along y=223\n",
    "fold along x=163\n",
    "fold along y=111\n",
    "fold along x=81\n",
    "fold along y=55\n",
    "fold along x=40\n",
    "fold along y=27\n",
    "¶\n",
    "fold along y=13\n",
    "fold along y=6\n"
   ]
  },
  {
   "cell_type": "code",
   "execution_count": 13,
   "id": "659ae6db-907a-4c96-8bba-4c12d4fc8415",
   "metadata": {},
   "outputs": [
    {
     "data": {
      "text/plain": [
       "array([[647, 840],\n",
       "       [ 99, 833],\n",
       "       [318,  50],\n",
       "       ...,\n",
       "       [348, 421],\n",
       "       [764, 392],\n",
       "       [403, 352]])"
      ]
     },
     "execution_count": 13,
     "metadata": {},
     "output_type": "execute_result"
    }
   ],
   "source": [
    "import numpy as np\n",
    "\n",
    "with open('input') as f:\n",
    "    lines_bck = f.read().splitlines()\n",
    "\n",
    "# def split(word):\n",
    "#     return [char for char in word]    \n",
    "\n",
    "# lines = [char for char in [x for x in lines_bck]]\n",
    "lines = [x.split(',') for x in lines_bck[:-13]]\n",
    "# lines = np.asarray(lines)\n",
    "# n = \n",
    "lines = [[int(row[0]), int(row[1])] for row in lines]\n",
    "# [row for row in lines]\n",
    "lines = np.asarray(lines)\n",
    "lines"
   ]
  },
  {
   "cell_type": "code",
   "execution_count": 16,
   "id": "862421dd-728e-4242-bfbc-098dc07e27ae",
   "metadata": {},
   "outputs": [
    {
     "data": {
      "text/plain": [
       "array([1309,  892])"
      ]
     },
     "execution_count": 16,
     "metadata": {},
     "output_type": "execute_result"
    }
   ],
   "source": [
    "np.max(lines, axis=0)"
   ]
  },
  {
   "cell_type": "code",
   "execution_count": 23,
   "id": "4416366c-2608-4386-af2d-c72c094e4691",
   "metadata": {},
   "outputs": [
    {
     "name": "stdout",
     "output_type": "stream",
     "text": [
      "895 1311\n"
     ]
    }
   ],
   "source": [
    "# Create sheet\n",
    "m = np.max(lines[:,0]+2)\n",
    "n = np.max(lines[:,1]+3)\n",
    "print(n,m)\n",
    "\n",
    "sheet = np.zeros((n,m))\n",
    "for line in lines:\n",
    "    sheet[line[1], line[0]] = 1"
   ]
  },
  {
   "cell_type": "code",
   "execution_count": 24,
   "id": "f484ce0e-1d4a-4d79-a021-848638428605",
   "metadata": {},
   "outputs": [
    {
     "name": "stdout",
     "output_type": "stream",
     "text": [
      "895 1311\n",
      "(1311, 655)\n"
     ]
    }
   ],
   "source": [
    "# Create rotator matrix in x axis\n",
    "\n",
    "n = sheet.shape[0]\n",
    "m = sheet.shape[1]\n",
    "print(n,m)\n",
    "\n",
    "n_Tx = m\n",
    "m_Tx = (n-1)//2\n",
    "\n",
    "identity = np.identity((n_Tx)//2)\n",
    "rotation = np.rot90(identity, k=1, axes=(0, 1))\n",
    "\n",
    "\n",
    "fold_Tx = np.concatenate((identity, np.zeros((1,(n_Tx-1)//2)), rotation), axis=0)\n",
    "print(fold_Tx.shape)\n"
   ]
  },
  {
   "cell_type": "code",
   "execution_count": 25,
   "id": "45a12438-1117-4321-a98f-dd9ba590c548",
   "metadata": {},
   "outputs": [
    {
     "data": {
      "text/plain": [
       "array([[0., 0., 0., ..., 0., 0., 0.],\n",
       "       [0., 0., 0., ..., 0., 0., 0.],\n",
       "       [0., 0., 0., ..., 0., 0., 0.],\n",
       "       ...,\n",
       "       [0., 0., 0., ..., 0., 0., 0.],\n",
       "       [0., 0., 0., ..., 0., 0., 0.],\n",
       "       [0., 0., 0., ..., 0., 0., 0.]])"
      ]
     },
     "execution_count": 25,
     "metadata": {},
     "output_type": "execute_result"
    }
   ],
   "source": [
    "sheet = np.heaviside(sheet @ fold_Tx, 0)\n",
    "sheet"
   ]
  },
  {
   "cell_type": "code",
   "execution_count": 26,
   "id": "2d8cff4a-e759-4a5f-bb7f-6ab9e6b9a15a",
   "metadata": {},
   "outputs": [
    {
     "data": {
      "text/plain": [
       "687.0"
      ]
     },
     "execution_count": 26,
     "metadata": {},
     "output_type": "execute_result"
    }
   ],
   "source": [
    "sheet.sum()"
   ]
  },
  {
   "cell_type": "code",
   "execution_count": 27,
   "id": "e30e228f-5c5a-491a-ab0a-39fab1b30179",
   "metadata": {},
   "outputs": [
    {
     "data": {
      "text/plain": [
       "(895, 655)"
      ]
     },
     "execution_count": 27,
     "metadata": {},
     "output_type": "execute_result"
    }
   ],
   "source": [
    "sheet.shape"
   ]
  },
  {
   "cell_type": "markdown",
   "id": "a496cf96-e1e8-484c-badc-7acf5fce130f",
   "metadata": {},
   "source": [
    "### answer 1 687"
   ]
  },
  {
   "cell_type": "markdown",
   "id": "478c9ea1-4930-4c25-9814-e95b9643f4ea",
   "metadata": {},
   "source": [
    "# Second part"
   ]
  },
  {
   "cell_type": "code",
   "execution_count": 42,
   "id": "862ef1ea-c1f8-446b-8cd2-d4cf4c27aeb1",
   "metadata": {},
   "outputs": [
    {
     "name": "stdout",
     "output_type": "stream",
     "text": [
      "895 1311\n"
     ]
    }
   ],
   "source": [
    "\n",
    "with open('input') as f:\n",
    "    lines_bck = f.read().splitlines()\n",
    "\n",
    "# def split(word):\n",
    "#     return [char for char in word]    \n",
    "\n",
    "# lines = [char for char in [x for x in lines_bck]]\n",
    "lines = [x.split(',') for x in lines_bck[:-13]]\n",
    "# lines = np.asarray(lines)\n",
    "# n = \n",
    "lines = [[int(row[0]), int(row[1])] for row in lines]\n",
    "# [row for row in lines]\n",
    "lines = np.asarray(lines)\n",
    "\n",
    "# Create sheet\n",
    "m = np.max(lines[:,0]+2) # to match the position of folding\n",
    "n = np.max(lines[:,1]+3)\n",
    "print(n,m)\n",
    "\n",
    "    \n"
   ]
  },
  {
   "cell_type": "code",
   "execution_count": 43,
   "id": "8977dddd-bebb-4807-957f-3d431bc6e3da",
   "metadata": {},
   "outputs": [
    {
     "name": "stdout",
     "output_type": "stream",
     "text": [
      "895 1311\n",
      "(895, 655)\n",
      "(447, 655)\n",
      "447 655\n",
      "(447, 327)\n",
      "(223, 327)\n",
      "223 327\n",
      "(223, 163)\n",
      "(111, 163)\n",
      "111 163\n",
      "(111, 81)\n",
      "(55, 81)\n",
      "55 81\n",
      "(55, 40)\n",
      "(27, 40)\n",
      "(13, 40)\n",
      "(6, 40)\n"
     ]
    }
   ],
   "source": [
    "sheet = np.zeros((n,m))\n",
    "for line in lines:\n",
    "    sheet[line[1], line[0]] = 1\n",
    "\n",
    "\n",
    "\n",
    "# Create rotator matrix in x axis\n",
    "\n",
    "\n",
    "for i in range(5):\n",
    "\n",
    "    n = sheet.shape[0]\n",
    "    m = sheet.shape[1]\n",
    "    print(n,m)\n",
    "\n",
    "    n_Tx = m\n",
    "    m_Tx = (n-1)//2\n",
    "\n",
    "    identity = np.identity((n_Tx)//2)\n",
    "    rotation = np.rot90(identity, k=1, axes=(0, 1))\n",
    "\n",
    "\n",
    "    fold_Tx = np.concatenate((identity, np.zeros((1,(n_Tx-1)//2)), rotation), axis=0)\n",
    "\n",
    "    sheet = np.heaviside(sheet @ fold_Tx, 0)\n",
    "    print(sheet.shape)\n",
    "\n",
    "\n",
    "    # Create rotator matrix in y axis\n",
    "\n",
    "\n",
    "    n = sheet.shape[0]\n",
    "    m = sheet.shape[1]\n",
    "\n",
    "    n_Ty = (n-1)//2\n",
    "    m_Ty = n\n",
    "\n",
    "    identity = np.identity(n_Ty)\n",
    "    rotation = np.rot90(identity, k=1, axes=(0, 1))\n",
    "\n",
    "    fold_Ty = np.concatenate((identity, np.zeros((n_Ty,1)), rotation), axis=1)\n",
    "    # fold_Ty\n",
    "    sheet = np.heaviside(fold_Ty @ sheet, 0)\n",
    "    print(sheet.shape)\n",
    "    # sheet = np.heaviside(sheet,0)\n",
    "\n",
    "    \n",
    "    \n",
    "for i in range(2):\n",
    "    n = sheet.shape[0]\n",
    "    m = sheet.shape[1]\n",
    "\n",
    "    n_Ty = (n-1)//2\n",
    "    m_Ty = n\n",
    "\n",
    "    identity = np.identity(n_Ty)\n",
    "    rotation = np.rot90(identity, k=1, axes=(0, 1))\n",
    "\n",
    "    fold_Ty = np.concatenate((identity, np.zeros((n_Ty,1)), rotation), axis=1)\n",
    "    # fold_Ty\n",
    "    sheet = np.heaviside(fold_Ty @ sheet, 0)\n",
    "    print(sheet.shape)\n",
    "    "
   ]
  },
  {
   "cell_type": "code",
   "execution_count": null,
   "id": "52fbcd0a-b8ac-48da-aa1f-3a34f4dc098f",
   "metadata": {},
   "outputs": [],
   "source": []
  },
  {
   "cell_type": "code",
   "execution_count": null,
   "id": "a50a28eb-d95e-4226-8391-2957b1305241",
   "metadata": {},
   "outputs": [],
   "source": []
  },
  {
   "cell_type": "code",
   "execution_count": 44,
   "id": "c76f0a0e-0ec1-43ee-847b-7e215fa11a35",
   "metadata": {},
   "outputs": [
    {
     "data": {
      "text/plain": [
       "98.0"
      ]
     },
     "execution_count": 44,
     "metadata": {},
     "output_type": "execute_result"
    }
   ],
   "source": [
    "sheet.sum()"
   ]
  },
  {
   "cell_type": "code",
   "execution_count": 47,
   "id": "329fb5c0-db9b-4463-90fb-59a0889bc405",
   "metadata": {},
   "outputs": [
    {
     "data": {
      "text/plain": [
       "array([[1, 1, 1, 1, 0, 0, 1, 1, 0, 0, 1, 0, 0, 1, 0, 0, 1, 1, 0, 0, 1, 0,\n",
       "        0, 1, 0, 1, 1, 1, 0, 0, 1, 1, 1, 1, 0, 0, 1, 1, 0, 0],\n",
       "       [1, 0, 0, 0, 0, 1, 0, 0, 1, 0, 1, 0, 1, 0, 0, 1, 0, 0, 1, 0, 1, 0,\n",
       "        1, 0, 0, 1, 0, 0, 1, 0, 0, 0, 0, 1, 0, 1, 0, 0, 1, 0],\n",
       "       [1, 1, 1, 0, 0, 1, 0, 0, 0, 0, 1, 1, 0, 0, 0, 1, 0, 0, 0, 0, 1, 1,\n",
       "        0, 0, 0, 1, 1, 1, 0, 0, 0, 0, 1, 0, 0, 1, 0, 0, 0, 0],\n",
       "       [1, 0, 0, 0, 0, 1, 0, 1, 1, 0, 1, 0, 1, 0, 0, 1, 0, 0, 0, 0, 1, 0,\n",
       "        1, 0, 0, 1, 0, 0, 1, 0, 0, 1, 0, 0, 0, 1, 0, 1, 1, 0],\n",
       "       [1, 0, 0, 0, 0, 1, 0, 0, 1, 0, 1, 0, 1, 0, 0, 1, 0, 0, 1, 0, 1, 0,\n",
       "        1, 0, 0, 1, 0, 0, 1, 0, 1, 0, 0, 0, 0, 1, 0, 0, 1, 0],\n",
       "       [1, 0, 0, 0, 0, 0, 1, 1, 1, 0, 1, 0, 0, 1, 0, 0, 1, 1, 0, 0, 1, 0,\n",
       "        0, 1, 0, 1, 1, 1, 0, 0, 1, 1, 1, 1, 0, 0, 1, 1, 1, 0]])"
      ]
     },
     "execution_count": 47,
     "metadata": {},
     "output_type": "execute_result"
    }
   ],
   "source": [
    "sheet.astype(int)"
   ]
  },
  {
   "cell_type": "code",
   "execution_count": null,
   "id": "5128f03c-d4cd-4719-941b-6f4634decfd0",
   "metadata": {},
   "outputs": [],
   "source": [
    "import pandas as pd\n",
    "\n",
    "pd.wr"
   ]
  }
 ],
 "metadata": {
  "kernelspec": {
   "display_name": "Python 3 (ipykernel)",
   "language": "python",
   "name": "python3"
  },
  "language_info": {
   "codemirror_mode": {
    "name": "ipython",
    "version": 3
   },
   "file_extension": ".py",
   "mimetype": "text/x-python",
   "name": "python",
   "nbconvert_exporter": "python",
   "pygments_lexer": "ipython3",
   "version": "3.8.12"
  }
 },
 "nbformat": 4,
 "nbformat_minor": 5
}
