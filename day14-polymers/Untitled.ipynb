{
 "cells": [
  {
   "cell_type": "code",
   "execution_count": 1,
   "id": "7ca6d606-3b82-4222-b968-01e84cb1aa25",
   "metadata": {},
   "outputs": [
    {
     "name": "stdout",
     "output_type": "stream",
     "text": [
      "['S', 'H', 'P', 'P', 'P', 'V', 'O', 'F', 'P', 'B', 'F', 'C', 'H', 'H', 'B', 'K', 'B', 'N', 'C', 'V']\n"
     ]
    }
   ],
   "source": [
    "import numpy as np\n",
    "\n",
    "with open('input') as f:\n",
    "    lines_bck = f.read().splitlines()\n",
    "\n",
    "poly_bck = list(lines_bck[0])\n",
    "print(poly_bck)\n",
    "links = {x.split(' -> ')[0] : x.split(' -> ')[1] for x in lines_bck[2:]}\n"
   ]
  },
  {
   "cell_type": "code",
   "execution_count": null,
   "id": "9a36268c-6ff2-4360-a39b-01e8f62e78bf",
   "metadata": {},
   "outputs": [],
   "source": [
    "# cuantas "
   ]
  },
  {
   "cell_type": "code",
   "execution_count": 5,
   "id": "d82af083-0581-4842-9212-33c38ac3df15",
   "metadata": {},
   "outputs": [
    {
     "name": "stdout",
     "output_type": "stream",
     "text": [
      "SH\n",
      "0 2\n",
      "1 3\n",
      "2 5\n",
      "3 9\n",
      "4 17\n",
      "5 33\n",
      "6 65\n",
      "7 129\n",
      "8 257\n",
      "9 513\n",
      "10 1025\n",
      "11 2049\n",
      "12 4097\n",
      "13 8193\n",
      "14 16385\n",
      "15 32769\n",
      "16 65537\n",
      "17 131073\n",
      "18 262145\n",
      "19 524289\n",
      "20 1048577\n"
     ]
    },
    {
     "ename": "KeyboardInterrupt",
     "evalue": "",
     "output_type": "error",
     "traceback": [
      "\u001b[0;31m---------------------------------------------------------------------------\u001b[0m",
      "\u001b[0;31mKeyboardInterrupt\u001b[0m                         Traceback (most recent call last)",
      "\u001b[0;32m/tmp/ipykernel_18070/3987705195.py\u001b[0m in \u001b[0;36m<module>\u001b[0;34m\u001b[0m\n\u001b[1;32m     11\u001b[0m     \u001b[0mnew_poly\u001b[0m \u001b[0;34m=\u001b[0m \u001b[0mini\u001b[0m\u001b[0;34m\u001b[0m\u001b[0;34m\u001b[0m\u001b[0m\n\u001b[1;32m     12\u001b[0m     \u001b[0;32mfor\u001b[0m \u001b[0mfin\u001b[0m \u001b[0;32min\u001b[0m \u001b[0mpoly\u001b[0m\u001b[0;34m[\u001b[0m\u001b[0;36m1\u001b[0m\u001b[0;34m:\u001b[0m\u001b[0;34m]\u001b[0m\u001b[0;34m:\u001b[0m\u001b[0;34m\u001b[0m\u001b[0;34m\u001b[0m\u001b[0m\n\u001b[0;32m---> 13\u001b[0;31m         \u001b[0mnew_poly\u001b[0m \u001b[0;34m=\u001b[0m \u001b[0mnew_poly\u001b[0m \u001b[0;34m+\u001b[0m \u001b[0mlinks\u001b[0m\u001b[0;34m[\u001b[0m\u001b[0mini\u001b[0m\u001b[0;34m+\u001b[0m\u001b[0mfin\u001b[0m\u001b[0;34m]\u001b[0m \u001b[0;34m+\u001b[0m \u001b[0mfin\u001b[0m\u001b[0;34m\u001b[0m\u001b[0;34m\u001b[0m\u001b[0m\n\u001b[0m\u001b[1;32m     14\u001b[0m         \u001b[0mini\u001b[0m \u001b[0;34m=\u001b[0m \u001b[0mfin\u001b[0m\u001b[0;34m\u001b[0m\u001b[0;34m\u001b[0m\u001b[0m\n\u001b[1;32m     15\u001b[0m \u001b[0;31m#         print(new_poly)\u001b[0m\u001b[0;34m\u001b[0m\u001b[0;34m\u001b[0m\u001b[0;34m\u001b[0m\u001b[0m\n",
      "\u001b[0;31mKeyboardInterrupt\u001b[0m: "
     ]
    }
   ],
   "source": [
    "poly = poly_bck.copy()\n",
    "poly = ''.join(poly)\n",
    "\n",
    "\n",
    "poly = 'SH'\n",
    "print(poly)\n",
    "for i in range(40):\n",
    "    print(i, len(poly))\n",
    "#     print(poly[1])\n",
    "    ini = poly[0]\n",
    "    new_poly = ini\n",
    "    for fin in poly[1:]:\n",
    "        new_poly = new_poly + links[ini+fin] + fin\n",
    "        ini = fin\n",
    "#         print(new_poly)\n",
    "    \n",
    "    poly = new_poly\n"
   ]
  },
  {
   "cell_type": "code",
   "execution_count": 3,
   "id": "ccfc1453-54e5-4b4e-9fdb-519b7a97063b",
   "metadata": {},
   "outputs": [
    {
     "data": {
      "text/plain": [
       "4980737"
      ]
     },
     "execution_count": 3,
     "metadata": {},
     "output_type": "execute_result"
    }
   ],
   "source": [
    "len(poly)"
   ]
  },
  {
   "cell_type": "code",
   "execution_count": null,
   "id": "2679a91a-fd4a-430e-a86a-5fe5ee238047",
   "metadata": {},
   "outputs": [],
   "source": []
  }
 ],
 "metadata": {
  "kernelspec": {
   "display_name": "Python 3 (ipykernel)",
   "language": "python",
   "name": "python3"
  },
  "language_info": {
   "codemirror_mode": {
    "name": "ipython",
    "version": 3
   },
   "file_extension": ".py",
   "mimetype": "text/x-python",
   "name": "python",
   "nbconvert_exporter": "python",
   "pygments_lexer": "ipython3",
   "version": "3.8.12"
  }
 },
 "nbformat": 4,
 "nbformat_minor": 5
}
