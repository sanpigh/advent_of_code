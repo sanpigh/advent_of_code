{
 "cells": [
  {
   "cell_type": "code",
   "execution_count": 18,
   "id": "4a64264a-57c1-4091-872c-26e0b0cc6f90",
   "metadata": {
    "collapsed": true,
    "jupyter": {
     "outputs_hidden": true
    },
    "tags": []
   },
   "outputs": [
    {
     "name": "stdout",
     "output_type": "stream",
     "text": [
      "['S', 'H', 'P', 'P', 'P', 'V', 'O', 'F', 'P', 'B', 'F', 'C', 'H', 'H', 'B', 'K', 'B', 'N', 'C', 'V']\n"
     ]
    },
    {
     "data": {
      "text/plain": [
       "{'HK': 'C',\n",
       " 'SP': 'H',\n",
       " 'VH': 'K',\n",
       " 'KS': 'B',\n",
       " 'BC': 'S',\n",
       " 'PS': 'K',\n",
       " 'PN': 'S',\n",
       " 'NC': 'F',\n",
       " 'CV': 'B',\n",
       " 'SH': 'K',\n",
       " 'SK': 'H',\n",
       " 'KK': 'O',\n",
       " 'HO': 'V',\n",
       " 'HP': 'C',\n",
       " 'HB': 'S',\n",
       " 'NB': 'N',\n",
       " 'HC': 'K',\n",
       " 'SB': 'O',\n",
       " 'SN': 'C',\n",
       " 'BP': 'H',\n",
       " 'FC': 'V',\n",
       " 'CF': 'C',\n",
       " 'FB': 'F',\n",
       " 'VP': 'S',\n",
       " 'PO': 'N',\n",
       " 'HN': 'N',\n",
       " 'BS': 'O',\n",
       " 'NF': 'H',\n",
       " 'BH': 'O',\n",
       " 'NK': 'B',\n",
       " 'KC': 'B',\n",
       " 'OS': 'S',\n",
       " 'BB': 'S',\n",
       " 'SV': 'K',\n",
       " 'CH': 'B',\n",
       " 'OB': 'K',\n",
       " 'FV': 'B',\n",
       " 'CP': 'V',\n",
       " 'FP': 'C',\n",
       " 'VC': 'K',\n",
       " 'FS': 'S',\n",
       " 'SS': 'F',\n",
       " 'VK': 'C',\n",
       " 'SF': 'B',\n",
       " 'VS': 'B',\n",
       " 'CC': 'P',\n",
       " 'SC': 'S',\n",
       " 'HS': 'K',\n",
       " 'CN': 'C',\n",
       " 'BN': 'N',\n",
       " 'BK': 'B',\n",
       " 'FN': 'H',\n",
       " 'OK': 'S',\n",
       " 'FO': 'S',\n",
       " 'VB': 'C',\n",
       " 'FH': 'S',\n",
       " 'KN': 'K',\n",
       " 'CK': 'B',\n",
       " 'KV': 'P',\n",
       " 'NP': 'P',\n",
       " 'CB': 'N',\n",
       " 'KB': 'C',\n",
       " 'FK': 'K',\n",
       " 'BO': 'O',\n",
       " 'OV': 'B',\n",
       " 'OC': 'B',\n",
       " 'NO': 'F',\n",
       " 'VF': 'V',\n",
       " 'VO': 'B',\n",
       " 'FF': 'K',\n",
       " 'PP': 'O',\n",
       " 'VV': 'K',\n",
       " 'PC': 'N',\n",
       " 'OF': 'S',\n",
       " 'PV': 'P',\n",
       " 'PB': 'C',\n",
       " 'KO': 'V',\n",
       " 'BF': 'N',\n",
       " 'OO': 'K',\n",
       " 'NV': 'P',\n",
       " 'PK': 'V',\n",
       " 'BV': 'C',\n",
       " 'HH': 'K',\n",
       " 'PH': 'S',\n",
       " 'OH': 'B',\n",
       " 'HF': 'S',\n",
       " 'NH': 'H',\n",
       " 'NN': 'K',\n",
       " 'KF': 'H',\n",
       " 'ON': 'N',\n",
       " 'PF': 'H',\n",
       " 'CS': 'H',\n",
       " 'CO': 'O',\n",
       " 'SO': 'K',\n",
       " 'HV': 'N',\n",
       " 'NS': 'N',\n",
       " 'KP': 'S',\n",
       " 'OP': 'N',\n",
       " 'KH': 'P',\n",
       " 'VN': 'H'}"
      ]
     },
     "execution_count": 18,
     "metadata": {},
     "output_type": "execute_result"
    }
   ],
   "source": [
    "import numpy as np\n",
    "\n",
    "with open('input') as f:\n",
    "    lines_bck = f.read().splitlines()\n",
    "\n",
    "poly_bck = list(lines_bck[0])\n",
    "print(poly_bck)\n",
    "links = {x.split(' -> ')[0] : x.split(' -> ')[1] for x in lines_bck[2:]}\n",
    "\n",
    "# [x.split(' -> ')[0] for x in lines_bck[2:]]\n",
    "links"
   ]
  },
  {
   "cell_type": "code",
   "execution_count": null,
   "id": "40977eb7-5062-49d6-96b8-a026233c772c",
   "metadata": {},
   "outputs": [
    {
     "name": "stdout",
     "output_type": "stream",
     "text": [
      "SHPPPVOFPBFCHHBKBNCV\n",
      "0\n",
      "1\n",
      "2\n",
      "3\n",
      "4\n",
      "5\n",
      "6\n",
      "7\n",
      "8\n",
      "9\n",
      "10\n",
      "11\n",
      "12\n",
      "13\n",
      "14\n",
      "15\n",
      "16\n",
      "17\n",
      "18\n",
      "19\n",
      "20\n",
      "21\n",
      "22\n",
      "23\n",
      "24\n"
     ]
    }
   ],
   "source": [
    "poly = poly_bck.copy()\n",
    "print(''.join(poly))\n",
    "\n",
    "# new_poly = [ini]\n",
    "\n",
    "for i in range(40):\n",
    "    print(i)\n",
    "    ini = poly[0]\n",
    "    new_poly = [ini]\n",
    "    for fin in poly[1:]:\n",
    "    #     print(ini, fin, links[ini+fin], '**********')\n",
    "        new_poly.extend([links[ini+fin], fin])\n",
    "#         print(new_poly)\n",
    "        ini = fin\n",
    "    \n",
    "    poly = new_poly.copy()\n",
    "#     print(''.join(poly))\n",
    "\n",
    "# poly"
   ]
  },
  {
   "cell_type": "markdown",
   "id": "d110bc0f-389d-4ee5-82e4-e3acbdb66be2",
   "metadata": {},
   "source": [
    "###### "
   ]
  },
  {
   "cell_type": "code",
   "execution_count": 22,
   "id": "67193e2a-5be9-4181-ac27-3087cb84dbd4",
   "metadata": {},
   "outputs": [
    {
     "name": "stdout",
     "output_type": "stream",
     "text": [
      "760\n",
      "2699\n",
      "1115\n",
      "3006\n",
      "1999\n",
      "961\n",
      "2227\n",
      "3675\n",
      "1138\n",
      "1877\n"
     ]
    }
   ],
   "source": [
    "for value in set(poly.copy()):\n",
    "    print(poly.count(value))"
   ]
  },
  {
   "cell_type": "code",
   "execution_count": 23,
   "id": "904bda11-17a3-426f-a413-67fbd568a538",
   "metadata": {},
   "outputs": [
    {
     "data": {
      "text/plain": [
       "2915"
      ]
     },
     "execution_count": 23,
     "metadata": {},
     "output_type": "execute_result"
    }
   ],
   "source": [
    "3675-760"
   ]
  },
  {
   "cell_type": "code",
   "execution_count": 36,
   "id": "86699836-30f4-40a5-a51a-cf76eded8b96",
   "metadata": {},
   "outputs": [
    {
     "data": {
      "text/plain": [
       "203509"
      ]
     },
     "execution_count": 36,
     "metadata": {},
     "output_type": "execute_result"
    }
   ],
   "source": [
    "259166-55657 # too high"
   ]
  },
  {
   "cell_type": "markdown",
   "id": "96eb9d54-c701-4357-94ef-31864d803aa3",
   "metadata": {},
   "source": [
    "## 2nd part"
   ]
  },
  {
   "cell_type": "code",
   "execution_count": 1,
   "id": "a5888b9b-ab2f-4125-b62b-ade508ca6518",
   "metadata": {},
   "outputs": [
    {
     "name": "stdout",
     "output_type": "stream",
     "text": [
      "poly_bck:  ['S', 'H', 'P', 'P', 'P', 'V', 'O', 'F', 'P', 'B', 'F', 'C', 'H', 'H', 'B', 'K', 'B', 'N', 'C', 'V']\n",
      "links:  {'HK': 'C', 'SP': 'H', 'VH': 'K', 'KS': 'B', 'BC': 'S', 'PS': 'K', 'PN': 'S', 'NC': 'F', 'CV': 'B', 'SH': 'K', 'SK': 'H', 'KK': 'O', 'HO': 'V', 'HP': 'C', 'HB': 'S', 'NB': 'N', 'HC': 'K', 'SB': 'O', 'SN': 'C', 'BP': 'H', 'FC': 'V', 'CF': 'C', 'FB': 'F', 'VP': 'S', 'PO': 'N', 'HN': 'N', 'BS': 'O', 'NF': 'H', 'BH': 'O', 'NK': 'B', 'KC': 'B', 'OS': 'S', 'BB': 'S', 'SV': 'K', 'CH': 'B', 'OB': 'K', 'FV': 'B', 'CP': 'V', 'FP': 'C', 'VC': 'K', 'FS': 'S', 'SS': 'F', 'VK': 'C', 'SF': 'B', 'VS': 'B', 'CC': 'P', 'SC': 'S', 'HS': 'K', 'CN': 'C', 'BN': 'N', 'BK': 'B', 'FN': 'H', 'OK': 'S', 'FO': 'S', 'VB': 'C', 'FH': 'S', 'KN': 'K', 'CK': 'B', 'KV': 'P', 'NP': 'P', 'CB': 'N', 'KB': 'C', 'FK': 'K', 'BO': 'O', 'OV': 'B', 'OC': 'B', 'NO': 'F', 'VF': 'V', 'VO': 'B', 'FF': 'K', 'PP': 'O', 'VV': 'K', 'PC': 'N', 'OF': 'S', 'PV': 'P', 'PB': 'C', 'KO': 'V', 'BF': 'N', 'OO': 'K', 'NV': 'P', 'PK': 'V', 'BV': 'C', 'HH': 'K', 'PH': 'S', 'OH': 'B', 'HF': 'S', 'NH': 'H', 'NN': 'K', 'KF': 'H', 'ON': 'N', 'PF': 'H', 'CS': 'H', 'CO': 'O', 'SO': 'K', 'HV': 'N', 'NS': 'N', 'KP': 'S', 'OP': 'N', 'KH': 'P', 'VN': 'H'}\n",
      "set_of_letters:  {'N', 'V', 'S', 'C', 'K', 'H', 'P', 'B', 'O', 'F'}\n",
      "list_of_pairs:  ['NN', 'NV', 'NS', 'NC', 'NK', 'NH', 'NP', 'NB', 'NO', 'NF', 'VN', 'VV', 'VS', 'VC', 'VK', 'VH', 'VP', 'VB', 'VO', 'VF', 'SN', 'SV', 'SS', 'SC', 'SK', 'SH', 'SP', 'SB', 'SO', 'SF', 'CN', 'CV', 'CS', 'CC', 'CK', 'CH', 'CP', 'CB', 'CO', 'CF', 'KN', 'KV', 'KS', 'KC', 'KK', 'KH', 'KP', 'KB', 'KO', 'KF', 'HN', 'HV', 'HS', 'HC', 'HK', 'HH', 'HP', 'HB', 'HO', 'HF', 'PN', 'PV', 'PS', 'PC', 'PK', 'PH', 'PP', 'PB', 'PO', 'PF', 'BN', 'BV', 'BS', 'BC', 'BK', 'BH', 'BP', 'BB', 'BO', 'BF', 'ON', 'OV', 'OS', 'OC', 'OK', 'OH', 'OP', 'OB', 'OO', 'OF', 'FN', 'FV', 'FS', 'FC', 'FK', 'FH', 'FP', 'FB', 'FO', 'FF']\n"
     ]
    },
    {
     "data": {
      "text/plain": [
       "{'NN': 0,\n",
       " 'NV': 0,\n",
       " 'NS': 0,\n",
       " 'NC': 0,\n",
       " 'NK': 0,\n",
       " 'NH': 0,\n",
       " 'NP': 0,\n",
       " 'NB': 0,\n",
       " 'NO': 0,\n",
       " 'NF': 0,\n",
       " 'VN': 0,\n",
       " 'VV': 0,\n",
       " 'VS': 0,\n",
       " 'VC': 0,\n",
       " 'VK': 0,\n",
       " 'VH': 0,\n",
       " 'VP': 0,\n",
       " 'VB': 0,\n",
       " 'VO': 0,\n",
       " 'VF': 0,\n",
       " 'SN': 0,\n",
       " 'SV': 0,\n",
       " 'SS': 0,\n",
       " 'SC': 0,\n",
       " 'SK': 0,\n",
       " 'SH': 0,\n",
       " 'SP': 0,\n",
       " 'SB': 0,\n",
       " 'SO': 0,\n",
       " 'SF': 0,\n",
       " 'CN': 0,\n",
       " 'CV': 0,\n",
       " 'CS': 0,\n",
       " 'CC': 0,\n",
       " 'CK': 0,\n",
       " 'CH': 0,\n",
       " 'CP': 0,\n",
       " 'CB': 0,\n",
       " 'CO': 0,\n",
       " 'CF': 0,\n",
       " 'KN': 0,\n",
       " 'KV': 0,\n",
       " 'KS': 0,\n",
       " 'KC': 0,\n",
       " 'KK': 0,\n",
       " 'KH': 0,\n",
       " 'KP': 0,\n",
       " 'KB': 0,\n",
       " 'KO': 0,\n",
       " 'KF': 0,\n",
       " 'HN': 0,\n",
       " 'HV': 0,\n",
       " 'HS': 0,\n",
       " 'HC': 0,\n",
       " 'HK': 0,\n",
       " 'HH': 0,\n",
       " 'HP': 0,\n",
       " 'HB': 0,\n",
       " 'HO': 0,\n",
       " 'HF': 0,\n",
       " 'PN': 0,\n",
       " 'PV': 0,\n",
       " 'PS': 0,\n",
       " 'PC': 0,\n",
       " 'PK': 0,\n",
       " 'PH': 0,\n",
       " 'PP': 0,\n",
       " 'PB': 0,\n",
       " 'PO': 0,\n",
       " 'PF': 0,\n",
       " 'BN': 0,\n",
       " 'BV': 0,\n",
       " 'BS': 0,\n",
       " 'BC': 0,\n",
       " 'BK': 0,\n",
       " 'BH': 0,\n",
       " 'BP': 0,\n",
       " 'BB': 0,\n",
       " 'BO': 0,\n",
       " 'BF': 0,\n",
       " 'ON': 0,\n",
       " 'OV': 0,\n",
       " 'OS': 0,\n",
       " 'OC': 0,\n",
       " 'OK': 0,\n",
       " 'OH': 0,\n",
       " 'OP': 0,\n",
       " 'OB': 0,\n",
       " 'OO': 0,\n",
       " 'OF': 0,\n",
       " 'FN': 0,\n",
       " 'FV': 0,\n",
       " 'FS': 0,\n",
       " 'FC': 0,\n",
       " 'FK': 0,\n",
       " 'FH': 0,\n",
       " 'FP': 0,\n",
       " 'FB': 0,\n",
       " 'FO': 0,\n",
       " 'FF': 0}"
      ]
     },
     "execution_count": 1,
     "metadata": {},
     "output_type": "execute_result"
    }
   ],
   "source": [
    "import numpy as np\n",
    "\n",
    "with open('input') as f:\n",
    "    lines_bck = f.read().splitlines()\n",
    "\n",
    "# read data\n",
    "poly_bck = list(lines_bck[0])\n",
    "print('poly_bck: ', poly_bck)\n",
    "links = {x.split(' -> ')[0] : x.split(' -> ')[1] for x in lines_bck[2:]}\n",
    "print('links: ', links)\n",
    "# basic tools\n",
    "set_of_letters = set([x.split(' -> ')[1] for x in lines_bck[2:]])\n",
    "print('set_of_letters: ', set_of_letters)\n",
    "\n",
    "\n",
    "\n",
    "list_of_pairs = [x+y for x in set_of_letters for y in set_of_letters]\n",
    "print('list_of_pairs: ', list_of_pairs)\n",
    "\n",
    "pairs_repetitions = dict.fromkeys(list_of_pairs, 0)\n",
    "pairs_repetitions"
   ]
  },
  {
   "cell_type": "code",
   "execution_count": 2,
   "id": "e466932b-f5b9-4cb5-8072-11a37d26ddb6",
   "metadata": {},
   "outputs": [
    {
     "name": "stdout",
     "output_type": "stream",
     "text": [
      "['S', 'H', 'P', 'P', 'P', 'V', 'O', 'F', 'P', 'B', 'F', 'C', 'H', 'H', 'B', 'K', 'B', 'N', 'C', 'V']\n"
     ]
    }
   ],
   "source": [
    "# initial conditions\n",
    "poly = poly_bck.copy()\n",
    "print(poly)\n",
    "\n",
    "ini = poly[0]\n",
    "for fin in poly[1:]:\n",
    "    pairs_repetitions[ini+fin] += 1\n",
    "    ini = fin\n",
    "    \n",
    "# pairs_repetitions"
   ]
  },
  {
   "cell_type": "code",
   "execution_count": 3,
   "id": "746ae6c3-9743-4523-93ed-7b1362075f00",
   "metadata": {
    "tags": []
   },
   "outputs": [],
   "source": [
    "\n",
    "for i in range(40):\n",
    "#     print(i)\n",
    "    new_pairs_repetitions = dict.fromkeys(list_of_pairs, 0)\n",
    "    for key in pairs_repetitions.keys():\n",
    "#         print(key[0], key[1])\n",
    "        char = links[key]\n",
    "#         print(key[0], char, key[1], key[0]+char, char+key[1])\n",
    "#         print(new_pairs_repetitions[key[0]+char], new_pairs_repetitions[char+key[1]])\n",
    "        n_pairs = pairs_repetitions[key]\n",
    "        new_pairs_repetitions[key[0]+char] += n_pairs\n",
    "        new_pairs_repetitions[char+key[1]] += n_pairs\n",
    "#         print(new_pairs_repetitions[key[0]+char], new_pairs_repetitions[char+key[1]])\n",
    "#         print(key[0]+char, char+key[1])\n",
    "    pairs_repetitions = new_pairs_repetitions.copy()\n",
    "\n",
    "\n",
    "# ini = poly[0]\n",
    "#     new_poly = ini\n",
    "#     for fin in poly[1:]:\n",
    "#         new_poly = new_poly + links[ini+fin] + fin\n",
    "#         ini = fin\n",
    "# #         print(new_poly)\n",
    "    \n",
    "#     poly = new_poly\n",
    "#     print(len(poly))\n",
    "# poly\n"
   ]
  },
  {
   "cell_type": "code",
   "execution_count": 4,
   "id": "112a73f4-fe6a-41bd-a60c-7989cc2ae614",
   "metadata": {},
   "outputs": [
    {
     "data": {
      "text/plain": [
       "{'NN': 613264829524,\n",
       " 'NV': 0,\n",
       " 'NS': 0,\n",
       " 'NC': 70268655818,\n",
       " 'NK': 306631291234,\n",
       " 'NH': 219828533381,\n",
       " 'NP': 93971338797,\n",
       " 'NB': 810155329935,\n",
       " 'NO': 46985101829,\n",
       " 'NF': 219832119353,\n",
       " 'VN': 0,\n",
       " 'VV': 0,\n",
       " 'VS': 45652968036,\n",
       " 'VC': 132606042006,\n",
       " 'VK': 97960160422,\n",
       " 'VH': 0,\n",
       " 'VP': 91306216403,\n",
       " 'VB': 132116715550,\n",
       " 'VO': 218579343807,\n",
       " 'VF': 0,\n",
       " 'SN': 58627010972,\n",
       " 'SV': 0,\n",
       " 'SS': 1177542940269,\n",
       " 'SC': 313176679651,\n",
       " 'SK': 555091393586,\n",
       " 'SH': 429696322592,\n",
       " 'SP': 168298789382,\n",
       " 'SB': 474908935466,\n",
       " 'SO': 249200421594,\n",
       " 'SF': 644825852866,\n",
       " 'CN': 562152854794,\n",
       " 'CV': 127596793777,\n",
       " 'CS': 0,\n",
       " 'CC': 281076136543,\n",
       " 'CK': 303358427596,\n",
       " 'CH': 0,\n",
       " 'CP': 182612759061,\n",
       " 'CB': 503526204873,\n",
       " 'CO': 0,\n",
       " 'CF': 0,\n",
       " 'KN': 613260866092,\n",
       " 'KV': 218579343807,\n",
       " 'KS': 213986764853,\n",
       " 'KC': 436519933865,\n",
       " 'KK': 311021696066,\n",
       " 'KH': 272000532256,\n",
       " 'KP': 245290614581,\n",
       " 'KB': 443980167001,\n",
       " 'KO': 437157058768,\n",
       " 'KF': 4391698006,\n",
       " 'HN': 0,\n",
       " 'HV': 0,\n",
       " 'HS': 56055267727,\n",
       " 'HC': 296453101839,\n",
       " 'HK': 508756297469,\n",
       " 'HH': 109913063540,\n",
       " 'HP': 84149635037,\n",
       " 'HB': 0,\n",
       " 'HO': 0,\n",
       " 'HF': 112111354690,\n",
       " 'PN': 117253757647,\n",
       " 'PV': 281896798413,\n",
       " 'PS': 126627148051,\n",
       " 'PC': 140537788983,\n",
       " 'PK': 63313591635,\n",
       " 'PH': 136000268532,\n",
       " 'PP': 187935916087,\n",
       " 'PB': 0,\n",
       " 'PO': 93969025347,\n",
       " 'PF': 0,\n",
       " 'BN': 322406542045,\n",
       " 'BV': 72581554634,\n",
       " 'BS': 409592205271,\n",
       " 'BC': 254550684059,\n",
       " 'BK': 609988290339,\n",
       " 'BH': 0,\n",
       " 'BP': 0,\n",
       " 'BB': 304993971508,\n",
       " 'BO': 628176820713,\n",
       " 'BF': 322411865806,\n",
       " 'ON': 93971338797,\n",
       " 'OV': 0,\n",
       " 'OS': 840882711479,\n",
       " 'OC': 0,\n",
       " 'OK': 431283707734,\n",
       " 'OH': 1,\n",
       " 'OP': 93969025347,\n",
       " 'OB': 237453845792,\n",
       " 'OO': 314090254174,\n",
       " 'OF': 0,\n",
       " 'FN': 0,\n",
       " 'FV': 17566955594,\n",
       " 'FS': 1201028340691,\n",
       " 'FC': 35134153880,\n",
       " 'FK': 8783819214,\n",
       " 'FH': 0,\n",
       " 'FP': 0,\n",
       " 'FB': 17566764250,\n",
       " 'FO': 23492857092,\n",
       " 'FF': 8783359915}"
      ]
     },
     "execution_count": 4,
     "metadata": {},
     "output_type": "execute_result"
    }
   ],
   "source": [
    "pairs_repetitions"
   ]
  },
  {
   "cell_type": "code",
   "execution_count": 5,
   "id": "d185d95f-c2c9-493a-a2c0-dcf54b067e65",
   "metadata": {},
   "outputs": [
    {
     "name": "stdout",
     "output_type": "stream",
     "text": [
      "dict_of_letters:  {'N': 0, 'V': 0, 'S': 0, 'C': 0, 'K': 0, 'H': 0, 'P': 0, 'B': 0, 'O': 0, 'F': 0}\n"
     ]
    },
    {
     "data": {
      "text/plain": [
       "{'N': 2380937199871,\n",
       " 'V': 718221446225,\n",
       " 'S': 4071368346378,\n",
       " 'C': 1960323176644,\n",
       " 'K': 3196188675295,\n",
       " 'H': 1167438720302,\n",
       " 'P': 1147534294695,\n",
       " 'B': 2924701934375,\n",
       " 'O': 2011650883324,\n",
       " 'F': 1312356250636}"
      ]
     },
     "execution_count": 5,
     "metadata": {},
     "output_type": "execute_result"
    }
   ],
   "source": [
    "# counting\n",
    "dict_of_letters = dict.fromkeys(set_of_letters, 0)\n",
    "print('dict_of_letters: ', dict_of_letters)\n",
    "\n",
    "for key in pairs_repetitions.keys():\n",
    "    dict_of_letters[key[0]] += pairs_repetitions[key]\n",
    "    dict_of_letters[key[1]] += pairs_repetitions[key]\n",
    "\n",
    "# border conditions\n",
    "dict_of_letters[poly[0]] += 1\n",
    "dict_of_letters[poly[-1]] += 1\n",
    "\n",
    "for key in dict_of_letters.keys():\n",
    "    dict_of_letters[key] //= 2\n",
    "    \n",
    "dict_of_letters"
   ]
  },
  {
   "cell_type": "code",
   "execution_count": 6,
   "id": "f39e734c-11b7-406a-b91a-71d92096731c",
   "metadata": {},
   "outputs": [
    {
     "data": {
      "text/plain": [
       "3353146900153"
      ]
     },
     "execution_count": 6,
     "metadata": {},
     "output_type": "execute_result"
    }
   ],
   "source": [
    "4071368346378-718221446225"
   ]
  },
  {
   "cell_type": "code",
   "execution_count": null,
   "id": "3d68f2ac-144c-4a55-bc3c-ad0e6e014e3f",
   "metadata": {},
   "outputs": [],
   "source": []
  }
 ],
 "metadata": {
  "kernelspec": {
   "display_name": "Python 3 (ipykernel)",
   "language": "python",
   "name": "python3"
  },
  "language_info": {
   "codemirror_mode": {
    "name": "ipython",
    "version": 3
   },
   "file_extension": ".py",
   "mimetype": "text/x-python",
   "name": "python",
   "nbconvert_exporter": "python",
   "pygments_lexer": "ipython3",
   "version": "3.8.12"
  }
 },
 "nbformat": 4,
 "nbformat_minor": 5
}
