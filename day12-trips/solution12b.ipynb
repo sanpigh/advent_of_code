{
 "cells": [
  {
   "cell_type": "code",
   "execution_count": 13,
   "id": "83479ad3-1968-42e9-b274-ad6935c580c7",
   "metadata": {},
   "outputs": [
    {
     "data": {
      "text/plain": [
       "{'start': ['A', 'b'],\n",
       " 'A': ['c', 'b', 'end'],\n",
       " 'b': ['A', 'd', 'end'],\n",
       " 'c': ['A'],\n",
       " 'd': ['b']}"
      ]
     },
     "execution_count": 13,
     "metadata": {},
     "output_type": "execute_result"
    }
   ],
   "source": [
    "import pandas as pd\n",
    "import numpy as np\n",
    "\n",
    "with open('inputtest') as f:\n",
    "    lines_bck = f.read().splitlines()\n",
    "\n",
    "# def split(word):\n",
    "#     return [char for char in word]    \n",
    "\n",
    "# lines = [char for char in [x for x in lines_bck]]\n",
    "lines = [x.split('-') for x in lines_bck]\n",
    "# a = np.asarray(lines)\n",
    "links = {}\n",
    "lower_list = []\n",
    "for line in lines:\n",
    "    if line[0] != 'end':\n",
    "        links[line[0]] = []\n",
    "    if line[1] != 'end':\n",
    "        links[line[1]] = []\n",
    "    \n",
    "for line in lines:\n",
    "    if line[0] != 'end' and line[1] != 'start':\n",
    "        links[line[0]].append(line[1])\n",
    "    if line[1] != 'end' and line[0] != 'start':\n",
    "        links[line[1]].append(line[0])\n",
    "    if line[0].islower():\n",
    "        if line[0] != 'end' and line[0] != 'start':\n",
    "            lower_list.append(line[0])\n",
    "    if line[1].islower():\n",
    "        if line[1] != 'end' and line[1] != 'start':\n",
    "            lower_list.append(line[1])\n",
    "\n",
    "lower_list = list(set(lower_list))\n",
    "    \n",
    "links_ini = links.copy()\n",
    "links_ini"
   ]
  },
  {
   "cell_type": "code",
   "execution_count": 10,
   "id": "656bd111-cc39-4f6d-91d7-8aeb042a3001",
   "metadata": {},
   "outputs": [
    {
     "name": "stdout",
     "output_type": "stream",
     "text": [
      "{'start': ['A', 'b'], 'A': ['c', 'b', 'end'], 'b': ['A', 'd', 'end'], 'c': ['A'], 'd': ['b']}\n"
     ]
    }
   ],
   "source": [
    "links = links_ini.copy()\n",
    "print(links)\n",
    "count = 0\n",
    "step = [['start']]\n",
    "count = 0\n",
    "trips = step.copy()\n",
    "\n",
    "for i in range(100):\n",
    "    new_trips = []\n",
    "    for row in trips:\n",
    "        for node in links[row[-1]]:\n",
    "            \n",
    "            if node == 'end':\n",
    "                count += 1\n",
    "            else:\n",
    "                if node[0].islower():\n",
    "                    if node not in row:\n",
    "                        new_row = row.copy()\n",
    "                        new_row.append(node)\n",
    "                        new_trips.append(new_row) ##############3                       \n",
    "                else:\n",
    "                    new_row = row.copy()\n",
    "                    new_row.append(node)\n",
    "                    new_trips.append(new_row) #################3\n",
    "\n",
    "    trips = new_trips.copy()\n",
    "    if trips == []:\n",
    "#         print(i)\n",
    "        break\n",
    "    "
   ]
  },
  {
   "cell_type": "code",
   "execution_count": 11,
   "id": "f876df6d-5198-416c-8203-1db08decffb9",
   "metadata": {},
   "outputs": [
    {
     "data": {
      "text/plain": [
       "10"
      ]
     },
     "execution_count": 11,
     "metadata": {},
     "output_type": "execute_result"
    }
   ],
   "source": [
    "count"
   ]
  },
  {
   "cell_type": "markdown",
   "id": "9d97be3d-6340-4ebd-b769-8971452edb47",
   "metadata": {},
   "source": [
    "## Second"
   ]
  },
  {
   "cell_type": "code",
   "execution_count": 28,
   "id": "06b2d583-0504-41c4-844b-4f16c95b7993",
   "metadata": {},
   "outputs": [
    {
     "data": {
      "text/plain": [
       "{'ey': ['dv', 'lx', 'end', 'AL', 'SP', 'zw'],\n",
       " 'dv': ['ey', 'YT', 'ms', 'AL', 'zw'],\n",
       " 'AL': ['ms', 'ey', 'dv', 'zw', 'hm'],\n",
       " 'ms': ['AL', 'hm', 'dv', 'YT'],\n",
       " 'lx': ['ey', 'hm', 'end', 'zw'],\n",
       " 'zw': ['YT', 'hm', 'AL', 'lx', 'ey', 'dv'],\n",
       " 'YT': ['zw', 'dv', 'ms'],\n",
       " 'hm': ['zw', 'ms', 'end', 'rh', 'lx', 'AL'],\n",
       " 'start': ['YT', 'ms', 'dv'],\n",
       " 'rh': ['hm'],\n",
       " 'SP': ['ey']}"
      ]
     },
     "execution_count": 28,
     "metadata": {},
     "output_type": "execute_result"
    }
   ],
   "source": [
    "with open('input') as f:\n",
    "    lines_bck = f.read().splitlines()\n",
    "\n",
    "# def split(word):\n",
    "#     return [char for char in word]    \n",
    "\n",
    "# lines = [char for char in [x for x in lines_bck]]\n",
    "lines = [x.split('-') for x in lines_bck]\n",
    "# a = np.asarray(lines)\n",
    "links = {}\n",
    "lower_list = []\n",
    "for line in lines:\n",
    "    if line[0] != 'end':\n",
    "        links[line[0]] = []\n",
    "    if line[1] != 'end':\n",
    "        links[line[1]] = []\n",
    "    \n",
    "for line in lines:\n",
    "    if line[0] != 'end' and line[1] != 'start':\n",
    "        links[line[0]].append(line[1])\n",
    "    if line[1] != 'end' and line[0] != 'start':\n",
    "        links[line[1]].append(line[0])\n",
    "    if line[0].islower():\n",
    "        if line[0] != 'end' and line[0] != 'start':\n",
    "            lower_list.append(line[0])\n",
    "    if line[1].islower():\n",
    "        if line[1] != 'end' and line[1] != 'start':\n",
    "            lower_list.append(line[1])\n",
    "\n",
    "lower_list = list(set(lower_list))\n",
    "    \n",
    "links_ini = links.copy()\n",
    "links_ini"
   ]
  },
  {
   "cell_type": "code",
   "execution_count": 30,
   "id": "114864b5-87f4-4a84-9e47-7ba03421c8be",
   "metadata": {
    "tags": []
   },
   "outputs": [
    {
     "name": "stdout",
     "output_type": "stream",
     "text": [
      "{'ey': ['dv', 'lx', 'end', 'AL', 'SP', 'zw'], 'dv': ['ey', 'YT', 'ms', 'AL', 'zw'], 'AL': ['ms', 'ey', 'dv', 'zw', 'hm'], 'ms': ['AL', 'hm', 'dv', 'YT'], 'lx': ['ey', 'hm', 'end', 'zw'], 'zw': ['YT', 'hm', 'AL', 'lx', 'ey', 'dv'], 'YT': ['zw', 'dv', 'ms'], 'hm': ['zw', 'ms', 'end', 'rh', 'lx', 'AL'], 'start': ['YT', 'ms', 'dv'], 'rh': ['hm'], 'SP': ['ey']}\n",
      "0 3\n",
      "1 12\n",
      "2 56\n",
      "3 248\n",
      "4 1008\n",
      "5 3668\n",
      "6 11392\n",
      "7 28924\n",
      "8 57810\n",
      "9 87438\n",
      "10 94403\n",
      "11 65057\n",
      "12 21492\n",
      "13 0\n"
     ]
    }
   ],
   "source": [
    "links = links_ini.copy()\n",
    "print(links)\n",
    "count = 0\n",
    "step = [['start']]\n",
    "count = 0\n",
    "trips = step.copy()\n",
    "\n",
    "for i in range(100):\n",
    "    print(i, end=' ')\n",
    "    new_trips = []\n",
    "    for row in trips:\n",
    "        for node in links[row[-1]]:\n",
    "            \n",
    "            if node == 'end':\n",
    "                count += 1\n",
    "            else:\n",
    "                if node[0].islower():\n",
    "                    new_row = row.copy()\n",
    "                    new_row.append(node)\n",
    "                    repet = 0\n",
    "                    for x in lower_list:\n",
    "                        tmp = new_row.count(x)\n",
    "                        if tmp < 3:\n",
    "                            if tmp//2 == 1:\n",
    "                                repet += 1\n",
    "                        else: \n",
    "                            repet = 99\n",
    "                    if repet <= 1:\n",
    "                        new_trips.append(new_row) ##############\n",
    "                else:\n",
    "                    new_row = row.copy()\n",
    "                    new_row.append(node)\n",
    "                    new_trips.append(new_row) #################3\n",
    "\n",
    "    trips = new_trips.copy()\n",
    "    print(len(trips))\n",
    "#     print(trips)\n",
    "    if trips == []:\n",
    "#         print(i)\n",
    "        break\n",
    "    \n",
    "    "
   ]
  },
  {
   "cell_type": "code",
   "execution_count": 31,
   "id": "4729b7c4-ff66-4419-baf2-873ed1074398",
   "metadata": {},
   "outputs": [
    {
     "data": {
      "text/plain": [
       "96988"
      ]
     },
     "execution_count": 31,
     "metadata": {},
     "output_type": "execute_result"
    }
   ],
   "source": [
    "count"
   ]
  },
  {
   "cell_type": "code",
   "execution_count": null,
   "id": "210d7e5e-4bbf-47f7-907b-c1dac7221a04",
   "metadata": {},
   "outputs": [],
   "source": [
    "count"
   ]
  },
  {
   "cell_type": "code",
   "execution_count": 8,
   "id": "43a1ac38-4496-4afe-8a5a-48f94e4eed80",
   "metadata": {},
   "outputs": [
    {
     "data": {
      "text/plain": [
       "1"
      ]
     },
     "execution_count": 8,
     "metadata": {},
     "output_type": "execute_result"
    }
   ],
   "source": [
    "2//2"
   ]
  },
  {
   "cell_type": "code",
   "execution_count": null,
   "id": "1773df99-a47f-4695-8eb7-4ccbcda3267a",
   "metadata": {},
   "outputs": [],
   "source": []
  }
 ],
 "metadata": {
  "kernelspec": {
   "display_name": "Python 3 (ipykernel)",
   "language": "python",
   "name": "python3"
  },
  "language_info": {
   "codemirror_mode": {
    "name": "ipython",
    "version": 3
   },
   "file_extension": ".py",
   "mimetype": "text/x-python",
   "name": "python",
   "nbconvert_exporter": "python",
   "pygments_lexer": "ipython3",
   "version": "3.8.12"
  }
 },
 "nbformat": 4,
 "nbformat_minor": 5
}
