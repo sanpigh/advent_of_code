{
 "cells": [
  {
   "cell_type": "code",
   "execution_count": 80,
   "id": "d2ccada9-9879-404a-ade4-fce2abe104ba",
   "metadata": {},
   "outputs": [],
   "source": [
    "import pandas as pd\n",
    "import numpy as np\n",
    "\n",
    "with open('input') as f:\n",
    "    lines_bck = f.read().splitlines()\n",
    "\n",
    "def split(word):\n",
    "    return [char for char in word]    \n",
    "\n",
    "lines = [char for char in [x for x in lines_bck]]\n",
    "lines = [split(x) for x in lines_bck]\n",
    "a = np.asarray(lines)"
   ]
  },
  {
   "cell_type": "code",
   "execution_count": 81,
   "id": "426c3ad1-22ad-4d5f-85e7-725bdde98525",
   "metadata": {},
   "outputs": [
    {
     "data": {
      "text/plain": [
       "array([[-10, -10, -10, -10, -10, -10, -10, -10, -10, -10, -10, -10],\n",
       "       [-10,   3,   1,   7,   2,   5,   3,   7,   6,   8,   8, -10],\n",
       "       [-10,   4,   5,   6,   6,   4,   8,   3,   1,   2,   5, -10],\n",
       "       [-10,   6,   3,   7,   4,   5,   1,   2,   6,   5,   3, -10],\n",
       "       [-10,   8,   3,   2,   1,   1,   4,   8,   8,   8,   5, -10],\n",
       "       [-10,   4,   3,   4,   2,   7,   4,   7,   7,   5,   8, -10],\n",
       "       [-10,   1,   3,   6,   2,   1,   8,   8,   5,   8,   2, -10],\n",
       "       [-10,   7,   5,   8,   2,   2,   1,   3,   1,   3,   2, -10],\n",
       "       [-10,   6,   8,   8,   7,   8,   7,   5,   2,   6,   8, -10],\n",
       "       [-10,   7,   6,   3,   5,   1,   1,   2,   7,   8,   7, -10],\n",
       "       [-10,   7,   2,   4,   2,   7,   8,   7,   2,   7,   3, -10],\n",
       "       [-10, -10, -10, -10, -10, -10, -10, -10, -10, -10, -10, -10]])"
      ]
     },
     "execution_count": 81,
     "metadata": {},
     "output_type": "execute_result"
    }
   ],
   "source": [
    "octo = a.astype(int)\n",
    "octo\n",
    "\n",
    "shape = octo.shape\n",
    "shape = (octo.shape[0]+2, octo.shape[1]+2)\n",
    "b = np.zeros(shape, dtype=int)\n",
    "b = b-10\n",
    "b[1:-1, 1:-1] = octo\n",
    "octo = b.copy()\n",
    "octo"
   ]
  },
  {
   "cell_type": "code",
   "execution_count": 82,
   "id": "04f2a95c-8277-43e5-adc7-168c8437f7ac",
   "metadata": {
    "jupyter": {
     "source_hidden": true
    },
    "tags": []
   },
   "outputs": [],
   "source": [
    "def plus1(x):\n",
    "    y = x+1\n",
    "    if y < 10:\n",
    "        return y\n",
    "    else:\n",
    "        return 0\n",
    "    \n",
    "def plus10(x):\n",
    "    y = x+1\n",
    "    if y < 10:\n",
    "        return y\n",
    "    else:\n",
    "        return 0\n",
    "    "
   ]
  },
  {
   "cell_type": "code",
   "execution_count": 83,
   "id": "26409cb4-a8d1-4ba5-b7e8-bcc2b8a56bdf",
   "metadata": {},
   "outputs": [
    {
     "name": "stdout",
     "output_type": "stream",
     "text": [
      "[[-10 -10 -10 -10 -10 -10 -10 -10 -10 -10 -10 -10]\n",
      " [-10   3   1   7   2   5   3   7   6   8   8 -10]\n",
      " [-10   4   5   6   6   4   8   3   1   2   5 -10]\n",
      " [-10   6   3   7   4   5   1   2   6   5   3 -10]\n",
      " [-10   8   3   2   1   1   4   8   8   8   5 -10]\n",
      " [-10   4   3   4   2   7   4   7   7   5   8 -10]\n",
      " [-10   1   3   6   2   1   8   8   5   8   2 -10]\n",
      " [-10   7   5   8   2   2   1   3   1   3   2 -10]\n",
      " [-10   6   8   8   7   8   7   5   2   6   8 -10]\n",
      " [-10   7   6   3   5   1   1   2   7   8   7 -10]\n",
      " [-10   7   2   4   2   7   8   7   2   7   3 -10]\n",
      " [-10 -10 -10 -10 -10 -10 -10 -10 -10 -10 -10 -10]]\n"
     ]
    }
   ],
   "source": [
    "octo = b.copy()\n",
    "# octo[10,10] = 9\n",
    "print(octo)\n",
    "\n",
    "\n",
    "\n",
    "count = 0\n",
    "flash = 0\n",
    "while count < 100:\n",
    "#     print(count)\n",
    "    count += 1\n",
    "\n",
    "    for i in range(1,11):\n",
    "        for j in range(1,11):\n",
    "            octo[i,j] = octo[i,j]+1\n",
    "    #         print(i, j, octo[i,j])\n",
    "    #         print\n",
    "#     print(octo)\n",
    "\n",
    "    stop = False\n",
    "    while stop == False:\n",
    "#         print('*')\n",
    "        stop = True\n",
    "        for i in range(1,11):\n",
    "            for j in range(1,11):\n",
    "                if octo[i,j] >= 10:\n",
    "    #                 print(i,j, end=' ')\n",
    "                    stop = False\n",
    "                    octo[i,j]   = -10000\n",
    "                    octo[i+1,j] += 1\n",
    "                    octo[i,j+1] += 1\n",
    "                    octo[i-1,j] += 1\n",
    "                    octo[i,j-1] += 1\n",
    "\n",
    "                    octo[i+1,j+1] += 1\n",
    "                    octo[i-1,j-1] += 1\n",
    "                    octo[i+1,j-1] += 1\n",
    "                    octo[i-1,j+1] += 1\n",
    "\n",
    "    for i in range(1,11):\n",
    "        for j in range(1,11):\n",
    "                if octo[i,j] < 0:\n",
    "                    octo[i,j] = 0\n",
    "                    flash += 1\n",
    "                \n",
    "\n",
    "        \n",
    "        \n",
    "#         print(octo[i,j], plus1()\n",
    "#         octo"
   ]
  },
  {
   "cell_type": "code",
   "execution_count": 84,
   "id": "5738411c-b2d0-4916-967f-1e86d5906fdc",
   "metadata": {},
   "outputs": [
    {
     "data": {
      "text/plain": [
       "array([[ 4, 19, 34, 35, 37, 39, 42, 41, 40, 37, 21,  5],\n",
       "       [19,  4,  4,  5,  7,  5,  0,  0,  0,  0,  0, 21],\n",
       "       [34,  4,  5,  7,  0,  0,  0,  0,  0,  0,  0, 37],\n",
       "       [36,  4,  6,  0,  0,  0,  6,  6,  0,  0,  0, 39],\n",
       "       [38,  4,  6,  0,  0,  5,  3,  3,  5,  0,  0, 40],\n",
       "       [41,  5,  6,  6,  9,  3,  2,  2,  3,  5,  0, 39],\n",
       "       [40,  2,  6,  4,  7,  2,  2,  2,  2,  3,  3, 37],\n",
       "       [38,  2,  9,  7,  9,  2,  2,  2,  2,  2,  2, 35],\n",
       "       [35,  2,  2,  2,  2,  2,  2,  2,  2,  2,  2, 35],\n",
       "       [35,  3,  3,  2,  2,  2,  2,  2,  2,  2,  2, 34],\n",
       "       [20,  0,  3,  2,  2,  2,  2,  2,  2,  2,  8, 19],\n",
       "       [ 5, 20, 35, 35, 35, 35, 35, 35, 35, 34, 19,  4]])"
      ]
     },
     "execution_count": 84,
     "metadata": {},
     "output_type": "execute_result"
    }
   ],
   "source": [
    "octo"
   ]
  },
  {
   "cell_type": "code",
   "execution_count": 85,
   "id": "ae2a6fc4-e7ec-4467-8783-1e3c82c295ac",
   "metadata": {},
   "outputs": [
    {
     "data": {
      "text/plain": [
       "35"
      ]
     },
     "execution_count": 85,
     "metadata": {},
     "output_type": "execute_result"
    }
   ],
   "source": [
    "35"
   ]
  },
  {
   "cell_type": "code",
   "execution_count": 86,
   "id": "de150b70-d5b3-4a9c-a45d-a027310ab5ca",
   "metadata": {},
   "outputs": [
    {
     "data": {
      "text/plain": [
       "1688"
      ]
     },
     "execution_count": 86,
     "metadata": {},
     "output_type": "execute_result"
    }
   ],
   "source": [
    "flash"
   ]
  },
  {
   "cell_type": "code",
   "execution_count": 87,
   "id": "e7656bd4-0eca-42af-bc85-78f38d4d8552",
   "metadata": {},
   "outputs": [
    {
     "name": "stdout",
     "output_type": "stream",
     "text": [
      "[[-10 -10 -10 -10 -10 -10 -10 -10 -10 -10 -10 -10]\n",
      " [-10   3   1   7   2   5   3   7   6   8   8 -10]\n",
      " [-10   4   5   6   6   4   8   3   1   2   5 -10]\n",
      " [-10   6   3   7   4   5   1   2   6   5   3 -10]\n",
      " [-10   8   3   2   1   1   4   8   8   8   5 -10]\n",
      " [-10   4   3   4   2   7   4   7   7   5   8 -10]\n",
      " [-10   1   3   6   2   1   8   8   5   8   2 -10]\n",
      " [-10   7   5   8   2   2   1   3   1   3   2 -10]\n",
      " [-10   6   8   8   7   8   7   5   2   6   8 -10]\n",
      " [-10   7   6   3   5   1   1   2   7   8   7 -10]\n",
      " [-10   7   2   4   2   7   8   7   2   7   3 -10]\n",
      " [-10 -10 -10 -10 -10 -10 -10 -10 -10 -10 -10 -10]]\n",
      "403\n"
     ]
    }
   ],
   "source": [
    "octo = b.copy()\n",
    "# octo[10,10] = 9\n",
    "print(octo)\n",
    "\n",
    "\n",
    "\n",
    "count = 0\n",
    "flash = 0\n",
    "STOP = False\n",
    "while STOP == False:\n",
    "#     print(count)\n",
    "    count += 1\n",
    "\n",
    "    for i in range(1,11):\n",
    "        for j in range(1,11):\n",
    "            octo[i,j] = octo[i,j]+1\n",
    "    #         print(i, j, octo[i,j])\n",
    "    #         print\n",
    "#     print(octo)\n",
    "\n",
    "    stop = False\n",
    "    while stop == False:\n",
    "#         print('*')\n",
    "        stop = True\n",
    "        for i in range(1,11):\n",
    "            for j in range(1,11):\n",
    "                if octo[i,j] >= 10:\n",
    "    #                 print(i,j, end=' ')\n",
    "                    stop = False\n",
    "                    octo[i,j]   = -10000\n",
    "                    octo[i+1,j] += 1\n",
    "                    octo[i,j+1] += 1\n",
    "                    octo[i-1,j] += 1\n",
    "                    octo[i,j-1] += 1\n",
    "\n",
    "                    octo[i+1,j+1] += 1\n",
    "                    octo[i-1,j-1] += 1\n",
    "                    octo[i+1,j-1] += 1\n",
    "                    octo[i-1,j+1] += 1\n",
    "\n",
    "    flash = 0\n",
    "    for i in range(1,11):\n",
    "        for j in range(1,11):\n",
    "                if octo[i,j] < 0:\n",
    "                    octo[i,j] = 0\n",
    "                    flash += 1\n",
    "    if flash == 100:\n",
    "        STOP = True\n",
    "        print(count)\n",
    "\n",
    "        \n",
    "        \n",
    "#         print(octo[i,j], plus1()\n",
    "#         octo"
   ]
  },
  {
   "cell_type": "code",
   "execution_count": null,
   "id": "d2884ac7-7e23-4cc5-ac70-d3612c074d75",
   "metadata": {},
   "outputs": [],
   "source": []
  }
 ],
 "metadata": {
  "kernelspec": {
   "display_name": "Python 3 (ipykernel)",
   "language": "python",
   "name": "python3"
  },
  "language_info": {
   "codemirror_mode": {
    "name": "ipython",
    "version": 3
   },
   "file_extension": ".py",
   "mimetype": "text/x-python",
   "name": "python",
   "nbconvert_exporter": "python",
   "pygments_lexer": "ipython3",
   "version": "3.8.12"
  }
 },
 "nbformat": 4,
 "nbformat_minor": 5
}
